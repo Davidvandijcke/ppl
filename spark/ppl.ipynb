{
 "cells": [
  {
   "cell_type": "markdown",
   "id": "02065207-e92c-480a-8b5f-381c7bdd0eb2",
   "metadata": {},
   "source": [
    "# People Data Labs Exploration"
   ]
  },
  {
   "cell_type": "code",
   "execution_count": 1,
   "id": "1bff0e30-f409-4968-a4bc-398d57888681",
   "metadata": {
    "execution": {
     "iopub.execute_input": "2024-03-18T19:28:52.170031Z",
     "iopub.status.busy": "2024-03-18T19:28:52.169717Z",
     "iopub.status.idle": "2024-03-18T19:30:04.056385Z",
     "shell.execute_reply": "2024-03-18T19:30:04.055515Z",
     "shell.execute_reply.started": "2024-03-18T19:28:52.169998Z"
    },
    "tags": []
   },
   "outputs": [
    {
     "data": {
      "application/vnd.jupyter.widget-view+json": {
       "model_id": "b6166851099249a0af8c638f706c37f8",
       "version_major": 2,
       "version_minor": 0
      },
      "text/plain": [
       "VBox()"
      ]
     },
     "metadata": {},
     "output_type": "display_data"
    },
    {
     "name": "stdout",
     "output_type": "stream",
     "text": [
      "Starting Spark application\n"
     ]
    },
    {
     "data": {
      "text/html": [
       "<table>\n<tbody><tr><th>ID</th><th>YARN Application ID</th><th>Kind</th><th>State</th><th>Spark UI</th><th>Driver log</th><th>User</th><th>Current session?</th></tr><tr><td>0</td><td>application_1710789961131_0001</td><td>pyspark</td><td>idle</td><td><a target=\"_blank\" href=\"http://ip-172-31-47-129.ec2.internal:20888/proxy/application_1710789961131_0001/\" class=\"emr-proxy-link j-2AF139E9GAFEA application_1710789961131_0001\" emr-resource=\"j-2AF139E9GAFEA\n\" application-id=\"application_1710789961131_0001\">Link</a></td><td><a target=\"_blank\" href=\"http://ip-172-31-37-107.ec2.internal:8042/node/containerlogs/container_1710789961131_0001_01_000001/livy\">Link</a></td><td>None</td><td>✔</td></tr></tbody></table>"
      ],
      "text/plain": [
       "<IPython.core.display.HTML object>"
      ]
     },
     "metadata": {},
     "output_type": "display_data"
    },
    {
     "data": {
      "application/vnd.jupyter.widget-view+json": {
       "model_id": "",
       "version_major": 2,
       "version_minor": 0
      },
      "text/plain": [
       "FloatProgress(value=0.0, bar_style='info', description='Progress:', layout=Layout(height='25px', width='50%'),…"
      ]
     },
     "metadata": {},
     "output_type": "display_data"
    },
    {
     "name": "stdout",
     "output_type": "stream",
     "text": [
      "SparkSession available as 'spark'.\n"
     ]
    },
    {
     "data": {
      "application/vnd.jupyter.widget-view+json": {
       "model_id": "",
       "version_major": 2,
       "version_minor": 0
      },
      "text/plain": [
       "FloatProgress(value=0.0, bar_style='info', description='Progress:', layout=Layout(height='25px', width='50%'),…"
      ]
     },
     "metadata": {},
     "output_type": "display_data"
    },
    {
     "name": "stdout",
     "output_type": "stream",
     "text": [
      "Collecting thefuzz\n",
      "  Downloading thefuzz-0.20.0-py3-none-any.whl.metadata (3.9 kB)\n",
      "Collecting rapidfuzz<4.0.0,>=3.0.0 (from thefuzz)\n",
      "  Downloading rapidfuzz-3.4.0-cp37-cp37m-manylinux_2_17_x86_64.manylinux2014_x86_64.whl.metadata (11 kB)\n",
      "Downloading thefuzz-0.20.0-py3-none-any.whl (15 kB)\n",
      "Downloading rapidfuzz-3.4.0-cp37-cp37m-manylinux_2_17_x86_64.manylinux2014_x86_64.whl (3.2 MB)\n",
      "   ━━━━━━━━━━━━━━━━━━━━━━━━━━━━━━━━━━━━━━━━ 3.2/3.2 MB 184.7 MB/s eta 0:00:00\n",
      "Installing collected packages: rapidfuzz, thefuzz\n",
      "Successfully installed rapidfuzz-3.4.0 thefuzz-0.20.0\n",
      "\n",
      "WARNING: The directory '/home/.cache/pip' or its parent directory is not owned or is not writable by the current user. The cache has been disabled. Check the permissions and owner of that directory. If executing pip with sudo, you should use sudo's -H flag."
     ]
    }
   ],
   "source": [
    "import os\n",
    "import requests\n",
    "import pandas as pd\n",
    "import numpy as np \n",
    "import boto3\n",
    "\n",
    "bsdir = \"s3://ipsos-dvd/\"\n",
    "data_dir = bsdir + \"ppl/data/\"\n",
    "data_ppl = \"s3://external-people-data-labs/\"\n",
    "\n",
    "\n",
    "from pyspark import SparkContext\n",
    "from pyspark.ml.feature import StringIndexer\n",
    "\n",
    "\n",
    "from pyspark.sql import SQLContext, SparkSession\n",
    "from pyspark.sql.window import Window\n",
    "from pyspark.sql.types import (\n",
    "    StructType,\n",
    "    LongType,\n",
    "    StructField,\n",
    "    IntegerType,\n",
    "    StringType,\n",
    "    DoubleType,\n",
    "    TimestampType,\n",
    "    ArrayType\n",
    ")\n",
    "import pyspark.sql.functions as F\n",
    "sc.install_pypi_package(\"thefuzz\")\n",
    "from thefuzz import process, fuzz"
   ]
  },
  {
   "cell_type": "code",
   "execution_count": 6,
   "id": "b79fdb76-da72-4840-bc71-8346a71ed461",
   "metadata": {
    "execution": {
     "iopub.execute_input": "2024-02-16T20:40:52.723876Z",
     "iopub.status.busy": "2024-02-16T20:40:52.723569Z",
     "iopub.status.idle": "2024-02-16T20:41:02.020800Z",
     "shell.execute_reply": "2024-02-16T20:41:02.020192Z",
     "shell.execute_reply.started": "2024-02-16T20:40:52.723850Z"
    },
    "tags": []
   },
   "outputs": [
    {
     "data": {
      "application/vnd.jupyter.widget-view+json": {
       "model_id": "b24dde62cd8246628f100ecb77b20acd",
       "version_major": 2,
       "version_minor": 0
      },
      "text/plain": [
       "VBox()"
      ]
     },
     "metadata": {},
     "output_type": "display_data"
    },
    {
     "data": {
      "application/vnd.jupyter.widget-view+json": {
       "model_id": "",
       "version_major": 2,
       "version_minor": 0
      },
      "text/plain": [
       "FloatProgress(value=0.0, bar_style='info', description='Progress:', layout=Layout(height='25px', width='50%'),…"
      ]
     },
     "metadata": {},
     "output_type": "display_data"
    }
   ],
   "source": [
    "## check nepal for megan\n",
    "nep = spark.read.option(\"recursiveFileLookup\", \"true\").parquet(\"s3://external-veraset-data-us-west-2/nepal/*\")"
   ]
  },
  {
   "cell_type": "code",
   "execution_count": 8,
   "id": "75767a2b-0c7d-4972-9cd0-8251c1a7a334",
   "metadata": {
    "execution": {
     "iopub.execute_input": "2024-02-16T20:41:14.710557Z",
     "iopub.status.busy": "2024-02-16T20:41:14.710262Z",
     "iopub.status.idle": "2024-02-16T20:42:00.146826Z",
     "shell.execute_reply": "2024-02-16T20:42:00.146089Z",
     "shell.execute_reply.started": "2024-02-16T20:41:14.710533Z"
    },
    "tags": []
   },
   "outputs": [
    {
     "data": {
      "application/vnd.jupyter.widget-view+json": {
       "model_id": "809d62094e5b4ef4a3f6107b4fd9dd24",
       "version_major": 2,
       "version_minor": 0
      },
      "text/plain": [
       "VBox()"
      ]
     },
     "metadata": {},
     "output_type": "display_data"
    },
    {
     "data": {
      "application/vnd.jupyter.widget-view+json": {
       "model_id": "",
       "version_major": 2,
       "version_minor": 0
      },
      "text/plain": [
       "FloatProgress(value=0.0, bar_style='info', description='Progress:', layout=Layout(height='25px', width='50%'),…"
      ]
     },
     "metadata": {},
     "output_type": "display_data"
    },
    {
     "name": "stdout",
     "output_type": "stream",
     "text": [
      "28284405"
     ]
    }
   ],
   "source": [
    "nep.count()"
   ]
  },
  {
   "cell_type": "code",
   "execution_count": 9,
   "id": "873c6f4e-840d-454d-bc02-767322aac951",
   "metadata": {
    "execution": {
     "iopub.execute_input": "2024-02-16T20:42:02.924886Z",
     "iopub.status.busy": "2024-02-16T20:42:02.924598Z",
     "iopub.status.idle": "2024-02-16T20:43:04.402562Z",
     "shell.execute_reply": "2024-02-16T20:43:04.401966Z",
     "shell.execute_reply.started": "2024-02-16T20:42:02.924862Z"
    }
   },
   "outputs": [
    {
     "data": {
      "application/vnd.jupyter.widget-view+json": {
       "model_id": "456e52365fd54e9fb3d979c3e3617890",
       "version_major": 2,
       "version_minor": 0
      },
      "text/plain": [
       "VBox()"
      ]
     },
     "metadata": {},
     "output_type": "display_data"
    },
    {
     "data": {
      "application/vnd.jupyter.widget-view+json": {
       "model_id": "",
       "version_major": 2,
       "version_minor": 0
      },
      "text/plain": [
       "FloatProgress(value=0.0, bar_style='info', description='Progress:', layout=Layout(height='25px', width='50%'),…"
      ]
     },
     "metadata": {},
     "output_type": "display_data"
    },
    {
     "name": "stdout",
     "output_type": "stream",
     "text": [
      "+-----------+\n",
      "|count(caid)|\n",
      "+-----------+\n",
      "|     282536|\n",
      "+-----------+"
     ]
    }
   ],
   "source": [
    "nep.agg(F.countDistinct(\"caid\")).show()"
   ]
  },
  {
   "cell_type": "code",
   "execution_count": 10,
   "id": "0b642173-af72-409f-9872-eb68a4824692",
   "metadata": {
    "execution": {
     "iopub.execute_input": "2024-02-16T20:43:04.404029Z",
     "iopub.status.busy": "2024-02-16T20:43:04.403809Z",
     "iopub.status.idle": "2024-02-16T20:43:59.858659Z",
     "shell.execute_reply": "2024-02-16T20:43:59.858055Z",
     "shell.execute_reply.started": "2024-02-16T20:43:04.404007Z"
    }
   },
   "outputs": [
    {
     "data": {
      "application/vnd.jupyter.widget-view+json": {
       "model_id": "82f2f3b3b5d64de7a14e67ca04d4e68a",
       "version_major": 2,
       "version_minor": 0
      },
      "text/plain": [
       "VBox()"
      ]
     },
     "metadata": {},
     "output_type": "display_data"
    },
    {
     "data": {
      "application/vnd.jupyter.widget-view+json": {
       "model_id": "",
       "version_major": 2,
       "version_minor": 0
      },
      "text/plain": [
       "FloatProgress(value=0.0, bar_style='info', description='Progress:', layout=Layout(height='25px', width='50%'),…"
      ]
     },
     "metadata": {},
     "output_type": "display_data"
    },
    {
     "name": "stdout",
     "output_type": "stream",
     "text": [
      "+-------------------+--------------------+\n",
      "| min(utc_timestamp)|  max(utc_timestamp)|\n",
      "+-------------------+--------------------+\n",
      "|2024-01-01 00:00:00|2024-01-14 23:59:...|\n",
      "+-------------------+--------------------+"
     ]
    }
   ],
   "source": [
    "nep.agg(F.min(\"utc_timestamp\"), F.max(\"utc_timestamp\")).show()"
   ]
  },
  {
   "cell_type": "markdown",
   "id": "d888e1df-9b57-4f8a-8775-2ce07cea1522",
   "metadata": {},
   "source": [
    "### Pull Experience from API"
   ]
  },
  {
   "cell_type": "code",
   "execution_count": null,
   "id": "b626ae04-386d-41c8-ac98-237f58cc87bd",
   "metadata": {
    "execution": {
     "iopub.execute_input": "2024-01-29T20:05:35.250216Z",
     "iopub.status.busy": "2024-01-29T20:05:35.249875Z",
     "iopub.status.idle": "2024-01-29T20:05:35.994197Z",
     "shell.execute_reply": "2024-01-29T20:05:35.993551Z",
     "shell.execute_reply.started": "2024-01-29T20:05:35.250189Z"
    },
    "tags": []
   },
   "outputs": [
    {
     "data": {
      "application/vnd.jupyter.widget-view+json": {
       "model_id": "c98584c2a6b9493ba1c6fa9b9e02a03c",
       "version_major": 2,
       "version_minor": 0
      },
      "text/plain": [
       "VBox()"
      ]
     },
     "metadata": {},
     "output_type": "display_data"
    },
    {
     "data": {
      "application/vnd.jupyter.widget-view+json": {
       "model_id": "",
       "version_major": 2,
       "version_minor": 0
      },
      "text/plain": [
       "FloatProgress(value=0.0, bar_style='info', description='Progress:', layout=Layout(height='25px', width='50%'),…"
      ]
     },
     "metadata": {},
     "output_type": "display_data"
    },
    {
     "name": "stdout",
     "output_type": "stream",
     "text": [
      "{'total_files': 1024, 'total_size': 220265634728, 'partition_column': None, 'partition_aggregation': None, 'min_partition_key': None, 'max_partition_key': None}"
     ]
    }
   ],
   "source": [
    "import requests\n",
    " \n",
    "API_KEY = \"FAgFuQO8.pa4ELHbKch2xGuBpLjDPZZsKC9BFcJDmxB1DAGEKAHvXRj5JoJt1xHpE\"\n",
    "PRODUCT_API_PATH = \"https://app.deweydata.io/external-api/v3/products/8279ab69-568c-4b9a-b08e-d94a86525189/files\"\n",
    "\n",
    "results = requests.get(url=PRODUCT_API_PATH+\"/metadata\",\n",
    "                       headers={\n",
    "                        \"X-API-KEY\": API_KEY,\n",
    "                        'accept': 'application/json'\n",
    "                       })\n",
    "print(results.json())"
   ]
  },
  {
   "cell_type": "code",
   "execution_count": null,
   "id": "7780c86f-71fa-4c61-94c7-df8b52189188",
   "metadata": {
    "collapsed": true,
    "execution": {
     "iopub.execute_input": "2024-01-29T20:05:35.995459Z",
     "iopub.status.busy": "2024-01-29T20:05:35.995247Z",
     "iopub.status.idle": "2024-01-29T22:45:34.482064Z"
    },
    "jupyter": {
     "outputs_hidden": true
    },
    "tags": []
   },
   "outputs": [
    {
     "data": {
      "application/vnd.jupyter.widget-view+json": {
       "model_id": "64a8f94f9b9b4ebda85d2d387d75da00",
       "version_major": 2,
       "version_minor": 0
      },
      "text/plain": [
       "VBox()"
      ]
     },
     "metadata": {},
     "output_type": "display_data"
    },
    {
     "data": {
      "application/vnd.jupyter.widget-view+json": {
       "model_id": "",
       "version_major": 2,
       "version_minor": 0
      },
      "text/plain": [
       "FloatProgress(value=0.0, bar_style='info', description='Progress:', layout=Layout(height='25px', width='50%'),…"
      ]
     },
     "metadata": {},
     "output_type": "display_data"
    },
    {
     "name": "stderr",
     "output_type": "stream",
     "text": [
      "An error was encountered:\n",
      "'download_links'\n",
      "Traceback (most recent call last):\n",
      "KeyError: 'download_links'\n",
      "\n"
     ]
    }
   ],
   "source": [
    "# import requests library to call API endpoint\n",
    "import requests\n",
    "\n",
    "s3 = boto3.resource('s3')\n",
    "\n",
    "# loop through all API result pages, keeping track of number of downloaded files\n",
    "page = 1\n",
    "download_count = 0\n",
    "while True:\n",
    "    # get results from API endpoint, using API key for authentication, for a specific page\n",
    "    results = requests.get(url=PRODUCT_API_PATH,\n",
    "                           params={'page': page},\n",
    "                           headers={'X-API-KEY': API_KEY,\n",
    "                                    'accept': 'application/json'\n",
    "                                   })\n",
    "    response_json = results.json()\n",
    "\n",
    "    # for each result page, loop through download links and save to your computer\n",
    "    for link_data in response_json['download_links']:\n",
    "        print(f\"Downloading file {link_data['file_name']}...\")\n",
    "        data = requests.get(link_data['link'])\n",
    "        object = s3.Object('ipsos-dvd', 'ppl/data/' + link_data['file_name'])\n",
    "        object.put(Body=data.content)\n",
    "        download_count += 1\n",
    "\n",
    "    # only continue if there are more result pages to process\n",
    "    total_pages = response_json['total_pages']\n",
    "    if page >= total_pages:\n",
    "        break\n",
    "    page += 1\n",
    "\n",
    "print(f\"Successfully downloaded {download_count} files.\")"
   ]
  },
  {
   "cell_type": "markdown",
   "id": "4524e02e-3b03-413b-8ae9-0b4a9ac2ee01",
   "metadata": {},
   "source": [
    "### Load Experience Data"
   ]
  },
  {
   "cell_type": "code",
   "execution_count": 7,
   "id": "ad5d15ed-682f-4d12-8225-83ed9e5678f5",
   "metadata": {
    "execution": {
     "iopub.execute_input": "2024-03-14T15:15:15.611657Z",
     "iopub.status.busy": "2024-03-14T15:15:15.611346Z",
     "iopub.status.idle": "2024-03-14T15:15:38.972727Z",
     "shell.execute_reply": "2024-03-14T15:15:38.971931Z",
     "shell.execute_reply.started": "2024-03-14T15:15:15.611629Z"
    },
    "tags": []
   },
   "outputs": [
    {
     "data": {
      "application/vnd.jupyter.widget-view+json": {
       "model_id": "87cf9258873845379c36b9645d067fba",
       "version_major": 2,
       "version_minor": 0
      },
      "text/plain": [
       "VBox()"
      ]
     },
     "metadata": {},
     "output_type": "display_data"
    },
    {
     "data": {
      "application/vnd.jupyter.widget-view+json": {
       "model_id": "",
       "version_major": 2,
       "version_minor": 0
      },
      "text/plain": [
       "FloatProgress(value=0.0, bar_style='info', description='Progress:', layout=Layout(height='25px', width='50%'),…"
      ]
     },
     "metadata": {},
     "output_type": "display_data"
    }
   ],
   "source": [
    "exp =  spark.read.option(\"multiLine\", \"true\") \\\n",
    "                .option(\"escape\", \"\\\"\") \\\n",
    "                .option(\"quote\", '\"').csv(data_ppl + \"people-experience/data/\", header=True)"
   ]
  },
  {
   "cell_type": "code",
   "execution_count": 8,
   "id": "afb39acb-c4e8-46cb-af71-243de51a50eb",
   "metadata": {
    "execution": {
     "iopub.execute_input": "2024-03-14T15:15:38.974080Z",
     "iopub.status.busy": "2024-03-14T15:15:38.973810Z",
     "iopub.status.idle": "2024-03-14T15:15:39.234752Z",
     "shell.execute_reply": "2024-03-14T15:15:39.234092Z",
     "shell.execute_reply.started": "2024-03-14T15:15:38.974055Z"
    },
    "tags": []
   },
   "outputs": [
    {
     "data": {
      "application/vnd.jupyter.widget-view+json": {
       "model_id": "4aec15445b51461e9de957ed22762c28",
       "version_major": 2,
       "version_minor": 0
      },
      "text/plain": [
       "VBox()"
      ]
     },
     "metadata": {},
     "output_type": "display_data"
    },
    {
     "data": {
      "application/vnd.jupyter.widget-view+json": {
       "model_id": "",
       "version_major": 2,
       "version_minor": 0
      },
      "text/plain": [
       "FloatProgress(value=0.0, bar_style='info', description='Progress:', layout=Layout(height='25px', width='50%'),…"
      ]
     },
     "metadata": {},
     "output_type": "display_data"
    }
   ],
   "source": [
    "exp = exp.filter(F.col(\"COMPANY_LOCATION_COUNTRY\") == \"united states\")"
   ]
  },
  {
   "cell_type": "code",
   "execution_count": 9,
   "id": "3bde0a3f-26c0-453c-999f-1afcc7ae5a39",
   "metadata": {
    "execution": {
     "iopub.execute_input": "2024-03-14T15:15:39.236400Z",
     "iopub.status.busy": "2024-03-14T15:15:39.236142Z",
     "iopub.status.idle": "2024-03-14T15:24:22.263350Z",
     "shell.execute_reply": "2024-03-14T15:24:22.262509Z",
     "shell.execute_reply.started": "2024-03-14T15:15:39.236376Z"
    },
    "tags": []
   },
   "outputs": [
    {
     "data": {
      "application/vnd.jupyter.widget-view+json": {
       "model_id": "8a270cd7f95e41c3923672ae3a515ff5",
       "version_major": 2,
       "version_minor": 0
      },
      "text/plain": [
       "VBox()"
      ]
     },
     "metadata": {},
     "output_type": "display_data"
    },
    {
     "data": {
      "application/vnd.jupyter.widget-view+json": {
       "model_id": "",
       "version_major": 2,
       "version_minor": 0
      },
      "text/plain": [
       "FloatProgress(value=0.0, bar_style='info', description='Progress:', layout=Layout(height='25px', width='50%'),…"
      ]
     },
     "metadata": {},
     "output_type": "display_data"
    }
   ],
   "source": [
    "exp.write.mode(\"overwrite\").parquet(data_dir + \"people-experience_us.parquet\")"
   ]
  },
  {
   "cell_type": "markdown",
   "id": "aa099150-6ec1-44c5-9e4f-c3664ca9b6aa",
   "metadata": {},
   "source": [
    "### Reload"
   ]
  },
  {
   "cell_type": "code",
   "execution_count": 10,
   "id": "3de781fd-4ef0-4b5f-ae95-5725b75547fd",
   "metadata": {
    "execution": {
     "iopub.execute_input": "2024-03-14T15:24:22.264940Z",
     "iopub.status.busy": "2024-03-14T15:24:22.264612Z",
     "iopub.status.idle": "2024-03-14T15:24:23.018310Z",
     "shell.execute_reply": "2024-03-14T15:24:23.017561Z",
     "shell.execute_reply.started": "2024-03-14T15:24:22.264884Z"
    },
    "tags": []
   },
   "outputs": [
    {
     "data": {
      "application/vnd.jupyter.widget-view+json": {
       "model_id": "edf8a6403645477bb888bbc97f994a60",
       "version_major": 2,
       "version_minor": 0
      },
      "text/plain": [
       "VBox()"
      ]
     },
     "metadata": {},
     "output_type": "display_data"
    },
    {
     "data": {
      "application/vnd.jupyter.widget-view+json": {
       "model_id": "",
       "version_major": 2,
       "version_minor": 0
      },
      "text/plain": [
       "FloatProgress(value=0.0, bar_style='info', description='Progress:', layout=Layout(height='25px', width='50%'),…"
      ]
     },
     "metadata": {},
     "output_type": "display_data"
    }
   ],
   "source": [
    "exp = spark.read.parquet(data_dir + \"people-experience_us.parquet\")"
   ]
  },
  {
   "cell_type": "code",
   "execution_count": 11,
   "id": "fb4cac74-6e9b-4aa2-86ac-2c1abf2b129b",
   "metadata": {
    "execution": {
     "iopub.execute_input": "2024-03-14T15:24:23.019911Z",
     "iopub.status.busy": "2024-03-14T15:24:23.019573Z",
     "iopub.status.idle": "2024-03-14T15:24:26.287397Z",
     "shell.execute_reply": "2024-03-14T15:24:26.286719Z",
     "shell.execute_reply.started": "2024-03-14T15:24:23.019874Z"
    },
    "tags": []
   },
   "outputs": [
    {
     "data": {
      "application/vnd.jupyter.widget-view+json": {
       "model_id": "6ea9b1ece3664ac0ba32d06788d7bd04",
       "version_major": 2,
       "version_minor": 0
      },
      "text/plain": [
       "VBox()"
      ]
     },
     "metadata": {},
     "output_type": "display_data"
    },
    {
     "data": {
      "application/vnd.jupyter.widget-view+json": {
       "model_id": "",
       "version_major": 2,
       "version_minor": 0
      },
      "text/plain": [
       "FloatProgress(value=0.0, bar_style='info', description='Progress:', layout=Layout(height='25px', width='50%'),…"
      ]
     },
     "metadata": {},
     "output_type": "display_data"
    },
    {
     "name": "stdout",
     "output_type": "stream",
     "text": [
      "0                         None\n",
      "1                 princess.com\n",
      "2         asburypark.k12.nj.us\n",
      "3               wellsfargo.com\n",
      "4                   goarmy.com\n",
      "5             sutterhealth.org\n",
      "6             digitalriver.com\n",
      "7             lfscarolinas.org\n",
      "8                  fontana.org\n",
      "9                      dhs.gov\n",
      "10                vitalant.org\n",
      "11                   uhaul.com\n",
      "12                        None\n",
      "13                  plygem.com\n",
      "14                   aecom.com\n",
      "15                   aecom.com\n",
      "16                  subway.com\n",
      "17                  scmlaw.com\n",
      "18     riversidehealthcare.org\n",
      "19    watermarkcommunities.com"
     ]
    }
   ],
   "source": [
    "print(exp.limit(20).toPandas()['COMPANY_WEBSITE'].to_string())"
   ]
  },
  {
   "cell_type": "code",
   "execution_count": 12,
   "id": "6e01447a-1b9b-4b3e-8198-2a171279a5ae",
   "metadata": {
    "execution": {
     "iopub.execute_input": "2024-03-14T15:24:26.288628Z",
     "iopub.status.busy": "2024-03-14T15:24:26.288379Z",
     "iopub.status.idle": "2024-03-14T15:24:27.037393Z",
     "shell.execute_reply": "2024-03-14T15:24:27.036655Z",
     "shell.execute_reply.started": "2024-03-14T15:24:26.288605Z"
    },
    "tags": []
   },
   "outputs": [
    {
     "data": {
      "application/vnd.jupyter.widget-view+json": {
       "model_id": "d1c950f9c0274af68ae3407d97bc2a5f",
       "version_major": 2,
       "version_minor": 0
      },
      "text/plain": [
       "VBox()"
      ]
     },
     "metadata": {},
     "output_type": "display_data"
    },
    {
     "data": {
      "application/vnd.jupyter.widget-view+json": {
       "model_id": "",
       "version_major": 2,
       "version_minor": 0
      },
      "text/plain": [
       "FloatProgress(value=0.0, bar_style='info', description='Progress:', layout=Layout(height='25px', width='50%'),…"
      ]
     },
     "metadata": {},
     "output_type": "display_data"
    }
   ],
   "source": [
    "tech = pd.read_csv(data_dir + \"tech_companies_rto.csv\")\n",
    "tech['Company Name'] = tech['Company Name'].str.lower()"
   ]
  },
  {
   "cell_type": "code",
   "execution_count": 13,
   "id": "83ad599b-b398-447a-831f-324b0f9875c2",
   "metadata": {
    "execution": {
     "iopub.execute_input": "2024-03-14T15:24:27.038629Z",
     "iopub.status.busy": "2024-03-14T15:24:27.038391Z",
     "iopub.status.idle": "2024-03-14T15:24:27.079615Z",
     "shell.execute_reply": "2024-03-14T15:24:27.078797Z",
     "shell.execute_reply.started": "2024-03-14T15:24:27.038605Z"
    },
    "tags": []
   },
   "outputs": [
    {
     "data": {
      "application/vnd.jupyter.widget-view+json": {
       "model_id": "ecad204cbfd649be8ca7c6b02debc4de",
       "version_major": 2,
       "version_minor": 0
      },
      "text/plain": [
       "VBox()"
      ]
     },
     "metadata": {},
     "output_type": "display_data"
    },
    {
     "data": {
      "application/vnd.jupyter.widget-view+json": {
       "model_id": "",
       "version_major": 2,
       "version_minor": 0
      },
      "text/plain": [
       "FloatProgress(value=0.0, bar_style='info', description='Progress:', layout=Layout(height='25px', width='50%'),…"
      ]
     },
     "metadata": {},
     "output_type": "display_data"
    }
   ],
   "source": [
    "names_to_get = tech['Company Name']"
   ]
  },
  {
   "cell_type": "code",
   "execution_count": 14,
   "id": "65ed12b8-7565-41e2-a6a8-5f2b464f5d38",
   "metadata": {
    "execution": {
     "iopub.execute_input": "2024-03-14T15:24:27.081995Z",
     "iopub.status.busy": "2024-03-14T15:24:27.081757Z",
     "iopub.status.idle": "2024-03-14T15:25:02.460673Z",
     "shell.execute_reply": "2024-03-14T15:25:02.459917Z",
     "shell.execute_reply.started": "2024-03-14T15:24:27.081972Z"
    },
    "tags": []
   },
   "outputs": [
    {
     "data": {
      "application/vnd.jupyter.widget-view+json": {
       "model_id": "cc9fb1c78b784bafbc2a2919400bff0b",
       "version_major": 2,
       "version_minor": 0
      },
      "text/plain": [
       "VBox()"
      ]
     },
     "metadata": {},
     "output_type": "display_data"
    },
    {
     "data": {
      "application/vnd.jupyter.widget-view+json": {
       "model_id": "",
       "version_major": 2,
       "version_minor": 0
      },
      "text/plain": [
       "FloatProgress(value=0.0, bar_style='info', description='Progress:', layout=Layout(height='25px', width='50%'),…"
      ]
     },
     "metadata": {},
     "output_type": "display_data"
    }
   ],
   "source": [
    "firmnames = exp.select(\"COMPANY_NAME\").distinct().collect()"
   ]
  },
  {
   "cell_type": "code",
   "execution_count": 15,
   "id": "81672545-e9d6-4dbf-bb1e-59930ab0f2e2",
   "metadata": {
    "execution": {
     "iopub.execute_input": "2024-03-14T15:25:02.462436Z",
     "iopub.status.busy": "2024-03-14T15:25:02.462168Z",
     "iopub.status.idle": "2024-03-14T15:25:11.745464Z",
     "shell.execute_reply": "2024-03-14T15:25:11.744758Z",
     "shell.execute_reply.started": "2024-03-14T15:25:02.462412Z"
    },
    "tags": []
   },
   "outputs": [
    {
     "data": {
      "application/vnd.jupyter.widget-view+json": {
       "model_id": "9dd072c17328496ebba58d82340e4d58",
       "version_major": 2,
       "version_minor": 0
      },
      "text/plain": [
       "VBox()"
      ]
     },
     "metadata": {},
     "output_type": "display_data"
    },
    {
     "data": {
      "application/vnd.jupyter.widget-view+json": {
       "model_id": "",
       "version_major": 2,
       "version_minor": 0
      },
      "text/plain": [
       "FloatProgress(value=0.0, bar_style='info', description='Progress:', layout=Layout(height='25px', width='50%'),…"
      ]
     },
     "metadata": {},
     "output_type": "display_data"
    }
   ],
   "source": [
    "firmnames = [row.COMPANY_NAME for row in firmnames]"
   ]
  },
  {
   "cell_type": "code",
   "execution_count": 16,
   "id": "b5f3eeb8-2fc9-4052-b16f-ec7c10393e7d",
   "metadata": {
    "execution": {
     "iopub.execute_input": "2024-03-14T15:25:11.746840Z",
     "iopub.status.busy": "2024-03-14T15:25:11.746436Z",
     "iopub.status.idle": "2024-03-14T15:25:11.784624Z",
     "shell.execute_reply": "2024-03-14T15:25:11.784038Z",
     "shell.execute_reply.started": "2024-03-14T15:25:11.746813Z"
    },
    "tags": []
   },
   "outputs": [
    {
     "data": {
      "application/vnd.jupyter.widget-view+json": {
       "model_id": "39b1d77a4e7d4bc0b99c0e88b77d28df",
       "version_major": 2,
       "version_minor": 0
      },
      "text/plain": [
       "VBox()"
      ]
     },
     "metadata": {},
     "output_type": "display_data"
    },
    {
     "data": {
      "application/vnd.jupyter.widget-view+json": {
       "model_id": "",
       "version_major": 2,
       "version_minor": 0
      },
      "text/plain": [
       "FloatProgress(value=0.0, bar_style='info', description='Progress:', layout=Layout(height='25px', width='50%'),…"
      ]
     },
     "metadata": {},
     "output_type": "display_data"
    },
    {
     "name": "stdout",
     "output_type": "stream",
     "text": [
      "['caesars entertainment, inc.', 'carnival cruise line', 'baylor college of medicine', 'gtt', 'turell group', \"bruegger's bagels\", 'xenex', 'lewis-clark state college', 'bytegraph creations', 'u.s. silica company']"
     ]
    }
   ],
   "source": [
    "firmnames[0:10]"
   ]
  },
  {
   "cell_type": "code",
   "execution_count": 17,
   "id": "6a39c5e7-9f70-4a9d-ac57-6927e7a570b6",
   "metadata": {
    "execution": {
     "iopub.execute_input": "2024-03-14T15:25:11.785705Z",
     "iopub.status.busy": "2024-03-14T15:25:11.785491Z",
     "iopub.status.idle": "2024-03-14T15:25:11.825795Z",
     "shell.execute_reply": "2024-03-14T15:25:11.825124Z",
     "shell.execute_reply.started": "2024-03-14T15:25:11.785683Z"
    },
    "tags": []
   },
   "outputs": [
    {
     "data": {
      "application/vnd.jupyter.widget-view+json": {
       "model_id": "c8b997503561482b9eb339daa2e3d83d",
       "version_major": 2,
       "version_minor": 0
      },
      "text/plain": [
       "VBox()"
      ]
     },
     "metadata": {},
     "output_type": "display_data"
    },
    {
     "data": {
      "application/vnd.jupyter.widget-view+json": {
       "model_id": "",
       "version_major": 2,
       "version_minor": 0
      },
      "text/plain": [
       "FloatProgress(value=0.0, bar_style='info', description='Progress:', layout=Layout(height='25px', width='50%'),…"
      ]
     },
     "metadata": {},
     "output_type": "display_data"
    }
   ],
   "source": [
    "names = pd.DataFrame({'tech' : tech['Company Name'].str.lower()})\n"
   ]
  },
  {
   "cell_type": "code",
   "execution_count": 18,
   "id": "913522aa-0946-4e8e-8a50-f59b1449e3d0",
   "metadata": {
    "execution": {
     "iopub.execute_input": "2024-03-14T15:25:11.827120Z",
     "iopub.status.busy": "2024-03-14T15:25:11.826868Z",
     "iopub.status.idle": "2024-03-14T15:29:03.732809Z",
     "shell.execute_reply": "2024-03-14T15:29:03.731971Z",
     "shell.execute_reply.started": "2024-03-14T15:25:11.827096Z"
    },
    "tags": []
   },
   "outputs": [
    {
     "data": {
      "application/vnd.jupyter.widget-view+json": {
       "model_id": "acba226960d34a99adb730f466f84f44",
       "version_major": 2,
       "version_minor": 0
      },
      "text/plain": [
       "VBox()"
      ]
     },
     "metadata": {},
     "output_type": "display_data"
    },
    {
     "data": {
      "application/vnd.jupyter.widget-view+json": {
       "model_id": "",
       "version_major": 2,
       "version_minor": 0
      },
      "text/plain": [
       "FloatProgress(value=0.0, bar_style='info', description='Progress:', layout=Layout(height='25px', width='50%'),…"
      ]
     },
     "metadata": {},
     "output_type": "display_data"
    }
   ],
   "source": [
    "names['matched'] = names.apply(lambda x: process.extractOne(x.tech, firmnames), axis=1)"
   ]
  },
  {
   "cell_type": "code",
   "execution_count": 19,
   "id": "d0630091-5780-4f4c-952b-cfa3daaec393",
   "metadata": {
    "execution": {
     "iopub.execute_input": "2024-03-14T15:29:03.734078Z",
     "iopub.status.busy": "2024-03-14T15:29:03.733811Z",
     "iopub.status.idle": "2024-03-14T15:29:03.776042Z",
     "shell.execute_reply": "2024-03-14T15:29:03.775419Z",
     "shell.execute_reply.started": "2024-03-14T15:29:03.734052Z"
    },
    "tags": []
   },
   "outputs": [
    {
     "data": {
      "application/vnd.jupyter.widget-view+json": {
       "model_id": "53ab47cc2c354a00b3ab654f6e7dd237",
       "version_major": 2,
       "version_minor": 0
      },
      "text/plain": [
       "VBox()"
      ]
     },
     "metadata": {},
     "output_type": "display_data"
    },
    {
     "data": {
      "application/vnd.jupyter.widget-view+json": {
       "model_id": "",
       "version_major": 2,
       "version_minor": 0
      },
      "text/plain": [
       "FloatProgress(value=0.0, bar_style='info', description='Progress:', layout=Layout(height='25px', width='50%'),…"
      ]
     },
     "metadata": {},
     "output_type": "display_data"
    }
   ],
   "source": [
    "names_to_get = [i[0] for i in names['matched']]"
   ]
  },
  {
   "cell_type": "code",
   "execution_count": 20,
   "id": "d4d359aa-809f-4ddf-83cf-9d4468ad53a7",
   "metadata": {
    "execution": {
     "iopub.execute_input": "2024-03-14T15:29:03.777273Z",
     "iopub.status.busy": "2024-03-14T15:29:03.777017Z",
     "iopub.status.idle": "2024-03-14T15:29:21.091493Z",
     "shell.execute_reply": "2024-03-14T15:29:21.090770Z",
     "shell.execute_reply.started": "2024-03-14T15:29:03.777236Z"
    },
    "tags": []
   },
   "outputs": [
    {
     "data": {
      "application/vnd.jupyter.widget-view+json": {
       "model_id": "d7dfc064f36d476097cea3f2df28ee80",
       "version_major": 2,
       "version_minor": 0
      },
      "text/plain": [
       "VBox()"
      ]
     },
     "metadata": {},
     "output_type": "display_data"
    },
    {
     "data": {
      "application/vnd.jupyter.widget-view+json": {
       "model_id": "",
       "version_major": 2,
       "version_minor": 0
      },
      "text/plain": [
       "FloatProgress(value=0.0, bar_style='info', description='Progress:', layout=Layout(height='25px', width='50%'),…"
      ]
     },
     "metadata": {},
     "output_type": "display_data"
    }
   ],
   "source": [
    "websites = exp.filter(F.col(\"COMPANY_NAME\").isin(list(names_to_get))).select(\"COMPANY_WEBSITE\").distinct().collect()"
   ]
  },
  {
   "cell_type": "code",
   "execution_count": 21,
   "id": "3394f2d4-a14b-4b0e-8546-dd24f1505810",
   "metadata": {
    "execution": {
     "iopub.execute_input": "2024-03-14T15:29:21.093021Z",
     "iopub.status.busy": "2024-03-14T15:29:21.092686Z",
     "iopub.status.idle": "2024-03-14T15:29:21.137601Z",
     "shell.execute_reply": "2024-03-14T15:29:21.136671Z",
     "shell.execute_reply.started": "2024-03-14T15:29:21.092988Z"
    },
    "tags": []
   },
   "outputs": [
    {
     "data": {
      "application/vnd.jupyter.widget-view+json": {
       "model_id": "2bd74c575e1e402e89180303feff4c42",
       "version_major": 2,
       "version_minor": 0
      },
      "text/plain": [
       "VBox()"
      ]
     },
     "metadata": {},
     "output_type": "display_data"
    },
    {
     "data": {
      "application/vnd.jupyter.widget-view+json": {
       "model_id": "",
       "version_major": 2,
       "version_minor": 0
      },
      "text/plain": [
       "FloatProgress(value=0.0, bar_style='info', description='Progress:', layout=Layout(height='25px', width='50%'),…"
      ]
     },
     "metadata": {},
     "output_type": "display_data"
    }
   ],
   "source": [
    "websites = [row.COMPANY_WEBSITE for row in websites]"
   ]
  },
  {
   "cell_type": "code",
   "execution_count": 22,
   "id": "6ed0b1c1-fda7-4ae3-a588-e1fc623b8b86",
   "metadata": {
    "execution": {
     "iopub.execute_input": "2024-03-14T15:29:21.139212Z",
     "iopub.status.busy": "2024-03-14T15:29:21.138876Z",
     "iopub.status.idle": "2024-03-14T15:29:21.890704Z",
     "shell.execute_reply": "2024-03-14T15:29:21.889984Z",
     "shell.execute_reply.started": "2024-03-14T15:29:21.139174Z"
    },
    "tags": []
   },
   "outputs": [
    {
     "data": {
      "application/vnd.jupyter.widget-view+json": {
       "model_id": "f56b26e4dbdc41b18d862b44df61b34b",
       "version_major": 2,
       "version_minor": 0
      },
      "text/plain": [
       "VBox()"
      ]
     },
     "metadata": {},
     "output_type": "display_data"
    },
    {
     "data": {
      "application/vnd.jupyter.widget-view+json": {
       "model_id": "",
       "version_major": 2,
       "version_minor": 0
      },
      "text/plain": [
       "FloatProgress(value=0.0, bar_style='info', description='Progress:', layout=Layout(height='25px', width='50%'),…"
      ]
     },
     "metadata": {},
     "output_type": "display_data"
    }
   ],
   "source": [
    "## get scoop flex data\n",
    "flex = pd.read_csv(data_dir + \"companies.csv\")"
   ]
  },
  {
   "cell_type": "code",
   "execution_count": 23,
   "id": "1335b445-365f-43fd-be44-39f21c40acfa",
   "metadata": {
    "execution": {
     "iopub.execute_input": "2024-03-14T15:29:21.891878Z",
     "iopub.status.busy": "2024-03-14T15:29:21.891649Z",
     "iopub.status.idle": "2024-03-14T15:29:22.135430Z",
     "shell.execute_reply": "2024-03-14T15:29:22.134736Z",
     "shell.execute_reply.started": "2024-03-14T15:29:21.891856Z"
    },
    "tags": []
   },
   "outputs": [
    {
     "data": {
      "application/vnd.jupyter.widget-view+json": {
       "model_id": "7ed3281e5b69467e9495bec01b441a6e",
       "version_major": 2,
       "version_minor": 0
      },
      "text/plain": [
       "VBox()"
      ]
     },
     "metadata": {},
     "output_type": "display_data"
    },
    {
     "data": {
      "application/vnd.jupyter.widget-view+json": {
       "model_id": "",
       "version_major": 2,
       "version_minor": 0
      },
      "text/plain": [
       "FloatProgress(value=0.0, bar_style='info', description='Progress:', layout=Layout(height='25px', width='50%'),…"
      ]
     },
     "metadata": {},
     "output_type": "display_data"
    }
   ],
   "source": [
    "agg = pd.read_csv(data_dir + \"flex_index_aggregate.csv\")"
   ]
  },
  {
   "cell_type": "code",
   "execution_count": 24,
   "id": "c854a974-f858-4b28-a2bb-acd5d079b68f",
   "metadata": {
    "execution": {
     "iopub.execute_input": "2024-03-14T15:29:22.136577Z",
     "iopub.status.busy": "2024-03-14T15:29:22.136356Z",
     "iopub.status.idle": "2024-03-14T15:29:22.383864Z",
     "shell.execute_reply": "2024-03-14T15:29:22.383013Z",
     "shell.execute_reply.started": "2024-03-14T15:29:22.136555Z"
    },
    "tags": []
   },
   "outputs": [
    {
     "data": {
      "application/vnd.jupyter.widget-view+json": {
       "model_id": "64f4a94ae3f84484971181a9a6cf5b84",
       "version_major": 2,
       "version_minor": 0
      },
      "text/plain": [
       "VBox()"
      ]
     },
     "metadata": {},
     "output_type": "display_data"
    },
    {
     "data": {
      "application/vnd.jupyter.widget-view+json": {
       "model_id": "",
       "version_major": 2,
       "version_minor": 0
      },
      "text/plain": [
       "FloatProgress(value=0.0, bar_style='info', description='Progress:', layout=Layout(height='25px', width='50%'),…"
      ]
     },
     "metadata": {},
     "output_type": "display_data"
    }
   ],
   "source": [
    "flex = flex.merge(agg.rename(columns={'company_name' : 'name'}), on = \"name\", how=\"left\")"
   ]
  },
  {
   "cell_type": "code",
   "execution_count": 25,
   "id": "ec62a896-6b03-44f0-8386-5c14efec2acf",
   "metadata": {
    "execution": {
     "iopub.execute_input": "2024-03-14T15:29:22.385391Z",
     "iopub.status.busy": "2024-03-14T15:29:22.385035Z",
     "iopub.status.idle": "2024-03-14T15:29:22.426042Z",
     "shell.execute_reply": "2024-03-14T15:29:22.425359Z",
     "shell.execute_reply.started": "2024-03-14T15:29:22.385356Z"
    },
    "tags": []
   },
   "outputs": [
    {
     "data": {
      "application/vnd.jupyter.widget-view+json": {
       "model_id": "c3a839562f4042faacd5ab8fe42c2947",
       "version_major": 2,
       "version_minor": 0
      },
      "text/plain": [
       "VBox()"
      ]
     },
     "metadata": {},
     "output_type": "display_data"
    },
    {
     "data": {
      "application/vnd.jupyter.widget-view+json": {
       "model_id": "",
       "version_major": 2,
       "version_minor": 0
      },
      "text/plain": [
       "FloatProgress(value=0.0, bar_style='info', description='Progress:', layout=Layout(height='25px', width='50%'),…"
      ]
     },
     "metadata": {},
     "output_type": "display_data"
    }
   ],
   "source": [
    "tech = tech.rename(columns={'Company Name' : 'name', 'RTO_1' : 'RTO_date_manual'})[['name', 'RTO_date_manual']]"
   ]
  },
  {
   "cell_type": "code",
   "execution_count": 26,
   "id": "72fdcfa9-bdb9-41dd-8d66-81a8f81f9176",
   "metadata": {
    "execution": {
     "iopub.execute_input": "2024-03-14T15:29:22.427170Z",
     "iopub.status.busy": "2024-03-14T15:29:22.426948Z",
     "iopub.status.idle": "2024-03-14T15:29:22.478751Z",
     "shell.execute_reply": "2024-03-14T15:29:22.474629Z",
     "shell.execute_reply.started": "2024-03-14T15:29:22.427148Z"
    },
    "tags": []
   },
   "outputs": [
    {
     "data": {
      "application/vnd.jupyter.widget-view+json": {
       "model_id": "931cf116b7014afd9cc650d28877f374",
       "version_major": 2,
       "version_minor": 0
      },
      "text/plain": [
       "VBox()"
      ]
     },
     "metadata": {},
     "output_type": "display_data"
    },
    {
     "data": {
      "application/vnd.jupyter.widget-view+json": {
       "model_id": "",
       "version_major": 2,
       "version_minor": 0
      },
      "text/plain": [
       "FloatProgress(value=0.0, bar_style='info', description='Progress:', layout=Layout(height='25px', width='50%'),…"
      ]
     },
     "metadata": {},
     "output_type": "display_data"
    }
   ],
   "source": [
    "names['COMPANY_NAME'] = names['matched'].apply(lambda x: x[0])\n",
    "names = names.rename(columns = {'tech' : 'name'})[['COMPANY_NAME', 'name']]"
   ]
  },
  {
   "cell_type": "code",
   "execution_count": 27,
   "id": "b4f80baf-f0b7-4ef5-907d-a3da931bba81",
   "metadata": {
    "execution": {
     "iopub.execute_input": "2024-03-14T15:29:22.486299Z",
     "iopub.status.busy": "2024-03-14T15:29:22.486001Z",
     "iopub.status.idle": "2024-03-14T15:29:22.544772Z",
     "shell.execute_reply": "2024-03-14T15:29:22.543813Z",
     "shell.execute_reply.started": "2024-03-14T15:29:22.486273Z"
    },
    "tags": []
   },
   "outputs": [
    {
     "data": {
      "application/vnd.jupyter.widget-view+json": {
       "model_id": "d8a316f2357a4128bc92d1fac77f8222",
       "version_major": 2,
       "version_minor": 0
      },
      "text/plain": [
       "VBox()"
      ]
     },
     "metadata": {},
     "output_type": "display_data"
    },
    {
     "data": {
      "application/vnd.jupyter.widget-view+json": {
       "model_id": "",
       "version_major": 2,
       "version_minor": 0
      },
      "text/plain": [
       "FloatProgress(value=0.0, bar_style='info', description='Progress:', layout=Layout(height='25px', width='50%'),…"
      ]
     },
     "metadata": {},
     "output_type": "display_data"
    }
   ],
   "source": [
    "tech = tech.merge(names, on = \"name\", how = \"left\")"
   ]
  },
  {
   "cell_type": "code",
   "execution_count": 28,
   "id": "cf2d027c-a3ce-40fc-a17e-656ceb0d97c3",
   "metadata": {
    "execution": {
     "iopub.execute_input": "2024-03-14T15:29:22.546643Z",
     "iopub.status.busy": "2024-03-14T15:29:22.546288Z",
     "iopub.status.idle": "2024-03-14T15:29:22.701529Z",
     "shell.execute_reply": "2024-03-14T15:29:22.700849Z",
     "shell.execute_reply.started": "2024-03-14T15:29:22.546608Z"
    },
    "tags": []
   },
   "outputs": [
    {
     "data": {
      "application/vnd.jupyter.widget-view+json": {
       "model_id": "9d69d5977dc442a5b9a4659534d2138a",
       "version_major": 2,
       "version_minor": 0
      },
      "text/plain": [
       "VBox()"
      ]
     },
     "metadata": {},
     "output_type": "display_data"
    },
    {
     "data": {
      "application/vnd.jupyter.widget-view+json": {
       "model_id": "",
       "version_major": 2,
       "version_minor": 0
      },
      "text/plain": [
       "FloatProgress(value=0.0, bar_style='info', description='Progress:', layout=Layout(height='25px', width='50%'),…"
      ]
     },
     "metadata": {},
     "output_type": "display_data"
    }
   ],
   "source": [
    "tech.loc[tech.RTO_date_manual.isna(), 'RTO_date_manual'] = \"never\"\n",
    "tech = tech[['COMPANY_NAME', 'RTO_date_manual']]"
   ]
  },
  {
   "cell_type": "code",
   "execution_count": 29,
   "id": "18175e33-3018-457f-a686-48ad60a730e4",
   "metadata": {
    "execution": {
     "iopub.execute_input": "2024-03-14T15:29:22.705384Z",
     "iopub.status.busy": "2024-03-14T15:29:22.705099Z",
     "iopub.status.idle": "2024-03-14T15:29:29.981082Z",
     "shell.execute_reply": "2024-03-14T15:29:29.980272Z",
     "shell.execute_reply.started": "2024-03-14T15:29:22.705359Z"
    },
    "tags": []
   },
   "outputs": [
    {
     "data": {
      "application/vnd.jupyter.widget-view+json": {
       "model_id": "9d5d982f367f48eab0c3deb0c2177867",
       "version_major": 2,
       "version_minor": 0
      },
      "text/plain": [
       "VBox()"
      ]
     },
     "metadata": {},
     "output_type": "display_data"
    },
    {
     "data": {
      "application/vnd.jupyter.widget-view+json": {
       "model_id": "",
       "version_major": 2,
       "version_minor": 0
      },
      "text/plain": [
       "FloatProgress(value=0.0, bar_style='info', description='Progress:', layout=Layout(height='25px', width='50%'),…"
      ]
     },
     "metadata": {},
     "output_type": "display_data"
    }
   ],
   "source": [
    "flexdomains = list(flex['domain'].str.lower())\n",
    "flexnames = list(flex['name'].str.lower())\n",
    "flex = spark.createDataFrame(flex[[\"name\", \"domain\", \"office_requirements\", \"requirement_details\"]]).write.mode(\"overwrite\").parquet(data_dir + \"flex.parquet\")\n",
    "tech = spark.createDataFrame(tech).write.mode(\"overwrite\").parquet(data_dir + \"tech.parquet\")\n"
   ]
  },
  {
   "cell_type": "code",
   "execution_count": 30,
   "id": "527f9930-c03e-443d-a651-58f4e09ca04f",
   "metadata": {
    "execution": {
     "iopub.execute_input": "2024-03-14T15:29:29.983236Z",
     "iopub.status.busy": "2024-03-14T15:29:29.982884Z",
     "iopub.status.idle": "2024-03-14T15:31:23.576436Z",
     "shell.execute_reply": "2024-03-14T15:31:23.575773Z",
     "shell.execute_reply.started": "2024-03-14T15:29:29.983200Z"
    },
    "tags": []
   },
   "outputs": [
    {
     "data": {
      "application/vnd.jupyter.widget-view+json": {
       "model_id": "4787f5b00931427eb0c5391895397c89",
       "version_major": 2,
       "version_minor": 0
      },
      "text/plain": [
       "VBox()"
      ]
     },
     "metadata": {},
     "output_type": "display_data"
    },
    {
     "data": {
      "application/vnd.jupyter.widget-view+json": {
       "model_id": "",
       "version_major": 2,
       "version_minor": 0
      },
      "text/plain": [
       "FloatProgress(value=0.0, bar_style='info', description='Progress:', layout=Layout(height='25px', width='50%'),…"
      ]
     },
     "metadata": {},
     "output_type": "display_data"
    }
   ],
   "source": [
    "(exp.filter(F.col(\"COMPANY_WEBSITE\").isin(flexdomains) | \n",
    "           F.col(\"COMPANY_NAME\").isin(flexnames) |\n",
    "          F.col(\"COMPANY_NAME\").isin(names_to_get) | \n",
    "           F.col(\"COMPANY_WEBSITE\").isin(websites)\n",
    "          )\n",
    "#     .join(flex, \n",
    "#           on = (flex.name == exp.COMPANY_NAME) | (flex.domain == exp.COMPANY_WEBSITE))\n",
    "#     .join(tech, on = \"COMPANY_NAME\")\n",
    ").write.mode(\"overwrite\").parquet(data_dir + \"people-experience_us_tech.parquet\")\n"
   ]
  },
  {
   "cell_type": "markdown",
   "id": "7349db2c-3eaa-4e76-87bb-a6913dfac649",
   "metadata": {
    "tags": []
   },
   "source": [
    "### TODO: restart from here feb 4 2024"
   ]
  },
  {
   "cell_type": "code",
   "execution_count": 31,
   "id": "bf5adf26-e08c-474f-8832-aaaccdf4d337",
   "metadata": {
    "execution": {
     "iopub.execute_input": "2024-03-14T15:31:23.577899Z",
     "iopub.status.busy": "2024-03-14T15:31:23.577563Z",
     "iopub.status.idle": "2024-03-14T15:31:24.331375Z",
     "shell.execute_reply": "2024-03-14T15:31:24.330523Z",
     "shell.execute_reply.started": "2024-03-14T15:31:23.577866Z"
    },
    "tags": []
   },
   "outputs": [
    {
     "data": {
      "application/vnd.jupyter.widget-view+json": {
       "model_id": "e36f246209184e478728d1bdbc3f8d52",
       "version_major": 2,
       "version_minor": 0
      },
      "text/plain": [
       "VBox()"
      ]
     },
     "metadata": {},
     "output_type": "display_data"
    },
    {
     "data": {
      "application/vnd.jupyter.widget-view+json": {
       "model_id": "",
       "version_major": 2,
       "version_minor": 0
      },
      "text/plain": [
       "FloatProgress(value=0.0, bar_style='info', description='Progress:', layout=Layout(height='25px', width='50%'),…"
      ]
     },
     "metadata": {},
     "output_type": "display_data"
    }
   ],
   "source": [
    "exp = spark.read.parquet(data_dir + \"people-experience_us_tech.parquet\")"
   ]
  },
  {
   "cell_type": "markdown",
   "id": "60e8029c-c83a-434d-99a1-d659fe877252",
   "metadata": {},
   "source": [
    "### Merge in flex policy info"
   ]
  },
  {
   "cell_type": "code",
   "execution_count": 32,
   "id": "338a21fc-f866-49f9-abea-9c3c6dd176c4",
   "metadata": {
    "execution": {
     "iopub.execute_input": "2024-03-14T15:31:24.332881Z",
     "iopub.status.busy": "2024-03-14T15:31:24.332540Z",
     "iopub.status.idle": "2024-03-14T15:31:25.084839Z",
     "shell.execute_reply": "2024-03-14T15:31:25.084096Z",
     "shell.execute_reply.started": "2024-03-14T15:31:24.332844Z"
    },
    "tags": []
   },
   "outputs": [
    {
     "data": {
      "application/vnd.jupyter.widget-view+json": {
       "model_id": "f476009d8719468c9c0ca1f24b95771f",
       "version_major": 2,
       "version_minor": 0
      },
      "text/plain": [
       "VBox()"
      ]
     },
     "metadata": {},
     "output_type": "display_data"
    },
    {
     "data": {
      "application/vnd.jupyter.widget-view+json": {
       "model_id": "",
       "version_major": 2,
       "version_minor": 0
      },
      "text/plain": [
       "FloatProgress(value=0.0, bar_style='info', description='Progress:', layout=Layout(height='25px', width='50%'),…"
      ]
     },
     "metadata": {},
     "output_type": "display_data"
    }
   ],
   "source": [
    "flex = spark.read.parquet(data_dir + \"flex.parquet\")\n",
    "exp = exp.join(flex, on = (flex.name == exp.COMPANY_NAME) | (flex.domain == exp.COMPANY_WEBSITE),\n",
    "         how = \"left\")\n",
    "\n"
   ]
  },
  {
   "cell_type": "code",
   "execution_count": 33,
   "id": "81f52d51-089c-49cd-a5dc-287baa54b224",
   "metadata": {
    "execution": {
     "iopub.execute_input": "2024-03-14T15:31:25.086169Z",
     "iopub.status.busy": "2024-03-14T15:31:25.085845Z",
     "iopub.status.idle": "2024-03-14T15:31:25.840457Z",
     "shell.execute_reply": "2024-03-14T15:31:25.839527Z",
     "shell.execute_reply.started": "2024-03-14T15:31:25.086131Z"
    },
    "tags": []
   },
   "outputs": [
    {
     "data": {
      "application/vnd.jupyter.widget-view+json": {
       "model_id": "24ee058fd3a74ba0884eb9d50982a1ae",
       "version_major": 2,
       "version_minor": 0
      },
      "text/plain": [
       "VBox()"
      ]
     },
     "metadata": {},
     "output_type": "display_data"
    },
    {
     "data": {
      "application/vnd.jupyter.widget-view+json": {
       "model_id": "",
       "version_major": 2,
       "version_minor": 0
      },
      "text/plain": [
       "FloatProgress(value=0.0, bar_style='info', description='Progress:', layout=Layout(height='25px', width='50%'),…"
      ]
     },
     "metadata": {},
     "output_type": "display_data"
    }
   ],
   "source": [
    "tech = spark.read.parquet(data_dir + \"tech.parquet\")\n",
    "exp = exp.join(tech, on = \"COMPANY_NAME\", how = \"left\")"
   ]
  },
  {
   "cell_type": "markdown",
   "id": "7135739e-72f9-4b34-abc6-b2cf65ff3482",
   "metadata": {
    "execution": {
     "iopub.execute_input": "2024-01-30T03:28:39.187140Z",
     "iopub.status.busy": "2024-01-30T03:28:39.186828Z",
     "iopub.status.idle": "2024-01-30T03:28:39.220208Z",
     "shell.execute_reply": "2024-01-30T03:28:39.219635Z",
     "shell.execute_reply.started": "2024-01-30T03:28:39.187113Z"
    },
    "tags": []
   },
   "source": [
    "### Merge in people info"
   ]
  },
  {
   "cell_type": "code",
   "execution_count": 34,
   "id": "907dcc34-a816-40a8-9ea5-506617d50ba4",
   "metadata": {
    "execution": {
     "iopub.execute_input": "2024-03-14T15:31:25.841931Z",
     "iopub.status.busy": "2024-03-14T15:31:25.841593Z",
     "iopub.status.idle": "2024-03-14T15:31:27.122646Z",
     "shell.execute_reply": "2024-03-14T15:31:27.121783Z",
     "shell.execute_reply.started": "2024-03-14T15:31:25.841896Z"
    },
    "tags": []
   },
   "outputs": [
    {
     "data": {
      "application/vnd.jupyter.widget-view+json": {
       "model_id": "355d855cdc4747c9a5f5e03a8fd371d5",
       "version_major": 2,
       "version_minor": 0
      },
      "text/plain": [
       "VBox()"
      ]
     },
     "metadata": {},
     "output_type": "display_data"
    },
    {
     "data": {
      "application/vnd.jupyter.widget-view+json": {
       "model_id": "",
       "version_major": 2,
       "version_minor": 0
      },
      "text/plain": [
       "FloatProgress(value=0.0, bar_style='info', description='Progress:', layout=Layout(height='25px', width='50%'),…"
      ]
     },
     "metadata": {},
     "output_type": "display_data"
    }
   ],
   "source": [
    "people = spark.read.csv(data_ppl + \"people-core\", header=True)\n",
    "\n"
   ]
  },
  {
   "cell_type": "code",
   "execution_count": 35,
   "id": "ef941d28-6370-4b3f-a0ab-02717f27893b",
   "metadata": {
    "execution": {
     "iopub.execute_input": "2024-03-14T15:31:27.124110Z",
     "iopub.status.busy": "2024-03-14T15:31:27.123775Z",
     "iopub.status.idle": "2024-03-14T15:31:27.380655Z",
     "shell.execute_reply": "2024-03-14T15:31:27.379789Z",
     "shell.execute_reply.started": "2024-03-14T15:31:27.124075Z"
    },
    "tags": []
   },
   "outputs": [
    {
     "data": {
      "application/vnd.jupyter.widget-view+json": {
       "model_id": "1f551b80782e4c34b9e9e376d4c77b63",
       "version_major": 2,
       "version_minor": 0
      },
      "text/plain": [
       "VBox()"
      ]
     },
     "metadata": {},
     "output_type": "display_data"
    },
    {
     "data": {
      "application/vnd.jupyter.widget-view+json": {
       "model_id": "",
       "version_major": 2,
       "version_minor": 0
      },
      "text/plain": [
       "FloatProgress(value=0.0, bar_style='info', description='Progress:', layout=Layout(height='25px', width='50%'),…"
      ]
     },
     "metadata": {},
     "output_type": "display_data"
    }
   ],
   "source": [
    "exp = exp.join(people, on = \"ID\", how = \"left\")"
   ]
  },
  {
   "cell_type": "code",
   "execution_count": 36,
   "id": "65f7d3b3-5042-41ba-9b02-9ba13bce4b32",
   "metadata": {
    "execution": {
     "iopub.execute_input": "2024-03-14T15:31:27.382149Z",
     "iopub.status.busy": "2024-03-14T15:31:27.381871Z",
     "iopub.status.idle": "2024-03-14T15:40:08.238620Z",
     "shell.execute_reply": "2024-03-14T15:40:08.237922Z",
     "shell.execute_reply.started": "2024-03-14T15:31:27.382125Z"
    },
    "tags": []
   },
   "outputs": [
    {
     "data": {
      "application/vnd.jupyter.widget-view+json": {
       "model_id": "6c8bc7f1873948d08acffe777e37f668",
       "version_major": 2,
       "version_minor": 0
      },
      "text/plain": [
       "VBox()"
      ]
     },
     "metadata": {},
     "output_type": "display_data"
    },
    {
     "data": {
      "application/vnd.jupyter.widget-view+json": {
       "model_id": "",
       "version_major": 2,
       "version_minor": 0
      },
      "text/plain": [
       "FloatProgress(value=0.0, bar_style='info', description='Progress:', layout=Layout(height='25px', width='50%'),…"
      ]
     },
     "metadata": {},
     "output_type": "display_data"
    }
   ],
   "source": [
    "exp.filter(F.col(\"LOCATION_COUNTRY\") == # filter on location again to \n",
    "           \"united states\").write.mode(\"overwrite\").parquet(data_dir + \"people-experience_us_tech_people.parquet\")"
   ]
  },
  {
   "cell_type": "markdown",
   "id": "e5fb2fc1-e81a-4ead-87fc-3a8526d8901c",
   "metadata": {
    "execution": {
     "iopub.execute_input": "2024-01-30T03:53:56.924376Z",
     "iopub.status.busy": "2024-01-30T03:53:56.924069Z",
     "iopub.status.idle": "2024-01-30T03:53:56.957915Z",
     "shell.execute_reply": "2024-01-30T03:53:56.957361Z",
     "shell.execute_reply.started": "2024-01-30T03:53:56.924352Z"
    },
    "tags": []
   },
   "source": [
    "### Construct individual tenure profile by company pre and post apple RTO"
   ]
  },
  {
   "cell_type": "code",
   "execution_count": 12,
   "id": "6748dad4-1a41-4a61-94c2-06543631cb10",
   "metadata": {
    "execution": {
     "iopub.execute_input": "2024-03-18T19:40:21.237696Z",
     "iopub.status.busy": "2024-03-18T19:40:21.237404Z",
     "iopub.status.idle": "2024-03-18T19:40:23.501783Z",
     "shell.execute_reply": "2024-03-18T19:40:23.501058Z",
     "shell.execute_reply.started": "2024-03-18T19:40:21.237670Z"
    },
    "tags": []
   },
   "outputs": [
    {
     "data": {
      "application/vnd.jupyter.widget-view+json": {
       "model_id": "2d85ab9f73cc40a89e3d8dc537d056be",
       "version_major": 2,
       "version_minor": 0
      },
      "text/plain": [
       "VBox()"
      ]
     },
     "metadata": {},
     "output_type": "display_data"
    },
    {
     "data": {
      "application/vnd.jupyter.widget-view+json": {
       "model_id": "",
       "version_major": 2,
       "version_minor": 0
      },
      "text/plain": [
       "FloatProgress(value=0.0, bar_style='info', description='Progress:', layout=Layout(height='25px', width='50%'),…"
      ]
     },
     "metadata": {},
     "output_type": "display_data"
    }
   ],
   "source": [
    "exp = spark.read.parquet(data_dir + \"people-experience_us_tech_people.parquet\")\n",
    "\n",
    "# rto was on april 11, 2022. Let's restrict to people with END_DATE 4 months before that or later\n",
    "exp = exp.filter(exp.START_DATE.isNotNull() & ((exp.END_DATE >= \"2022-01-01\") | exp.END_DATE.isNull()))"
   ]
  },
  {
   "cell_type": "code",
   "execution_count": 13,
   "id": "5ed07752-83f9-4700-90e0-ee8133a7e9af",
   "metadata": {
    "execution": {
     "iopub.execute_input": "2024-03-18T19:40:23.503125Z",
     "iopub.status.busy": "2024-03-18T19:40:23.502907Z",
     "iopub.status.idle": "2024-03-18T19:40:23.554035Z",
     "shell.execute_reply": "2024-03-18T19:40:23.553194Z",
     "shell.execute_reply.started": "2024-03-18T19:40:23.503103Z"
    },
    "tags": []
   },
   "outputs": [
    {
     "data": {
      "application/vnd.jupyter.widget-view+json": {
       "model_id": "bf8941e10ec04bda858456124f3d313d",
       "version_major": 2,
       "version_minor": 0
      },
      "text/plain": [
       "VBox()"
      ]
     },
     "metadata": {},
     "output_type": "display_data"
    },
    {
     "data": {
      "application/vnd.jupyter.widget-view+json": {
       "model_id": "",
       "version_major": 2,
       "version_minor": 0
      },
      "text/plain": [
       "FloatProgress(value=0.0, bar_style='info', description='Progress:', layout=Layout(height='25px', width='50%'),…"
      ]
     },
     "metadata": {},
     "output_type": "display_data"
    }
   ],
   "source": [
    "from datetime import datetime, timedelta\n",
    "\n",
    "start_date = datetime(2021, 1, 1)\n",
    "end_date = datetime(2024, 1, 1)\n",
    "\n",
    "# Calculate the total number of months in the range\n",
    "total_months = (end_date.year - start_date.year) * 12 + end_date.month - start_date.month\n",
    "\n",
    "# Generate the list of dates\n",
    "date_list = [start_date + timedelta(days=31*i) for i in range(total_months)]\n",
    "# Adjust each date to the first of the month\n",
    "date_list = [datetime(date.year, date.month, 1) for date in date_list]\n"
   ]
  },
  {
   "cell_type": "code",
   "execution_count": 14,
   "id": "4232aa25-3df8-4f7a-805e-804ad68b086a",
   "metadata": {
    "execution": {
     "iopub.execute_input": "2024-03-18T19:40:23.556465Z",
     "iopub.status.busy": "2024-03-18T19:40:23.556157Z",
     "iopub.status.idle": "2024-03-18T19:40:25.971080Z",
     "shell.execute_reply": "2024-03-18T19:40:25.970475Z",
     "shell.execute_reply.started": "2024-03-18T19:40:23.556432Z"
    },
    "tags": []
   },
   "outputs": [
    {
     "data": {
      "application/vnd.jupyter.widget-view+json": {
       "model_id": "d660cefa4c584a5dbbe2dafbc4807409",
       "version_major": 2,
       "version_minor": 0
      },
      "text/plain": [
       "VBox()"
      ]
     },
     "metadata": {},
     "output_type": "display_data"
    },
    {
     "data": {
      "application/vnd.jupyter.widget-view+json": {
       "model_id": "",
       "version_major": 2,
       "version_minor": 0
      },
      "text/plain": [
       "FloatProgress(value=0.0, bar_style='info', description='Progress:', layout=Layout(height='25px', width='50%'),…"
      ]
     },
     "metadata": {},
     "output_type": "display_data"
    }
   ],
   "source": [
    "\n",
    "# Duplicate and append DataFrames\n",
    "all_dfs = []\n",
    "for date in date_list:\n",
    "    # Add a date column to the DataFrame\n",
    "    df_with_date = exp.withColumn(\"month\", F.lit(date.strftime(\"%Y-%m-%d\")))\n",
    "    all_dfs.append(df_with_date)\n",
    "\n",
    "# Concatenate all DataFrames\n",
    "final_df = all_dfs[0]\n",
    "for df in all_dfs[1:]:\n",
    "    final_df = final_df.union(df)"
   ]
  },
  {
   "cell_type": "code",
   "execution_count": 15,
   "id": "82a05072-082f-4906-8943-987fab51c68a",
   "metadata": {
    "execution": {
     "iopub.execute_input": "2024-03-18T19:40:25.972469Z",
     "iopub.status.busy": "2024-03-18T19:40:25.972256Z",
     "iopub.status.idle": "2024-03-18T19:40:26.227008Z",
     "shell.execute_reply": "2024-03-18T19:40:26.226155Z",
     "shell.execute_reply.started": "2024-03-18T19:40:25.972447Z"
    },
    "tags": []
   },
   "outputs": [
    {
     "data": {
      "application/vnd.jupyter.widget-view+json": {
       "model_id": "00e083fbf00c49a59fc615880d56d11b",
       "version_major": 2,
       "version_minor": 0
      },
      "text/plain": [
       "VBox()"
      ]
     },
     "metadata": {},
     "output_type": "display_data"
    },
    {
     "data": {
      "application/vnd.jupyter.widget-view+json": {
       "model_id": "",
       "version_major": 2,
       "version_minor": 0
      },
      "text/plain": [
       "FloatProgress(value=0.0, bar_style='info', description='Progress:', layout=Layout(height='25px', width='50%'),…"
      ]
     },
     "metadata": {},
     "output_type": "display_data"
    }
   ],
   "source": [
    "final_df = final_df.dropDuplicates()"
   ]
  },
  {
   "cell_type": "code",
   "execution_count": 16,
   "id": "1092e94d-4ff1-44c3-897c-9cc79646ba6c",
   "metadata": {
    "execution": {
     "iopub.execute_input": "2024-03-18T19:40:26.228631Z",
     "iopub.status.busy": "2024-03-18T19:40:26.228272Z",
     "iopub.status.idle": "2024-03-18T19:40:26.483224Z",
     "shell.execute_reply": "2024-03-18T19:40:26.482525Z",
     "shell.execute_reply.started": "2024-03-18T19:40:26.228590Z"
    },
    "tags": []
   },
   "outputs": [
    {
     "data": {
      "application/vnd.jupyter.widget-view+json": {
       "model_id": "ab91e718d6604579bb976485cf3601f8",
       "version_major": 2,
       "version_minor": 0
      },
      "text/plain": [
       "VBox()"
      ]
     },
     "metadata": {},
     "output_type": "display_data"
    },
    {
     "data": {
      "application/vnd.jupyter.widget-view+json": {
       "model_id": "",
       "version_major": 2,
       "version_minor": 0
      },
      "text/plain": [
       "FloatProgress(value=0.0, bar_style='info', description='Progress:', layout=Layout(height='25px', width='50%'),…"
      ]
     },
     "metadata": {},
     "output_type": "display_data"
    }
   ],
   "source": [
    "# explode TITLE_LEVELS column vertically\n",
    "final_df = final_df.withColumn(\"TITLE_LEVELS\", F.explode(F.split(\"TITLE_LEVELS\", \",\")))"
   ]
  },
  {
   "cell_type": "code",
   "execution_count": 17,
   "id": "b66753b3-dc6c-4027-a02f-32e83e9433b5",
   "metadata": {
    "execution": {
     "iopub.execute_input": "2024-03-18T19:40:26.484958Z",
     "iopub.status.busy": "2024-03-18T19:40:26.484701Z",
     "iopub.status.idle": "2024-03-18T19:40:27.234516Z",
     "shell.execute_reply": "2024-03-18T19:40:27.233852Z",
     "shell.execute_reply.started": "2024-03-18T19:40:26.484933Z"
    },
    "tags": []
   },
   "outputs": [
    {
     "data": {
      "application/vnd.jupyter.widget-view+json": {
       "model_id": "bbb98f90b6ed41cda592f22d49890ce6",
       "version_major": 2,
       "version_minor": 0
      },
      "text/plain": [
       "VBox()"
      ]
     },
     "metadata": {},
     "output_type": "display_data"
    },
    {
     "data": {
      "application/vnd.jupyter.widget-view+json": {
       "model_id": "",
       "version_major": 2,
       "version_minor": 0
      },
      "text/plain": [
       "FloatProgress(value=0.0, bar_style='info', description='Progress:', layout=Layout(height='25px', width='50%'),…"
      ]
     },
     "metadata": {},
     "output_type": "display_data"
    }
   ],
   "source": [
    "## calculate title\n",
    "# Inverted mapping of title levels to their categorical ranks\n",
    "title_ranking_inverted = {\n",
    "    \"cxo\": 10,\n",
    "    \"vp\": 9,\n",
    "    \"director\": 8,\n",
    "    \"partner\": 7,\n",
    "    \"owner\": 6,\n",
    "    \"senior\": 5,\n",
    "    \"manager\": 4,\n",
    "    \"entry\": 3,\n",
    "    \"training\": 2,\n",
    "    \"unpaid\": 1\n",
    "}\n",
    "\n",
    "# Creating a new column 'title_categorical' with the inverted ranks\n",
    "rank_expr_inverted = \"case \"\n",
    "for title, rank in title_ranking_inverted.items():\n",
    "    rank_expr_inverted += f\"when TITLE_LEVELS = '{title}' then {rank} \"\n",
    "rank_expr_inverted += \"else null end\"\n",
    "\n",
    "final_df = final_df.withColumn(\"title_categorical\", F.expr(rank_expr_inverted))\n",
    "\n",
    "# now only keep observations with highest title_categorical\n",
    "windowSpec = Window.partitionBy('ID', 'month', \"COMPANY_NAME\").orderBy(F.col('title_categorical').desc())\n",
    "\n",
    "# Add row numbers to each row within each partition\n",
    "df_with_row_numbers = final_df.withColumn('row_number', F.row_number().over(windowSpec))\n",
    "\n",
    "# Filter to keep only the rows with the largest value in the varying column for each group\n",
    "df_filtered = df_with_row_numbers.filter(F.col('row_number') == 1).drop('row_number')\n"
   ]
  },
  {
   "cell_type": "code",
   "execution_count": 18,
   "id": "8dab57ea-f7bd-422f-8c3c-4e6238db5b42",
   "metadata": {
    "execution": {
     "iopub.execute_input": "2024-03-18T19:40:27.235915Z",
     "iopub.status.busy": "2024-03-18T19:40:27.235686Z",
     "iopub.status.idle": "2024-03-18T19:40:27.480676Z",
     "shell.execute_reply": "2024-03-18T19:40:27.479948Z",
     "shell.execute_reply.started": "2024-03-18T19:40:27.235893Z"
    },
    "tags": []
   },
   "outputs": [
    {
     "data": {
      "application/vnd.jupyter.widget-view+json": {
       "model_id": "3fc9803c4bc642b2b919676c3cf59649",
       "version_major": 2,
       "version_minor": 0
      },
      "text/plain": [
       "VBox()"
      ]
     },
     "metadata": {},
     "output_type": "display_data"
    },
    {
     "data": {
      "application/vnd.jupyter.widget-view+json": {
       "model_id": "",
       "version_major": 2,
       "version_minor": 0
      },
      "text/plain": [
       "FloatProgress(value=0.0, bar_style='info', description='Progress:', layout=Layout(height='25px', width='50%'),…"
      ]
     },
     "metadata": {},
     "output_type": "display_data"
    }
   ],
   "source": [
    "# calculate tenure variable\n",
    "final_df = (final_df.filter( ((F.col(\"END_DATE\") >= F.col(\"month\")) | F.col(\"END_DATE\").isNull()) & \n",
    "                            (F.col(\"START_DATE\") <= F.col(\"month\")))\n",
    "        .withColumn(\"tenure\", F.datediff(F.col(\"month\"), F.col(\"START_DATE\"))))"
   ]
  },
  {
   "cell_type": "code",
   "execution_count": 19,
   "id": "aca818e5-61f0-4008-97f7-96c93c9b7103",
   "metadata": {
    "execution": {
     "iopub.execute_input": "2024-03-18T19:40:27.481812Z",
     "iopub.status.busy": "2024-03-18T19:40:27.481598Z",
     "iopub.status.idle": "2024-03-18T19:46:25.894264Z",
     "shell.execute_reply": "2024-03-18T19:46:25.893542Z",
     "shell.execute_reply.started": "2024-03-18T19:40:27.481791Z"
    },
    "tags": []
   },
   "outputs": [
    {
     "data": {
      "application/vnd.jupyter.widget-view+json": {
       "model_id": "91f1c1e2a6f7436d906ebac82034fff3",
       "version_major": 2,
       "version_minor": 0
      },
      "text/plain": [
       "VBox()"
      ]
     },
     "metadata": {},
     "output_type": "display_data"
    },
    {
     "data": {
      "application/vnd.jupyter.widget-view+json": {
       "model_id": "",
       "version_major": 2,
       "version_minor": 0
      },
      "text/plain": [
       "FloatProgress(value=0.0, bar_style='info', description='Progress:', layout=Layout(height='25px', width='50%'),…"
      ]
     },
     "metadata": {},
     "output_type": "display_data"
    },
    {
     "name": "stdout",
     "output_type": "stream",
     "text": [
      "Column<'to_date(2021-01-01)'>"
     ]
    }
   ],
   "source": [
    "reference_date = F.to_date(F.lit(final_df.agg(F.min(F.col(\"month\"))).collect()[0][0]))\n",
    "reference_date"
   ]
  },
  {
   "cell_type": "code",
   "execution_count": 20,
   "id": "f57d7e42-b086-4e86-8a84-06f8e5a6f6fe",
   "metadata": {
    "execution": {
     "iopub.execute_input": "2024-03-18T19:46:25.895348Z",
     "iopub.status.busy": "2024-03-18T19:46:25.895133Z",
     "iopub.status.idle": "2024-03-18T19:46:26.140150Z",
     "shell.execute_reply": "2024-03-18T19:46:26.139337Z",
     "shell.execute_reply.started": "2024-03-18T19:46:25.895327Z"
    },
    "tags": []
   },
   "outputs": [
    {
     "data": {
      "application/vnd.jupyter.widget-view+json": {
       "model_id": "3a2d85662a3d4d598d71c99de6f06b99",
       "version_major": 2,
       "version_minor": 0
      },
      "text/plain": [
       "VBox()"
      ]
     },
     "metadata": {},
     "output_type": "display_data"
    },
    {
     "data": {
      "application/vnd.jupyter.widget-view+json": {
       "model_id": "",
       "version_major": 2,
       "version_minor": 0
      },
      "text/plain": [
       "FloatProgress(value=0.0, bar_style='info', description='Progress:', layout=Layout(height='25px', width='50%'),…"
      ]
     },
     "metadata": {},
     "output_type": "display_data"
    }
   ],
   "source": [
    "# generate t_col variable\n",
    "final_df = final_df.withColumn(\"time_col\", (F.year(F.col(\"month\")) - F.year(reference_date)) * 12 + \n",
    "                   (F.month(F.col(\"month\")) - F.month(reference_date)) + 1)\n"
   ]
  },
  {
   "cell_type": "code",
   "execution_count": 21,
   "id": "e0f2c179-0989-4526-8ac1-4acc31529225",
   "metadata": {
    "execution": {
     "iopub.execute_input": "2024-03-18T19:46:26.141574Z",
     "iopub.status.busy": "2024-03-18T19:46:26.141285Z",
     "iopub.status.idle": "2024-03-18T19:50:52.179675Z",
     "shell.execute_reply": "2024-03-18T19:50:52.178903Z",
     "shell.execute_reply.started": "2024-03-18T19:46:26.141542Z"
    },
    "tags": []
   },
   "outputs": [
    {
     "data": {
      "application/vnd.jupyter.widget-view+json": {
       "model_id": "20a79e6dd2374ca4a642237bb60fdc55",
       "version_major": 2,
       "version_minor": 0
      },
      "text/plain": [
       "VBox()"
      ]
     },
     "metadata": {},
     "output_type": "display_data"
    },
    {
     "data": {
      "application/vnd.jupyter.widget-view+json": {
       "model_id": "",
       "version_major": 2,
       "version_minor": 0
      },
      "text/plain": [
       "FloatProgress(value=0.0, bar_style='info', description='Progress:', layout=Layout(height='25px', width='50%'),…"
      ]
     },
     "metadata": {},
     "output_type": "display_data"
    }
   ],
   "source": [
    "# Create a StringIndexer\n",
    "indexer = StringIndexer(inputCol=\"COMPANY_NAME\", outputCol=\"id_col\")\n",
    "\n",
    "# Fit the indexer to the DataFrame and transform the DataFrame\n",
    "final_df = indexer.fit(final_df).transform(final_df)"
   ]
  },
  {
   "cell_type": "code",
   "execution_count": 22,
   "id": "f4e02ede-4838-439f-b25f-0e24a3ca4330",
   "metadata": {
    "execution": {
     "iopub.execute_input": "2024-03-18T19:50:52.180830Z",
     "iopub.status.busy": "2024-03-18T19:50:52.180581Z",
     "iopub.status.idle": "2024-03-18T19:50:52.420306Z",
     "shell.execute_reply": "2024-03-18T19:50:52.419537Z",
     "shell.execute_reply.started": "2024-03-18T19:50:52.180806Z"
    },
    "tags": []
   },
   "outputs": [
    {
     "data": {
      "application/vnd.jupyter.widget-view+json": {
       "model_id": "b5f4eba01ed64f17b0c4692c0166c2bb",
       "version_major": 2,
       "version_minor": 0
      },
      "text/plain": [
       "VBox()"
      ]
     },
     "metadata": {},
     "output_type": "display_data"
    },
    {
     "data": {
      "application/vnd.jupyter.widget-view+json": {
       "model_id": "",
       "version_major": 2,
       "version_minor": 0
      },
      "text/plain": [
       "FloatProgress(value=0.0, bar_style='info', description='Progress:', layout=Layout(height='25px', width='50%'),…"
      ]
     },
     "metadata": {},
     "output_type": "display_data"
    }
   ],
   "source": [
    "final_df = final_df.withColumn(\"id_col\", F.col(\"id_col\").cast(IntegerType())) # generate id_col variable"
   ]
  },
  {
   "cell_type": "code",
   "execution_count": 23,
   "id": "d905aed3-fcbf-447a-9673-c5863b471d89",
   "metadata": {
    "execution": {
     "iopub.execute_input": "2024-03-18T19:50:52.422617Z",
     "iopub.status.busy": "2024-03-18T19:50:52.422400Z",
     "iopub.status.idle": "2024-03-18T19:50:52.458593Z",
     "shell.execute_reply": "2024-03-18T19:50:52.457979Z",
     "shell.execute_reply.started": "2024-03-18T19:50:52.422596Z"
    },
    "tags": []
   },
   "outputs": [
    {
     "data": {
      "application/vnd.jupyter.widget-view+json": {
       "model_id": "24e74670eb094dcd82e6b0579a19c106",
       "version_major": 2,
       "version_minor": 0
      },
      "text/plain": [
       "VBox()"
      ]
     },
     "metadata": {},
     "output_type": "display_data"
    },
    {
     "data": {
      "application/vnd.jupyter.widget-view+json": {
       "model_id": "",
       "version_major": 2,
       "version_minor": 0
      },
      "text/plain": [
       "FloatProgress(value=0.0, bar_style='info', description='Progress:', layout=Layout(height='25px', width='50%'),…"
      ]
     },
     "metadata": {},
     "output_type": "display_data"
    },
    {
     "name": "stdout",
     "output_type": "stream",
     "text": [
      "['ID', 'COMPANY_NAME', 'COMPANY_RAW', 'COMPANY_ID', 'COMPANY_FOUNDED', 'COMPANY_TWITTER_URL', 'COMPANY_LOCATION_POSTAL_CODE', 'COMPANY_LOCATION_REGION', 'COMPANY_LOCATION_GEO', 'TITLE_NAME', 'TITLE_LEVELS', 'COMPANY_SIZE', 'COMPANY_LOCATION_METRO', 'COMPANY_LOCATION_ADDRESS_LINE_2', 'TITLE_ROLE', 'TITLE_SUB_ROLE', 'COMPANY_LOCATION_NAME', 'START_DATE', 'TITLE_RAW', 'COMPANY_LOCATION_COUNTRY', 'LAST_UPDATED', 'SUMMARY', 'COMPANY_WEBSITE', 'COMPANY_LOCATION_LOCALITY', 'COMPANY_LOCATION_STREET_ADDRESS', 'COMPANY_LOCATION_CONTINENT', 'IS_PRIMARY', 'END_DATE', 'COMPANY_INDUSTRY', 'COMPANY_FACEBOOK_URL', 'COMPANY_LINKEDIN_URL', 'COMPANY_LINKEDIN_ID', 'name', 'domain', 'office_requirements', 'requirement_details', 'RTO_date_manual', 'GITHUB_URL', 'LINKEDIN_URL', 'LAST_INITIAL', 'BIRTH_DATE', 'LOCATION_ADDRESS_LINE_2', 'LOCATION_GEO', 'GENDER', 'LAST_NAME', 'TWITTER_URL', 'LOCATION_NAME', 'PERSONAL_EMAILS', 'LOCATION_COUNTRY', 'JOB_LAST_UPDATED', 'DATASET_RELEASE_DATE', 'FIRST_NAME', 'BIRTH_YEAR', 'LOCATION_LOCALITY', 'LOCATION_STREET_ADDRESS', 'LOCATION_LAST_UPDATED', 'DATASET_VERSION', 'MIDDLE_INITIAL', 'MIDDLE_NAME', 'FACEBOOK_URL', 'MOBILE_PHONE', 'LOCATION_METRO', 'LOCATION_REGION', 'LOCATION_CONTINENT', 'LOCATION_POSTAL_CODE', 'DATAPULL', 'FULL_NAME', 'month', 'title_categorical', 'tenure', 'time_col', 'id_col']"
     ]
    }
   ],
   "source": [
    "final_df.columns"
   ]
  },
  {
   "cell_type": "code",
   "execution_count": 24,
   "id": "ecb7295f-1f11-4c34-b9b6-2939a26a5317",
   "metadata": {
    "execution": {
     "iopub.execute_input": "2024-03-18T19:50:52.460220Z",
     "iopub.status.busy": "2024-03-18T19:50:52.460007Z",
     "iopub.status.idle": "2024-03-18T19:56:08.639716Z",
     "shell.execute_reply": "2024-03-18T19:56:08.639109Z",
     "shell.execute_reply.started": "2024-03-18T19:50:52.460199Z"
    },
    "tags": []
   },
   "outputs": [
    {
     "data": {
      "application/vnd.jupyter.widget-view+json": {
       "model_id": "5675a362825a41de903398befa38be15",
       "version_major": 2,
       "version_minor": 0
      },
      "text/plain": [
       "VBox()"
      ]
     },
     "metadata": {},
     "output_type": "display_data"
    },
    {
     "data": {
      "application/vnd.jupyter.widget-view+json": {
       "model_id": "",
       "version_major": 2,
       "version_minor": 0
      },
      "text/plain": [
       "FloatProgress(value=0.0, bar_style='info', description='Progress:', layout=Layout(height='25px', width='50%'),…"
      ]
     },
     "metadata": {},
     "output_type": "display_data"
    }
   ],
   "source": [
    "final_df.write.mode(\"overwrite\").parquet(data_dir + \"people_tenure_full.parquet\")\n",
    "\n"
   ]
  },
  {
   "cell_type": "markdown",
   "id": "1db8e51b-2d5b-4898-a733-870dbd31a8d6",
   "metadata": {},
   "source": [
    "## Calculate education"
   ]
  },
  {
   "cell_type": "code",
   "execution_count": 25,
   "id": "7061d4c0-2bfb-4731-b9e1-e576c139e90f",
   "metadata": {
    "execution": {
     "iopub.execute_input": "2024-03-18T19:56:08.640976Z",
     "iopub.status.busy": "2024-03-18T19:56:08.640723Z",
     "iopub.status.idle": "2024-03-18T19:56:09.384632Z",
     "shell.execute_reply": "2024-03-18T19:56:09.384040Z",
     "shell.execute_reply.started": "2024-03-18T19:56:08.640952Z"
    },
    "tags": []
   },
   "outputs": [
    {
     "data": {
      "application/vnd.jupyter.widget-view+json": {
       "model_id": "58e581b62f4c4983b912392763565b8d",
       "version_major": 2,
       "version_minor": 0
      },
      "text/plain": [
       "VBox()"
      ]
     },
     "metadata": {},
     "output_type": "display_data"
    },
    {
     "data": {
      "application/vnd.jupyter.widget-view+json": {
       "model_id": "",
       "version_major": 2,
       "version_minor": 0
      },
      "text/plain": [
       "FloatProgress(value=0.0, bar_style='info', description='Progress:', layout=Layout(height='25px', width='50%'),…"
      ]
     },
     "metadata": {},
     "output_type": "display_data"
    }
   ],
   "source": [
    "final_df = spark.read.parquet(data_dir + \"people_tenure_full.parquet\")\n"
   ]
  },
  {
   "cell_type": "code",
   "execution_count": 26,
   "id": "53fa0412-4e7f-4169-9af0-1f2d2ec56237",
   "metadata": {
    "execution": {
     "iopub.execute_input": "2024-03-18T19:56:09.385740Z",
     "iopub.status.busy": "2024-03-18T19:56:09.385530Z",
     "iopub.status.idle": "2024-03-18T19:56:14.648135Z",
     "shell.execute_reply": "2024-03-18T19:56:14.647402Z",
     "shell.execute_reply.started": "2024-03-18T19:56:09.385720Z"
    },
    "tags": []
   },
   "outputs": [
    {
     "data": {
      "application/vnd.jupyter.widget-view+json": {
       "model_id": "6c93e790b3ce4f7ba64fcde3a0a968aa",
       "version_major": 2,
       "version_minor": 0
      },
      "text/plain": [
       "VBox()"
      ]
     },
     "metadata": {},
     "output_type": "display_data"
    },
    {
     "data": {
      "application/vnd.jupyter.widget-view+json": {
       "model_id": "",
       "version_major": 2,
       "version_minor": 0
      },
      "text/plain": [
       "FloatProgress(value=0.0, bar_style='info', description='Progress:', layout=Layout(height='25px', width='50%'),…"
      ]
     },
     "metadata": {},
     "output_type": "display_data"
    }
   ],
   "source": [
    "# merge in education TODO: recalculate\n",
    "# note a person can have multiple degrees so there's ID duplicates\n",
    "edu = spark.read.option(\"multiLine\", \"true\") \\\n",
    "                .option(\"escape\", \"\\\"\") \\\n",
    "                .option(\"quote\", '\"').csv(data_ppl + \"people-edu/\", header=True)\n",
    "# edu = edu.filter(F.col(\"SCHOOL_TYPE\") == \"post-secondary institution\")\n",
    "# start and end date are missing less often than degrees, so calculate years of schooling\n",
    "edu = edu.withColumn(\"edu_days\", (F.col(\"SCHOOL_TYPE\") ==  \"post-secondary institution\").cast(IntegerType()) * F.datediff(F.col(\"END_DATE\"), F.col(\"START_DATE\")))\n",
    "edu = edu.groupBy(\"ID\").agg(F.sum(\"edu_days\").alias(\"edu_days\"))"
   ]
  },
  {
   "cell_type": "code",
   "execution_count": 27,
   "id": "05417ee4-1124-404e-b4d0-f9bb2e8b9eae",
   "metadata": {
    "execution": {
     "iopub.execute_input": "2024-03-18T19:56:14.649304Z",
     "iopub.status.busy": "2024-03-18T19:56:14.649071Z",
     "iopub.status.idle": "2024-03-18T19:56:14.892116Z",
     "shell.execute_reply": "2024-03-18T19:56:14.891243Z",
     "shell.execute_reply.started": "2024-03-18T19:56:14.649275Z"
    },
    "tags": []
   },
   "outputs": [
    {
     "data": {
      "application/vnd.jupyter.widget-view+json": {
       "model_id": "261629ea9d6a4e9c8a155f73aeb677c3",
       "version_major": 2,
       "version_minor": 0
      },
      "text/plain": [
       "VBox()"
      ]
     },
     "metadata": {},
     "output_type": "display_data"
    },
    {
     "data": {
      "application/vnd.jupyter.widget-view+json": {
       "model_id": "",
       "version_major": 2,
       "version_minor": 0
      },
      "text/plain": [
       "FloatProgress(value=0.0, bar_style='info', description='Progress:', layout=Layout(height='25px', width='50%'),…"
      ]
     },
     "metadata": {},
     "output_type": "display_data"
    }
   ],
   "source": [
    "# fill in 0 for those without post-secondary \n",
    "edu = edu.withColumn(\"edu_days\", F.when(F.col(\"edu_days\").isNull(), 0).otherwise(F.col(\"edu_days\")))"
   ]
  },
  {
   "cell_type": "code",
   "execution_count": 28,
   "id": "d9902bc6-64b7-4820-af78-164897fca62e",
   "metadata": {
    "execution": {
     "iopub.execute_input": "2024-03-18T19:56:14.893725Z",
     "iopub.status.busy": "2024-03-18T19:56:14.893399Z",
     "iopub.status.idle": "2024-03-18T19:56:15.141306Z",
     "shell.execute_reply": "2024-03-18T19:56:15.140622Z",
     "shell.execute_reply.started": "2024-03-18T19:56:14.893691Z"
    },
    "tags": []
   },
   "outputs": [
    {
     "data": {
      "application/vnd.jupyter.widget-view+json": {
       "model_id": "edb9fefcbe13431fb4fe649c016987f1",
       "version_major": 2,
       "version_minor": 0
      },
      "text/plain": [
       "VBox()"
      ]
     },
     "metadata": {},
     "output_type": "display_data"
    },
    {
     "data": {
      "application/vnd.jupyter.widget-view+json": {
       "model_id": "",
       "version_major": 2,
       "version_minor": 0
      },
      "text/plain": [
       "FloatProgress(value=0.0, bar_style='info', description='Progress:', layout=Layout(height='25px', width='50%'),…"
      ]
     },
     "metadata": {},
     "output_type": "display_data"
    }
   ],
   "source": [
    "final_df = final_df.join(edu, on = \"ID\", how = \"left\")"
   ]
  },
  {
   "cell_type": "code",
   "execution_count": 29,
   "id": "fd5e109d-35f1-44be-bc21-26516b1114fb",
   "metadata": {
    "execution": {
     "iopub.execute_input": "2024-03-18T19:56:15.142402Z",
     "iopub.status.busy": "2024-03-18T19:56:15.142197Z",
     "iopub.status.idle": "2024-03-18T19:58:06.697690Z",
     "shell.execute_reply": "2024-03-18T19:58:06.696898Z",
     "shell.execute_reply.started": "2024-03-18T19:56:15.142380Z"
    },
    "tags": []
   },
   "outputs": [
    {
     "data": {
      "application/vnd.jupyter.widget-view+json": {
       "model_id": "41138ce53d78482699e9aa3684c60244",
       "version_major": 2,
       "version_minor": 0
      },
      "text/plain": [
       "VBox()"
      ]
     },
     "metadata": {},
     "output_type": "display_data"
    },
    {
     "data": {
      "application/vnd.jupyter.widget-view+json": {
       "model_id": "",
       "version_major": 2,
       "version_minor": 0
      },
      "text/plain": [
       "FloatProgress(value=0.0, bar_style='info', description='Progress:', layout=Layout(height='25px', width='50%'),…"
      ]
     },
     "metadata": {},
     "output_type": "display_data"
    }
   ],
   "source": [
    "final_df.write.mode(\"overwrite\").parquet(data_dir + \"people_tenure_full_edu.parquet\")"
   ]
  },
  {
   "cell_type": "markdown",
   "id": "4517210b-d1f1-4fea-b6f5-e1f9e75e2c78",
   "metadata": {
    "execution": {
     "iopub.execute_input": "2024-02-06T01:56:12.732346Z",
     "iopub.status.busy": "2024-02-06T01:56:12.732043Z",
     "iopub.status.idle": "2024-02-06T02:58:40.490178Z",
     "shell.execute_reply": "2024-02-06T02:58:40.489563Z",
     "shell.execute_reply.started": "2024-02-06T01:56:12.732320Z"
    },
    "jupyter": {
     "outputs_hidden": true
    },
    "tags": []
   },
   "source": [
    "### Prep for disco estimation "
   ]
  },
  {
   "cell_type": "code",
   "execution_count": 30,
   "id": "f6deaae9-27b2-4d5b-92a6-1cbfeac76d6a",
   "metadata": {
    "execution": {
     "iopub.execute_input": "2024-03-18T19:58:06.699289Z",
     "iopub.status.busy": "2024-03-18T19:58:06.698961Z",
     "iopub.status.idle": "2024-03-18T19:58:07.448188Z",
     "shell.execute_reply": "2024-03-18T19:58:07.447577Z",
     "shell.execute_reply.started": "2024-03-18T19:58:06.699254Z"
    },
    "tags": []
   },
   "outputs": [
    {
     "data": {
      "application/vnd.jupyter.widget-view+json": {
       "model_id": "a488b5af75dd4912a7ca97ea1e7f7a65",
       "version_major": 2,
       "version_minor": 0
      },
      "text/plain": [
       "VBox()"
      ]
     },
     "metadata": {},
     "output_type": "display_data"
    },
    {
     "data": {
      "application/vnd.jupyter.widget-view+json": {
       "model_id": "",
       "version_major": 2,
       "version_minor": 0
      },
      "text/plain": [
       "FloatProgress(value=0.0, bar_style='info', description='Progress:', layout=Layout(height='25px', width='50%'),…"
      ]
     },
     "metadata": {},
     "output_type": "display_data"
    }
   ],
   "source": [
    "final_df = spark.read.parquet(data_dir + \"people_tenure_full_edu.parquet\")\n"
   ]
  },
  {
   "cell_type": "code",
   "execution_count": 31,
   "id": "2315aeb1-090c-4ca2-bbc8-c2100d43f184",
   "metadata": {
    "execution": {
     "iopub.execute_input": "2024-03-18T19:58:07.449286Z",
     "iopub.status.busy": "2024-03-18T19:58:07.449081Z",
     "iopub.status.idle": "2024-03-18T19:58:07.486499Z",
     "shell.execute_reply": "2024-03-18T19:58:07.485827Z",
     "shell.execute_reply.started": "2024-03-18T19:58:07.449266Z"
    },
    "tags": []
   },
   "outputs": [
    {
     "data": {
      "application/vnd.jupyter.widget-view+json": {
       "model_id": "1b5d501a3d5f4f2c8106900ea5279926",
       "version_major": 2,
       "version_minor": 0
      },
      "text/plain": [
       "VBox()"
      ]
     },
     "metadata": {},
     "output_type": "display_data"
    },
    {
     "data": {
      "application/vnd.jupyter.widget-view+json": {
       "model_id": "",
       "version_major": 2,
       "version_minor": 0
      },
      "text/plain": [
       "FloatProgress(value=0.0, bar_style='info', description='Progress:', layout=Layout(height='25px', width='50%'),…"
      ]
     },
     "metadata": {},
     "output_type": "display_data"
    },
    {
     "name": "stdout",
     "output_type": "stream",
     "text": [
      "['ID', 'COMPANY_NAME', 'COMPANY_RAW', 'COMPANY_ID', 'COMPANY_FOUNDED', 'COMPANY_TWITTER_URL', 'COMPANY_LOCATION_POSTAL_CODE', 'COMPANY_LOCATION_REGION', 'COMPANY_LOCATION_GEO', 'TITLE_NAME', 'TITLE_LEVELS', 'COMPANY_SIZE', 'COMPANY_LOCATION_METRO', 'COMPANY_LOCATION_ADDRESS_LINE_2', 'TITLE_ROLE', 'TITLE_SUB_ROLE', 'COMPANY_LOCATION_NAME', 'START_DATE', 'TITLE_RAW', 'COMPANY_LOCATION_COUNTRY', 'LAST_UPDATED', 'SUMMARY', 'COMPANY_WEBSITE', 'COMPANY_LOCATION_LOCALITY', 'COMPANY_LOCATION_STREET_ADDRESS', 'COMPANY_LOCATION_CONTINENT', 'IS_PRIMARY', 'END_DATE', 'COMPANY_INDUSTRY', 'COMPANY_FACEBOOK_URL', 'COMPANY_LINKEDIN_URL', 'COMPANY_LINKEDIN_ID', 'name', 'domain', 'office_requirements', 'requirement_details', 'RTO_date_manual', 'GITHUB_URL', 'LINKEDIN_URL', 'LAST_INITIAL', 'BIRTH_DATE', 'LOCATION_ADDRESS_LINE_2', 'LOCATION_GEO', 'GENDER', 'LAST_NAME', 'TWITTER_URL', 'LOCATION_NAME', 'PERSONAL_EMAILS', 'LOCATION_COUNTRY', 'JOB_LAST_UPDATED', 'DATASET_RELEASE_DATE', 'FIRST_NAME', 'BIRTH_YEAR', 'LOCATION_LOCALITY', 'LOCATION_STREET_ADDRESS', 'LOCATION_LAST_UPDATED', 'DATASET_VERSION', 'MIDDLE_INITIAL', 'MIDDLE_NAME', 'FACEBOOK_URL', 'MOBILE_PHONE', 'LOCATION_METRO', 'LOCATION_REGION', 'LOCATION_CONTINENT', 'LOCATION_POSTAL_CODE', 'DATAPULL', 'FULL_NAME', 'month', 'title_categorical', 'tenure', 'time_col', 'id_col', 'edu_days']"
     ]
    }
   ],
   "source": [
    "final_df.columns"
   ]
  },
  {
   "cell_type": "code",
   "execution_count": 32,
   "id": "c1ceaea1-50fd-4935-b0b4-9050f1179418",
   "metadata": {
    "execution": {
     "iopub.execute_input": "2024-03-18T19:58:07.488092Z",
     "iopub.status.busy": "2024-03-18T19:58:07.487768Z",
     "iopub.status.idle": "2024-03-18T19:58:07.732395Z",
     "shell.execute_reply": "2024-03-18T19:58:07.731484Z",
     "shell.execute_reply.started": "2024-03-18T19:58:07.488055Z"
    },
    "tags": []
   },
   "outputs": [
    {
     "data": {
      "application/vnd.jupyter.widget-view+json": {
       "model_id": "3817724d7b4e4a3f9a7d1dbf53a1419d",
       "version_major": 2,
       "version_minor": 0
      },
      "text/plain": [
       "VBox()"
      ]
     },
     "metadata": {},
     "output_type": "display_data"
    },
    {
     "data": {
      "application/vnd.jupyter.widget-view+json": {
       "model_id": "",
       "version_major": 2,
       "version_minor": 0
      },
      "text/plain": [
       "FloatProgress(value=0.0, bar_style='info', description='Progress:', layout=Layout(height='25px', width='50%'),…"
      ]
     },
     "metadata": {},
     "output_type": "display_data"
    }
   ],
   "source": [
    "final_df = final_df.withColumn(\"rto_ever\", \n",
    "                         F.when( (F.col(\"office_requirements\").isin([\"Employee's choice\", \"Fully remote\"]) \n",
    "                                 ), 0).otherwise(F.when(F.col(\"office_requirements\").isNull() | (F.isnan(\"office_requirements\")),\n",
    "                                                       F.lit(None)).otherwise(1))\n",
    "                        )\n"
   ]
  },
  {
   "cell_type": "code",
   "execution_count": 33,
   "id": "47fc1021-b7e9-43ef-8346-c44e2f47f2a8",
   "metadata": {
    "execution": {
     "iopub.execute_input": "2024-03-18T19:58:07.733870Z",
     "iopub.status.busy": "2024-03-18T19:58:07.733546Z",
     "iopub.status.idle": "2024-03-18T19:58:07.978619Z",
     "shell.execute_reply": "2024-03-18T19:58:07.977799Z",
     "shell.execute_reply.started": "2024-03-18T19:58:07.733834Z"
    },
    "tags": []
   },
   "outputs": [
    {
     "data": {
      "application/vnd.jupyter.widget-view+json": {
       "model_id": "ce6110318bda4891b136fb9ceb9ce946",
       "version_major": 2,
       "version_minor": 0
      },
      "text/plain": [
       "VBox()"
      ]
     },
     "metadata": {},
     "output_type": "display_data"
    },
    {
     "data": {
      "application/vnd.jupyter.widget-view+json": {
       "model_id": "",
       "version_major": 2,
       "version_minor": 0
      },
      "text/plain": [
       "FloatProgress(value=0.0, bar_style='info', description='Progress:', layout=Layout(height='25px', width='50%'),…"
      ]
     },
     "metadata": {},
     "output_type": "display_data"
    }
   ],
   "source": [
    "test = final_df.withColumn(\"rto_ever\", F.when((F.col(\"RTO_date_manual\") == \"never\") & \n",
    "                                            (F.col(\"rto_ever\") != 1), 0)\n",
    "                               .otherwise(F.when((~F.col(\"RTO_date_manual\").isin([\"never\", \"missing\"]) | \n",
    "                                                   (F.col(\"RTO_date_manual\").isNotNull())) & \n",
    "                                                  ((F.col(\"rto_ever\") != 0) | (F.col(\"rto_ever\").isNull())), 1)\n",
    "                                                 .otherwise(F.col(\"rto_ever\"))))\n"
   ]
  },
  {
   "cell_type": "code",
   "execution_count": 34,
   "id": "c064cafe-948a-4d4c-be7f-a69d193eacca",
   "metadata": {
    "execution": {
     "iopub.execute_input": "2024-03-18T19:58:07.980059Z",
     "iopub.status.busy": "2024-03-18T19:58:07.979741Z",
     "iopub.status.idle": "2024-03-18T19:58:11.238302Z",
     "shell.execute_reply": "2024-03-18T19:58:11.237517Z",
     "shell.execute_reply.started": "2024-03-18T19:58:07.980025Z"
    },
    "tags": []
   },
   "outputs": [
    {
     "data": {
      "application/vnd.jupyter.widget-view+json": {
       "model_id": "66b44852296240c4958d2aa5a6938637",
       "version_major": 2,
       "version_minor": 0
      },
      "text/plain": [
       "VBox()"
      ]
     },
     "metadata": {},
     "output_type": "display_data"
    },
    {
     "data": {
      "application/vnd.jupyter.widget-view+json": {
       "model_id": "",
       "version_major": 2,
       "version_minor": 0
      },
      "text/plain": [
       "FloatProgress(value=0.0, bar_style='info', description='Progress:', layout=Layout(height='25px', width='50%'),…"
      ]
     },
     "metadata": {},
     "output_type": "display_data"
    }
   ],
   "source": [
    "fn = data_ppl + \"company-data-and-insights/data_0_0_10.csv.gz\"\n",
    "temp = pd.read_csv(fn)\n",
    "schem = spark.createDataFrame(temp)"
   ]
  },
  {
   "cell_type": "code",
   "execution_count": 35,
   "id": "9c304cc9-8a0b-405c-abbe-cc484eb6cb81",
   "metadata": {
    "execution": {
     "iopub.execute_input": "2024-03-18T19:58:11.239783Z",
     "iopub.status.busy": "2024-03-18T19:58:11.239459Z",
     "iopub.status.idle": "2024-03-18T19:58:11.986463Z",
     "shell.execute_reply": "2024-03-18T19:58:11.985841Z",
     "shell.execute_reply.started": "2024-03-18T19:58:11.239747Z"
    },
    "tags": []
   },
   "outputs": [
    {
     "data": {
      "application/vnd.jupyter.widget-view+json": {
       "model_id": "72948bed39b342cb9638d99b3345473d",
       "version_major": 2,
       "version_minor": 0
      },
      "text/plain": [
       "VBox()"
      ]
     },
     "metadata": {},
     "output_type": "display_data"
    },
    {
     "data": {
      "application/vnd.jupyter.widget-view+json": {
       "model_id": "",
       "version_major": 2,
       "version_minor": 0
      },
      "text/plain": [
       "FloatProgress(value=0.0, bar_style='info', description='Progress:', layout=Layout(height='25px', width='50%'),…"
      ]
     },
     "metadata": {},
     "output_type": "display_data"
    }
   ],
   "source": [
    "# Adjust the read statement to handle multi-line fields correctly\n",
    "comp = spark.read.option(\"header\", \"true\") \\\n",
    "               .option(\"multiLine\", \"true\") \\\n",
    "                .option(\"escape\", \"\\\"\") \\\n",
    "                .option(\"quote\", '\"') \\\n",
    "               .csv(data_ppl + \"company-data-and-insights/\", schema=schem.schema)\n",
    "\n",
    "comp = comp.dropDuplicates() # there are a bunch of identical duplicates"
   ]
  },
  {
   "cell_type": "code",
   "execution_count": 36,
   "id": "b2dc1f4b-631b-4e8a-9626-e058d8cbd1b0",
   "metadata": {
    "execution": {
     "iopub.execute_input": "2024-03-18T19:58:11.987636Z",
     "iopub.status.busy": "2024-03-18T19:58:11.987411Z",
     "iopub.status.idle": "2024-03-18T19:58:12.228128Z",
     "shell.execute_reply": "2024-03-18T19:58:12.227516Z",
     "shell.execute_reply.started": "2024-03-18T19:58:11.987613Z"
    },
    "tags": []
   },
   "outputs": [
    {
     "data": {
      "application/vnd.jupyter.widget-view+json": {
       "model_id": "d647c5f088aa45f5b1aa8a29c8108c93",
       "version_major": 2,
       "version_minor": 0
      },
      "text/plain": [
       "VBox()"
      ]
     },
     "metadata": {},
     "output_type": "display_data"
    },
    {
     "data": {
      "application/vnd.jupyter.widget-view+json": {
       "model_id": "",
       "version_major": 2,
       "version_minor": 0
      },
      "text/plain": [
       "FloatProgress(value=0.0, bar_style='info', description='Progress:', layout=Layout(height='25px', width='50%'),…"
      ]
     },
     "metadata": {},
     "output_type": "display_data"
    }
   ],
   "source": [
    "# I checked and this is a one-to-one match\n",
    "test = test.join(comp.select(\"ID\", \"NAICS\").withColumnRenamed(\"ID\", \"COMPANY_ID\"), on = \"COMPANY_ID\", how=\"left\")"
   ]
  },
  {
   "cell_type": "code",
   "execution_count": 37,
   "id": "25909e27-d76c-4829-bc5e-5b0c45b231fd",
   "metadata": {
    "execution": {
     "iopub.execute_input": "2024-03-18T19:58:12.229257Z",
     "iopub.status.busy": "2024-03-18T19:58:12.229016Z",
     "iopub.status.idle": "2024-03-18T19:58:12.467570Z",
     "shell.execute_reply": "2024-03-18T19:58:12.466891Z",
     "shell.execute_reply.started": "2024-03-18T19:58:12.229233Z"
    },
    "tags": []
   },
   "outputs": [
    {
     "data": {
      "application/vnd.jupyter.widget-view+json": {
       "model_id": "8189b2ea3cab429dad44af751147af93",
       "version_major": 2,
       "version_minor": 0
      },
      "text/plain": [
       "VBox()"
      ]
     },
     "metadata": {},
     "output_type": "display_data"
    },
    {
     "data": {
      "application/vnd.jupyter.widget-view+json": {
       "model_id": "",
       "version_major": 2,
       "version_minor": 0
      },
      "text/plain": [
       "FloatProgress(value=0.0, bar_style='info', description='Progress:', layout=Layout(height='25px', width='50%'),…"
      ]
     },
     "metadata": {},
     "output_type": "display_data"
    }
   ],
   "source": [
    "test = test.filter( ((F.col(\"RTO_date_manual\") != \"missing\") & (F.col(\"RTO_date_manual\").isNotNull())) | \n",
    "                   (F.col(\"rto_ever\") ==  0))"
   ]
  },
  {
   "cell_type": "code",
   "execution_count": 38,
   "id": "3244ccf4-9bdf-4a73-84b5-254c78fd1a7e",
   "metadata": {
    "execution": {
     "iopub.execute_input": "2024-03-18T19:58:12.470487Z",
     "iopub.status.busy": "2024-03-18T19:58:12.470270Z",
     "iopub.status.idle": "2024-03-18T19:58:12.708839Z",
     "shell.execute_reply": "2024-03-18T19:58:12.708012Z",
     "shell.execute_reply.started": "2024-03-18T19:58:12.470466Z"
    },
    "tags": []
   },
   "outputs": [
    {
     "data": {
      "application/vnd.jupyter.widget-view+json": {
       "model_id": "6bd4c8bd17204b1e8a066c754672b4cf",
       "version_major": 2,
       "version_minor": 0
      },
      "text/plain": [
       "VBox()"
      ]
     },
     "metadata": {},
     "output_type": "display_data"
    },
    {
     "data": {
      "application/vnd.jupyter.widget-view+json": {
       "model_id": "",
       "version_major": 2,
       "version_minor": 0
      },
      "text/plain": [
       "FloatProgress(value=0.0, bar_style='info', description='Progress:', layout=Layout(height='25px', width='50%'),…"
      ]
     },
     "metadata": {},
     "output_type": "display_data"
    }
   ],
   "source": [
    "test = test.withColumn(\"tenure\", F.col(\"tenure\").cast(IntegerType()))"
   ]
  },
  {
   "cell_type": "code",
   "execution_count": 39,
   "id": "97b92737-afd1-40da-a6bd-d08f314012ab",
   "metadata": {
    "execution": {
     "iopub.execute_input": "2024-03-18T19:58:12.710487Z",
     "iopub.status.busy": "2024-03-18T19:58:12.710168Z",
     "iopub.status.idle": "2024-03-18T19:58:12.954749Z",
     "shell.execute_reply": "2024-03-18T19:58:12.953942Z",
     "shell.execute_reply.started": "2024-03-18T19:58:12.710452Z"
    },
    "tags": []
   },
   "outputs": [
    {
     "data": {
      "application/vnd.jupyter.widget-view+json": {
       "model_id": "f1e4e04d9e5a4126823b23615c30dad6",
       "version_major": 2,
       "version_minor": 0
      },
      "text/plain": [
       "VBox()"
      ]
     },
     "metadata": {},
     "output_type": "display_data"
    },
    {
     "data": {
      "application/vnd.jupyter.widget-view+json": {
       "model_id": "",
       "version_major": 2,
       "version_minor": 0
      },
      "text/plain": [
       "FloatProgress(value=0.0, bar_style='info', description='Progress:', layout=Layout(height='25px', width='50%'),…"
      ]
     },
     "metadata": {},
     "output_type": "display_data"
    }
   ],
   "source": [
    "\n",
    "df_with_naics = test.withColumn(\"naics_code\", F.regexp_extract(\"NAICS\", '\\\\\\\\\"naics_code\\\\\\\\\":\\\\\\\\\"(\\\\d+)', 1))\n"
   ]
  },
  {
   "cell_type": "code",
   "execution_count": 40,
   "id": "397cc311-aadf-4e0b-943b-2276d06a832b",
   "metadata": {
    "execution": {
     "iopub.execute_input": "2024-03-18T19:58:12.956205Z",
     "iopub.status.busy": "2024-03-18T19:58:12.955884Z",
     "iopub.status.idle": "2024-03-18T20:02:19.011510Z",
     "shell.execute_reply": "2024-03-18T20:02:19.010880Z",
     "shell.execute_reply.started": "2024-03-18T19:58:12.956170Z"
    },
    "tags": []
   },
   "outputs": [
    {
     "data": {
      "application/vnd.jupyter.widget-view+json": {
       "model_id": "bec4624e63af422292e71a7fae7632f1",
       "version_major": 2,
       "version_minor": 0
      },
      "text/plain": [
       "VBox()"
      ]
     },
     "metadata": {},
     "output_type": "display_data"
    },
    {
     "data": {
      "application/vnd.jupyter.widget-view+json": {
       "model_id": "",
       "version_major": 2,
       "version_minor": 0
      },
      "text/plain": [
       "FloatProgress(value=0.0, bar_style='info', description='Progress:', layout=Layout(height='25px', width='50%'),…"
      ]
     },
     "metadata": {},
     "output_type": "display_data"
    }
   ],
   "source": [
    "df_with_naics.select(\"ID\", \"tenure\", \"time_col\", \"id_col\", \"month\", \"COMPANY_NAME\", \"RTO_date_manual\", \"edu_days\", \"title_categorical\", \"START_DATE\", \"END_DATE\", \n",
    "           \"naics_code\").write.mode(\"overwrite\").parquet(data_dir + \"people_tenure_prepped\")\n"
   ]
  },
  {
   "cell_type": "code",
   "execution_count": 2,
   "id": "94f8458a-5d79-4730-a2ad-5b62cc48d24b",
   "metadata": {
    "execution": {
     "iopub.execute_input": "2024-03-18T18:09:21.264101Z",
     "iopub.status.busy": "2024-03-18T18:09:21.263875Z",
     "iopub.status.idle": "2024-03-18T18:09:26.566958Z",
     "shell.execute_reply": "2024-03-18T18:09:26.566326Z",
     "shell.execute_reply.started": "2024-03-18T18:09:21.264079Z"
    },
    "tags": []
   },
   "outputs": [
    {
     "data": {
      "application/vnd.jupyter.widget-view+json": {
       "model_id": "c27824bb58e148fd86603f96339aa83b",
       "version_major": 2,
       "version_minor": 0
      },
      "text/plain": [
       "VBox()"
      ]
     },
     "metadata": {},
     "output_type": "display_data"
    },
    {
     "data": {
      "application/vnd.jupyter.widget-view+json": {
       "model_id": "",
       "version_major": 2,
       "version_minor": 0
      },
      "text/plain": [
       "FloatProgress(value=0.0, bar_style='info', description='Progress:', layout=Layout(height='25px', width='50%'),…"
      ]
     },
     "metadata": {},
     "output_type": "display_data"
    }
   ],
   "source": [
    "df = spark.read.parquet(data_dir + \"people_tenure_prepped\")"
   ]
  },
  {
   "cell_type": "code",
   "execution_count": 3,
   "id": "6b0bfc68-ac36-48e6-a374-10a5f997a408",
   "metadata": {
    "execution": {
     "iopub.execute_input": "2024-03-18T18:09:26.568386Z",
     "iopub.status.busy": "2024-03-18T18:09:26.568169Z",
     "iopub.status.idle": "2024-03-18T18:09:26.814736Z",
     "shell.execute_reply": "2024-03-18T18:09:26.814071Z",
     "shell.execute_reply.started": "2024-03-18T18:09:26.568365Z"
    }
   },
   "outputs": [
    {
     "data": {
      "application/vnd.jupyter.widget-view+json": {
       "model_id": "e76fce151ff24e34bbd976a0b6cc7fd3",
       "version_major": 2,
       "version_minor": 0
      },
      "text/plain": [
       "VBox()"
      ]
     },
     "metadata": {},
     "output_type": "display_data"
    },
    {
     "data": {
      "application/vnd.jupyter.widget-view+json": {
       "model_id": "",
       "version_major": 2,
       "version_minor": 0
      },
      "text/plain": [
       "FloatProgress(value=0.0, bar_style='info', description='Progress:', layout=Layout(height='25px', width='50%'),…"
      ]
     },
     "metadata": {},
     "output_type": "display_data"
    },
    {
     "name": "stdout",
     "output_type": "stream",
     "text": [
      "['ID', 'tenure', 'time_col', 'id_col', 'month', 'COMPANY_NAME', 'RTO_date_manual', 'edu_days', 'title_categorical', 'START_DATE', 'END_DATE', 'naics_code']"
     ]
    }
   ],
   "source": [
    "df.columns"
   ]
  },
  {
   "cell_type": "code",
   "execution_count": 4,
   "id": "22501634-8425-4068-9e47-bcb489d769a4",
   "metadata": {
    "execution": {
     "iopub.execute_input": "2024-03-18T18:16:27.912046Z",
     "iopub.status.busy": "2024-03-18T18:16:27.911730Z",
     "iopub.status.idle": "2024-03-18T18:16:27.954953Z",
     "shell.execute_reply": "2024-03-18T18:16:27.954327Z",
     "shell.execute_reply.started": "2024-03-18T18:16:27.912019Z"
    }
   },
   "outputs": [
    {
     "data": {
      "application/vnd.jupyter.widget-view+json": {
       "model_id": "9e45b972318c4f71bceaa365ea203745",
       "version_major": 2,
       "version_minor": 0
      },
      "text/plain": [
       "VBox()"
      ]
     },
     "metadata": {},
     "output_type": "display_data"
    },
    {
     "data": {
      "application/vnd.jupyter.widget-view+json": {
       "model_id": "",
       "version_major": 2,
       "version_minor": 0
      },
      "text/plain": [
       "FloatProgress(value=0.0, bar_style='info', description='Progress:', layout=Layout(height='25px', width='50%'),…"
      ]
     },
     "metadata": {},
     "output_type": "display_data"
    },
    {
     "name": "stdout",
     "output_type": "stream",
     "text": [
      "'s3://ipsos-dvd/ppl/data/'"
     ]
    }
   ],
   "source": [
    "data_dir"
   ]
  },
  {
   "cell_type": "code",
   "execution_count": null,
   "id": "4c47b361-1920-41e6-a9a1-cec0c806cc89",
   "metadata": {},
   "outputs": [],
   "source": []
  }
 ],
 "metadata": {
  "kernelspec": {
   "display_name": "PySpark",
   "language": "python",
   "name": "pysparkkernel"
  },
  "language_info": {
   "codemirror_mode": {
    "name": "python",
    "version": 3
   },
   "file_extension": ".py",
   "mimetype": "text/x-python",
   "name": "pyspark",
   "pygments_lexer": "python3"
  }
 },
 "nbformat": 4,
 "nbformat_minor": 5
}
