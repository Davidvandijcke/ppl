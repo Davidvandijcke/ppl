{
 "cells": [
  {
   "cell_type": "markdown",
   "id": "02065207-e92c-480a-8b5f-381c7bdd0eb2",
   "metadata": {},
   "source": [
    "# People Data Labs Exploration"
   ]
  },
  {
   "cell_type": "code",
   "execution_count": 1,
   "id": "1bff0e30-f409-4968-a4bc-398d57888681",
   "metadata": {
    "execution": {
     "iopub.execute_input": "2024-02-09T19:16:44.114744Z",
     "iopub.status.busy": "2024-02-09T19:16:44.114421Z",
     "iopub.status.idle": "2024-02-09T19:17:21.951623Z",
     "shell.execute_reply": "2024-02-09T19:17:21.950982Z",
     "shell.execute_reply.started": "2024-02-09T19:16:44.114711Z"
    },
    "tags": []
   },
   "outputs": [
    {
     "data": {
      "application/vnd.jupyter.widget-view+json": {
       "model_id": "068657aa83694c6693643d01f52bdd32",
       "version_major": 2,
       "version_minor": 0
      },
      "text/plain": [
       "VBox()"
      ]
     },
     "metadata": {},
     "output_type": "display_data"
    },
    {
     "name": "stdout",
     "output_type": "stream",
     "text": [
      "Starting Spark application\n"
     ]
    },
    {
     "data": {
      "text/html": [
       "<table>\n<tbody><tr><th>ID</th><th>YARN Application ID</th><th>Kind</th><th>State</th><th>Spark UI</th><th>Driver log</th><th>User</th><th>Current session?</th></tr><tr><td>5</td><td>application_1707501721861_0006</td><td>pyspark</td><td>idle</td><td><a target=\"_blank\" href=\"http://ip-172-31-42-34.ec2.internal:20888/proxy/application_1707501721861_0006/\" class=\"emr-proxy-link j-2R3S8HY60S2J4 application_1707501721861_0006\" emr-resource=\"j-2R3S8HY60S2J4\n\" application-id=\"application_1707501721861_0006\">Link</a></td><td><a target=\"_blank\" href=\"http://ip-172-31-32-76.ec2.internal:8042/node/containerlogs/container_1707501721861_0006_01_000001/livy\">Link</a></td><td>None</td><td>✔</td></tr></tbody></table>"
      ],
      "text/plain": [
       "<IPython.core.display.HTML object>"
      ]
     },
     "metadata": {},
     "output_type": "display_data"
    },
    {
     "data": {
      "application/vnd.jupyter.widget-view+json": {
       "model_id": "",
       "version_major": 2,
       "version_minor": 0
      },
      "text/plain": [
       "FloatProgress(value=0.0, bar_style='info', description='Progress:', layout=Layout(height='25px', width='50%'),…"
      ]
     },
     "metadata": {},
     "output_type": "display_data"
    },
    {
     "name": "stdout",
     "output_type": "stream",
     "text": [
      "SparkSession available as 'spark'.\n"
     ]
    },
    {
     "data": {
      "application/vnd.jupyter.widget-view+json": {
       "model_id": "",
       "version_major": 2,
       "version_minor": 0
      },
      "text/plain": [
       "FloatProgress(value=0.0, bar_style='info', description='Progress:', layout=Layout(height='25px', width='50%'),…"
      ]
     },
     "metadata": {},
     "output_type": "display_data"
    },
    {
     "name": "stdout",
     "output_type": "stream",
     "text": [
      "Collecting thefuzz\n",
      "  Downloading thefuzz-0.20.0-py3-none-any.whl.metadata (3.9 kB)\n",
      "Collecting rapidfuzz<4.0.0,>=3.0.0 (from thefuzz)\n",
      "  Downloading rapidfuzz-3.4.0-cp37-cp37m-manylinux_2_17_x86_64.manylinux2014_x86_64.whl.metadata (11 kB)\n",
      "Downloading thefuzz-0.20.0-py3-none-any.whl (15 kB)\n",
      "Downloading rapidfuzz-3.4.0-cp37-cp37m-manylinux_2_17_x86_64.manylinux2014_x86_64.whl (3.2 MB)\n",
      "   ━━━━━━━━━━━━━━━━━━━━━━━━━━━━━━━━━━━━━━━━ 3.2/3.2 MB 198.6 MB/s eta 0:00:00\n",
      "Installing collected packages: rapidfuzz, thefuzz\n",
      "Successfully installed rapidfuzz-3.4.0 thefuzz-0.20.0\n",
      "\n",
      "WARNING: The directory '/home/.cache/pip' or its parent directory is not owned or is not writable by the current user. The cache has been disabled. Check the permissions and owner of that directory. If executing pip with sudo, you should use sudo's -H flag."
     ]
    }
   ],
   "source": [
    "import os\n",
    "import requests\n",
    "import pandas as pd\n",
    "import numpy as np \n",
    "import boto3\n",
    "\n",
    "bsdir = \"s3://ipsos-dvd/\"\n",
    "data_dir = bsdir + \"ppl/data/\"\n",
    "data_ppl = \"s3://external-people-data-labs/\"\n",
    "\n",
    "\n",
    "from pyspark import SparkContext\n",
    "from pyspark.ml.feature import StringIndexer\n",
    "\n",
    "\n",
    "from pyspark.sql import SQLContext, SparkSession\n",
    "from pyspark.sql.window import Window\n",
    "from pyspark.sql.types import (\n",
    "    StructType,\n",
    "    LongType,\n",
    "    StructField,\n",
    "    IntegerType,\n",
    "    StringType,\n",
    "    DoubleType,\n",
    "    TimestampType,\n",
    "    ArrayType\n",
    ")\n",
    "import pyspark.sql.functions as F\n",
    "sc.install_pypi_package(\"thefuzz\")\n",
    "from thefuzz import process, fuzz"
   ]
  },
  {
   "cell_type": "markdown",
   "id": "d888e1df-9b57-4f8a-8775-2ce07cea1522",
   "metadata": {},
   "source": [
    "### Pull Experience from API"
   ]
  },
  {
   "cell_type": "code",
   "execution_count": null,
   "id": "b626ae04-386d-41c8-ac98-237f58cc87bd",
   "metadata": {
    "execution": {
     "iopub.execute_input": "2024-01-29T20:05:35.250216Z",
     "iopub.status.busy": "2024-01-29T20:05:35.249875Z",
     "iopub.status.idle": "2024-01-29T20:05:35.994197Z",
     "shell.execute_reply": "2024-01-29T20:05:35.993551Z",
     "shell.execute_reply.started": "2024-01-29T20:05:35.250189Z"
    },
    "tags": []
   },
   "outputs": [
    {
     "data": {
      "application/vnd.jupyter.widget-view+json": {
       "model_id": "c98584c2a6b9493ba1c6fa9b9e02a03c",
       "version_major": 2,
       "version_minor": 0
      },
      "text/plain": [
       "VBox()"
      ]
     },
     "metadata": {},
     "output_type": "display_data"
    },
    {
     "data": {
      "application/vnd.jupyter.widget-view+json": {
       "model_id": "",
       "version_major": 2,
       "version_minor": 0
      },
      "text/plain": [
       "FloatProgress(value=0.0, bar_style='info', description='Progress:', layout=Layout(height='25px', width='50%'),…"
      ]
     },
     "metadata": {},
     "output_type": "display_data"
    },
    {
     "name": "stdout",
     "output_type": "stream",
     "text": [
      "{'total_files': 1024, 'total_size': 220265634728, 'partition_column': None, 'partition_aggregation': None, 'min_partition_key': None, 'max_partition_key': None}"
     ]
    }
   ],
   "source": [
    "import requests\n",
    " \n",
    "API_KEY = \"FAgFuQO8.pa4ELHbKch2xGuBpLjDPZZsKC9BFcJDmxB1DAGEKAHvXRj5JoJt1xHpE\"\n",
    "PRODUCT_API_PATH = \"https://app.deweydata.io/external-api/v3/products/8279ab69-568c-4b9a-b08e-d94a86525189/files\"\n",
    "\n",
    "results = requests.get(url=PRODUCT_API_PATH+\"/metadata\",\n",
    "                       headers={\n",
    "                        \"X-API-KEY\": API_KEY,\n",
    "                        'accept': 'application/json'\n",
    "                       })\n",
    "print(results.json())"
   ]
  },
  {
   "cell_type": "code",
   "execution_count": null,
   "id": "7780c86f-71fa-4c61-94c7-df8b52189188",
   "metadata": {
    "collapsed": true,
    "execution": {
     "iopub.execute_input": "2024-01-29T20:05:35.995459Z",
     "iopub.status.busy": "2024-01-29T20:05:35.995247Z",
     "iopub.status.idle": "2024-01-29T22:45:34.482064Z"
    },
    "jupyter": {
     "outputs_hidden": true
    },
    "tags": []
   },
   "outputs": [
    {
     "data": {
      "application/vnd.jupyter.widget-view+json": {
       "model_id": "64a8f94f9b9b4ebda85d2d387d75da00",
       "version_major": 2,
       "version_minor": 0
      },
      "text/plain": [
       "VBox()"
      ]
     },
     "metadata": {},
     "output_type": "display_data"
    },
    {
     "data": {
      "application/vnd.jupyter.widget-view+json": {
       "model_id": "",
       "version_major": 2,
       "version_minor": 0
      },
      "text/plain": [
       "FloatProgress(value=0.0, bar_style='info', description='Progress:', layout=Layout(height='25px', width='50%'),…"
      ]
     },
     "metadata": {},
     "output_type": "display_data"
    },
    {
     "name": "stderr",
     "output_type": "stream",
     "text": [
      "An error was encountered:\n",
      "'download_links'\n",
      "Traceback (most recent call last):\n",
      "KeyError: 'download_links'\n",
      "\n"
     ]
    }
   ],
   "source": [
    "# import requests library to call API endpoint\n",
    "import requests\n",
    "\n",
    "s3 = boto3.resource('s3')\n",
    "\n",
    "# loop through all API result pages, keeping track of number of downloaded files\n",
    "page = 1\n",
    "download_count = 0\n",
    "while True:\n",
    "    # get results from API endpoint, using API key for authentication, for a specific page\n",
    "    results = requests.get(url=PRODUCT_API_PATH,\n",
    "                           params={'page': page},\n",
    "                           headers={'X-API-KEY': API_KEY,\n",
    "                                    'accept': 'application/json'\n",
    "                                   })\n",
    "    response_json = results.json()\n",
    "\n",
    "    # for each result page, loop through download links and save to your computer\n",
    "    for link_data in response_json['download_links']:\n",
    "        print(f\"Downloading file {link_data['file_name']}...\")\n",
    "        data = requests.get(link_data['link'])\n",
    "        object = s3.Object('ipsos-dvd', 'ppl/data/' + link_data['file_name'])\n",
    "        object.put(Body=data.content)\n",
    "        download_count += 1\n",
    "\n",
    "    # only continue if there are more result pages to process\n",
    "    total_pages = response_json['total_pages']\n",
    "    if page >= total_pages:\n",
    "        break\n",
    "    page += 1\n",
    "\n",
    "print(f\"Successfully downloaded {download_count} files.\")"
   ]
  },
  {
   "cell_type": "markdown",
   "id": "4524e02e-3b03-413b-8ae9-0b4a9ac2ee01",
   "metadata": {},
   "source": [
    "### Load Experience Data"
   ]
  },
  {
   "cell_type": "code",
   "execution_count": 2,
   "id": "ad5d15ed-682f-4d12-8225-83ed9e5678f5",
   "metadata": {
    "execution": {
     "iopub.execute_input": "2024-02-08T19:03:10.133161Z",
     "iopub.status.busy": "2024-02-08T19:03:10.132872Z",
     "iopub.status.idle": "2024-02-08T19:03:35.444803Z",
     "shell.execute_reply": "2024-02-08T19:03:35.444155Z",
     "shell.execute_reply.started": "2024-02-08T19:03:10.133135Z"
    },
    "tags": []
   },
   "outputs": [
    {
     "data": {
      "application/vnd.jupyter.widget-view+json": {
       "model_id": "f5fb2a3bc41648f68fefe33493eb09e0",
       "version_major": 2,
       "version_minor": 0
      },
      "text/plain": [
       "VBox()"
      ]
     },
     "metadata": {},
     "output_type": "display_data"
    },
    {
     "data": {
      "application/vnd.jupyter.widget-view+json": {
       "model_id": "",
       "version_major": 2,
       "version_minor": 0
      },
      "text/plain": [
       "FloatProgress(value=0.0, bar_style='info', description='Progress:', layout=Layout(height='25px', width='50%'),…"
      ]
     },
     "metadata": {},
     "output_type": "display_data"
    }
   ],
   "source": [
    "exp =  spark.read.option(\"multiLine\", \"true\") \\\n",
    "                .option(\"escape\", \"\\\"\") \\\n",
    "                .option(\"quote\", '\"').csv(data_ppl + \"people-experience/data/\", header=True)"
   ]
  },
  {
   "cell_type": "code",
   "execution_count": 3,
   "id": "afb39acb-c4e8-46cb-af71-243de51a50eb",
   "metadata": {
    "execution": {
     "iopub.execute_input": "2024-02-08T19:03:35.446105Z",
     "iopub.status.busy": "2024-02-08T19:03:35.445886Z",
     "iopub.status.idle": "2024-02-08T19:03:35.683940Z",
     "shell.execute_reply": "2024-02-08T19:03:35.683304Z",
     "shell.execute_reply.started": "2024-02-08T19:03:35.446083Z"
    },
    "tags": []
   },
   "outputs": [
    {
     "data": {
      "application/vnd.jupyter.widget-view+json": {
       "model_id": "b2101e039ec84658bcbe2a9992b507b3",
       "version_major": 2,
       "version_minor": 0
      },
      "text/plain": [
       "VBox()"
      ]
     },
     "metadata": {},
     "output_type": "display_data"
    },
    {
     "data": {
      "application/vnd.jupyter.widget-view+json": {
       "model_id": "",
       "version_major": 2,
       "version_minor": 0
      },
      "text/plain": [
       "FloatProgress(value=0.0, bar_style='info', description='Progress:', layout=Layout(height='25px', width='50%'),…"
      ]
     },
     "metadata": {},
     "output_type": "display_data"
    }
   ],
   "source": [
    "exp = exp.filter(F.col(\"COMPANY_LOCATION_COUNTRY\") == \"united states\")"
   ]
  },
  {
   "cell_type": "code",
   "execution_count": 4,
   "id": "3bde0a3f-26c0-453c-999f-1afcc7ae5a39",
   "metadata": {
    "execution": {
     "iopub.execute_input": "2024-02-08T19:03:35.685450Z",
     "iopub.status.busy": "2024-02-08T19:03:35.685236Z",
     "iopub.status.idle": "2024-02-08T19:09:25.845706Z",
     "shell.execute_reply": "2024-02-08T19:09:25.845056Z",
     "shell.execute_reply.started": "2024-02-08T19:03:35.685429Z"
    },
    "tags": []
   },
   "outputs": [
    {
     "data": {
      "application/vnd.jupyter.widget-view+json": {
       "model_id": "ebaff0a581764707bd0c7858bf81fbf6",
       "version_major": 2,
       "version_minor": 0
      },
      "text/plain": [
       "VBox()"
      ]
     },
     "metadata": {},
     "output_type": "display_data"
    },
    {
     "data": {
      "application/vnd.jupyter.widget-view+json": {
       "model_id": "",
       "version_major": 2,
       "version_minor": 0
      },
      "text/plain": [
       "FloatProgress(value=0.0, bar_style='info', description='Progress:', layout=Layout(height='25px', width='50%'),…"
      ]
     },
     "metadata": {},
     "output_type": "display_data"
    }
   ],
   "source": [
    "exp.write.mode(\"overwrite\").parquet(data_dir + \"people-experience_us.parquet\")"
   ]
  },
  {
   "cell_type": "markdown",
   "id": "aa099150-6ec1-44c5-9e4f-c3664ca9b6aa",
   "metadata": {},
   "source": [
    "### Reload"
   ]
  },
  {
   "cell_type": "code",
   "execution_count": 5,
   "id": "3de781fd-4ef0-4b5f-ae95-5725b75547fd",
   "metadata": {
    "execution": {
     "iopub.execute_input": "2024-02-08T19:09:25.847009Z",
     "iopub.status.busy": "2024-02-08T19:09:25.846799Z",
     "iopub.status.idle": "2024-02-08T19:09:27.092580Z",
     "shell.execute_reply": "2024-02-08T19:09:27.091906Z",
     "shell.execute_reply.started": "2024-02-08T19:09:25.846989Z"
    },
    "tags": []
   },
   "outputs": [
    {
     "data": {
      "application/vnd.jupyter.widget-view+json": {
       "model_id": "566bc35fe4b34b92a9f984aca7a29f52",
       "version_major": 2,
       "version_minor": 0
      },
      "text/plain": [
       "VBox()"
      ]
     },
     "metadata": {},
     "output_type": "display_data"
    },
    {
     "data": {
      "application/vnd.jupyter.widget-view+json": {
       "model_id": "",
       "version_major": 2,
       "version_minor": 0
      },
      "text/plain": [
       "FloatProgress(value=0.0, bar_style='info', description='Progress:', layout=Layout(height='25px', width='50%'),…"
      ]
     },
     "metadata": {},
     "output_type": "display_data"
    }
   ],
   "source": [
    "exp = spark.read.parquet(data_dir + \"people-experience_us.parquet\")"
   ]
  },
  {
   "cell_type": "code",
   "execution_count": 6,
   "id": "fb4cac74-6e9b-4aa2-86ac-2c1abf2b129b",
   "metadata": {
    "execution": {
     "iopub.execute_input": "2024-02-08T19:09:27.093739Z",
     "iopub.status.busy": "2024-02-08T19:09:27.093527Z",
     "iopub.status.idle": "2024-02-08T19:09:29.342322Z",
     "shell.execute_reply": "2024-02-08T19:09:29.341740Z",
     "shell.execute_reply.started": "2024-02-08T19:09:27.093718Z"
    },
    "tags": []
   },
   "outputs": [
    {
     "data": {
      "application/vnd.jupyter.widget-view+json": {
       "model_id": "400e5645b291449b97b0813f2a74fdea",
       "version_major": 2,
       "version_minor": 0
      },
      "text/plain": [
       "VBox()"
      ]
     },
     "metadata": {},
     "output_type": "display_data"
    },
    {
     "data": {
      "application/vnd.jupyter.widget-view+json": {
       "model_id": "",
       "version_major": 2,
       "version_minor": 0
      },
      "text/plain": [
       "FloatProgress(value=0.0, bar_style='info', description='Progress:', layout=Layout(height='25px', width='50%'),…"
      ]
     },
     "metadata": {},
     "output_type": "display_data"
    },
    {
     "name": "stdout",
     "output_type": "stream",
     "text": [
      "0                         None\n",
      "1                 princess.com\n",
      "2         asburypark.k12.nj.us\n",
      "3               wellsfargo.com\n",
      "4                   goarmy.com\n",
      "5             sutterhealth.org\n",
      "6             digitalriver.com\n",
      "7             lfscarolinas.org\n",
      "8                  fontana.org\n",
      "9                      dhs.gov\n",
      "10                vitalant.org\n",
      "11                   uhaul.com\n",
      "12                        None\n",
      "13                  plygem.com\n",
      "14                   aecom.com\n",
      "15                   aecom.com\n",
      "16                  subway.com\n",
      "17                  scmlaw.com\n",
      "18     riversidehealthcare.org\n",
      "19    watermarkcommunities.com"
     ]
    }
   ],
   "source": [
    "print(exp.limit(20).toPandas()['COMPANY_WEBSITE'].to_string())"
   ]
  },
  {
   "cell_type": "code",
   "execution_count": 7,
   "id": "6e01447a-1b9b-4b3e-8198-2a171279a5ae",
   "metadata": {
    "execution": {
     "iopub.execute_input": "2024-02-08T19:09:29.343356Z",
     "iopub.status.busy": "2024-02-08T19:09:29.343134Z",
     "iopub.status.idle": "2024-02-08T19:09:30.090755Z",
     "shell.execute_reply": "2024-02-08T19:09:30.090087Z",
     "shell.execute_reply.started": "2024-02-08T19:09:29.343334Z"
    },
    "tags": []
   },
   "outputs": [
    {
     "data": {
      "application/vnd.jupyter.widget-view+json": {
       "model_id": "2c91283f98644441a1ae360e3b154078",
       "version_major": 2,
       "version_minor": 0
      },
      "text/plain": [
       "VBox()"
      ]
     },
     "metadata": {},
     "output_type": "display_data"
    },
    {
     "data": {
      "application/vnd.jupyter.widget-view+json": {
       "model_id": "",
       "version_major": 2,
       "version_minor": 0
      },
      "text/plain": [
       "FloatProgress(value=0.0, bar_style='info', description='Progress:', layout=Layout(height='25px', width='50%'),…"
      ]
     },
     "metadata": {},
     "output_type": "display_data"
    }
   ],
   "source": [
    "tech = pd.read_csv(data_dir + \"tech_companies_rto.csv\")\n",
    "tech['Company Name'] = tech['Company Name'].str.lower()"
   ]
  },
  {
   "cell_type": "code",
   "execution_count": 8,
   "id": "83ad599b-b398-447a-831f-324b0f9875c2",
   "metadata": {
    "execution": {
     "iopub.execute_input": "2024-02-08T19:09:30.091844Z",
     "iopub.status.busy": "2024-02-08T19:09:30.091602Z",
     "iopub.status.idle": "2024-02-08T19:09:30.124089Z",
     "shell.execute_reply": "2024-02-08T19:09:30.123476Z",
     "shell.execute_reply.started": "2024-02-08T19:09:30.091822Z"
    },
    "tags": []
   },
   "outputs": [
    {
     "data": {
      "application/vnd.jupyter.widget-view+json": {
       "model_id": "4516af3037f945cebc58103e42361b7c",
       "version_major": 2,
       "version_minor": 0
      },
      "text/plain": [
       "VBox()"
      ]
     },
     "metadata": {},
     "output_type": "display_data"
    },
    {
     "data": {
      "application/vnd.jupyter.widget-view+json": {
       "model_id": "",
       "version_major": 2,
       "version_minor": 0
      },
      "text/plain": [
       "FloatProgress(value=0.0, bar_style='info', description='Progress:', layout=Layout(height='25px', width='50%'),…"
      ]
     },
     "metadata": {},
     "output_type": "display_data"
    }
   ],
   "source": [
    "names_to_get = tech['Company Name']"
   ]
  },
  {
   "cell_type": "code",
   "execution_count": 9,
   "id": "65ed12b8-7565-41e2-a6a8-5f2b464f5d38",
   "metadata": {
    "execution": {
     "iopub.execute_input": "2024-02-08T19:09:30.126312Z",
     "iopub.status.busy": "2024-02-08T19:09:30.126099Z",
     "iopub.status.idle": "2024-02-08T19:09:59.555108Z",
     "shell.execute_reply": "2024-02-08T19:09:59.554519Z",
     "shell.execute_reply.started": "2024-02-08T19:09:30.126291Z"
    },
    "tags": []
   },
   "outputs": [
    {
     "data": {
      "application/vnd.jupyter.widget-view+json": {
       "model_id": "6899abe2a90f45178d2f72af669d0040",
       "version_major": 2,
       "version_minor": 0
      },
      "text/plain": [
       "VBox()"
      ]
     },
     "metadata": {},
     "output_type": "display_data"
    },
    {
     "data": {
      "application/vnd.jupyter.widget-view+json": {
       "model_id": "",
       "version_major": 2,
       "version_minor": 0
      },
      "text/plain": [
       "FloatProgress(value=0.0, bar_style='info', description='Progress:', layout=Layout(height='25px', width='50%'),…"
      ]
     },
     "metadata": {},
     "output_type": "display_data"
    }
   ],
   "source": [
    "firmnames = exp.select(\"COMPANY_NAME\").distinct().collect()"
   ]
  },
  {
   "cell_type": "code",
   "execution_count": 10,
   "id": "81672545-e9d6-4dbf-bb1e-59930ab0f2e2",
   "metadata": {
    "execution": {
     "iopub.execute_input": "2024-02-08T19:09:59.556728Z",
     "iopub.status.busy": "2024-02-08T19:09:59.556510Z",
     "iopub.status.idle": "2024-02-08T19:10:08.818764Z",
     "shell.execute_reply": "2024-02-08T19:10:08.818182Z",
     "shell.execute_reply.started": "2024-02-08T19:09:59.556706Z"
    },
    "tags": []
   },
   "outputs": [
    {
     "data": {
      "application/vnd.jupyter.widget-view+json": {
       "model_id": "02b2873cfc074fd38d38f09343234ea7",
       "version_major": 2,
       "version_minor": 0
      },
      "text/plain": [
       "VBox()"
      ]
     },
     "metadata": {},
     "output_type": "display_data"
    },
    {
     "data": {
      "application/vnd.jupyter.widget-view+json": {
       "model_id": "",
       "version_major": 2,
       "version_minor": 0
      },
      "text/plain": [
       "FloatProgress(value=0.0, bar_style='info', description='Progress:', layout=Layout(height='25px', width='50%'),…"
      ]
     },
     "metadata": {},
     "output_type": "display_data"
    }
   ],
   "source": [
    "firmnames = [row.COMPANY_NAME for row in firmnames]"
   ]
  },
  {
   "cell_type": "code",
   "execution_count": 11,
   "id": "b5f3eeb8-2fc9-4052-b16f-ec7c10393e7d",
   "metadata": {
    "execution": {
     "iopub.execute_input": "2024-02-08T19:10:08.819854Z",
     "iopub.status.busy": "2024-02-08T19:10:08.819621Z",
     "iopub.status.idle": "2024-02-08T19:10:08.852377Z",
     "shell.execute_reply": "2024-02-08T19:10:08.851796Z",
     "shell.execute_reply.started": "2024-02-08T19:10:08.819832Z"
    },
    "tags": []
   },
   "outputs": [
    {
     "data": {
      "application/vnd.jupyter.widget-view+json": {
       "model_id": "d7a34459bbc94216afc479de00d8b749",
       "version_major": 2,
       "version_minor": 0
      },
      "text/plain": [
       "VBox()"
      ]
     },
     "metadata": {},
     "output_type": "display_data"
    },
    {
     "data": {
      "application/vnd.jupyter.widget-view+json": {
       "model_id": "",
       "version_major": 2,
       "version_minor": 0
      },
      "text/plain": [
       "FloatProgress(value=0.0, bar_style='info', description='Progress:', layout=Layout(height='25px', width='50%'),…"
      ]
     },
     "metadata": {},
     "output_type": "display_data"
    },
    {
     "name": "stdout",
     "output_type": "stream",
     "text": [
      "['baylor college of medicine', 'associated bank', 'carnival cruise line', 'growhealthy', 'collective transformation llc', 'saltwater angler magazine', 'caesars entertainment, inc.', 'divi resorts', 'play-well teknologies', 'goalbook']"
     ]
    }
   ],
   "source": [
    "firmnames[0:10]"
   ]
  },
  {
   "cell_type": "code",
   "execution_count": 12,
   "id": "6a39c5e7-9f70-4a9d-ac57-6927e7a570b6",
   "metadata": {
    "execution": {
     "iopub.execute_input": "2024-02-08T19:10:08.853425Z",
     "iopub.status.busy": "2024-02-08T19:10:08.853218Z",
     "iopub.status.idle": "2024-02-08T19:10:08.883772Z",
     "shell.execute_reply": "2024-02-08T19:10:08.883213Z",
     "shell.execute_reply.started": "2024-02-08T19:10:08.853404Z"
    },
    "tags": []
   },
   "outputs": [
    {
     "data": {
      "application/vnd.jupyter.widget-view+json": {
       "model_id": "9cfc1013b25340248fdf9716be720e26",
       "version_major": 2,
       "version_minor": 0
      },
      "text/plain": [
       "VBox()"
      ]
     },
     "metadata": {},
     "output_type": "display_data"
    },
    {
     "data": {
      "application/vnd.jupyter.widget-view+json": {
       "model_id": "",
       "version_major": 2,
       "version_minor": 0
      },
      "text/plain": [
       "FloatProgress(value=0.0, bar_style='info', description='Progress:', layout=Layout(height='25px', width='50%'),…"
      ]
     },
     "metadata": {},
     "output_type": "display_data"
    }
   ],
   "source": [
    "names = pd.DataFrame({'tech' : tech['Company Name'].str.lower()})\n"
   ]
  },
  {
   "cell_type": "code",
   "execution_count": 13,
   "id": "913522aa-0946-4e8e-8a50-f59b1449e3d0",
   "metadata": {
    "execution": {
     "iopub.execute_input": "2024-02-08T19:10:08.884877Z",
     "iopub.status.busy": "2024-02-08T19:10:08.884561Z",
     "iopub.status.idle": "2024-02-08T19:13:54.662733Z",
     "shell.execute_reply": "2024-02-08T19:13:54.662124Z",
     "shell.execute_reply.started": "2024-02-08T19:10:08.884856Z"
    },
    "tags": []
   },
   "outputs": [
    {
     "data": {
      "application/vnd.jupyter.widget-view+json": {
       "model_id": "7782746edbb0451a8fa4bbe12b6a22a4",
       "version_major": 2,
       "version_minor": 0
      },
      "text/plain": [
       "VBox()"
      ]
     },
     "metadata": {},
     "output_type": "display_data"
    },
    {
     "data": {
      "application/vnd.jupyter.widget-view+json": {
       "model_id": "",
       "version_major": 2,
       "version_minor": 0
      },
      "text/plain": [
       "FloatProgress(value=0.0, bar_style='info', description='Progress:', layout=Layout(height='25px', width='50%'),…"
      ]
     },
     "metadata": {},
     "output_type": "display_data"
    }
   ],
   "source": [
    "names['matched'] = names.apply(lambda x: process.extractOne(x.tech, firmnames), axis=1)"
   ]
  },
  {
   "cell_type": "code",
   "execution_count": 14,
   "id": "d0630091-5780-4f4c-952b-cfa3daaec393",
   "metadata": {
    "execution": {
     "iopub.execute_input": "2024-02-08T19:13:54.663830Z",
     "iopub.status.busy": "2024-02-08T19:13:54.663595Z",
     "iopub.status.idle": "2024-02-08T19:13:54.695144Z",
     "shell.execute_reply": "2024-02-08T19:13:54.694600Z",
     "shell.execute_reply.started": "2024-02-08T19:13:54.663807Z"
    },
    "tags": []
   },
   "outputs": [
    {
     "data": {
      "application/vnd.jupyter.widget-view+json": {
       "model_id": "b2c9b8f5dc9048cfadc7fcf134e79d4b",
       "version_major": 2,
       "version_minor": 0
      },
      "text/plain": [
       "VBox()"
      ]
     },
     "metadata": {},
     "output_type": "display_data"
    },
    {
     "data": {
      "application/vnd.jupyter.widget-view+json": {
       "model_id": "",
       "version_major": 2,
       "version_minor": 0
      },
      "text/plain": [
       "FloatProgress(value=0.0, bar_style='info', description='Progress:', layout=Layout(height='25px', width='50%'),…"
      ]
     },
     "metadata": {},
     "output_type": "display_data"
    }
   ],
   "source": [
    "names_to_get = [i[0] for i in names['matched']]"
   ]
  },
  {
   "cell_type": "code",
   "execution_count": 15,
   "id": "d4d359aa-809f-4ddf-83cf-9d4468ad53a7",
   "metadata": {
    "execution": {
     "iopub.execute_input": "2024-02-08T19:13:54.696135Z",
     "iopub.status.busy": "2024-02-08T19:13:54.695930Z",
     "iopub.status.idle": "2024-02-08T19:14:07.972583Z",
     "shell.execute_reply": "2024-02-08T19:14:07.971982Z",
     "shell.execute_reply.started": "2024-02-08T19:13:54.696114Z"
    },
    "tags": []
   },
   "outputs": [
    {
     "data": {
      "application/vnd.jupyter.widget-view+json": {
       "model_id": "9ba09be13fcf4a64bda29637113c8a58",
       "version_major": 2,
       "version_minor": 0
      },
      "text/plain": [
       "VBox()"
      ]
     },
     "metadata": {},
     "output_type": "display_data"
    },
    {
     "data": {
      "application/vnd.jupyter.widget-view+json": {
       "model_id": "",
       "version_major": 2,
       "version_minor": 0
      },
      "text/plain": [
       "FloatProgress(value=0.0, bar_style='info', description='Progress:', layout=Layout(height='25px', width='50%'),…"
      ]
     },
     "metadata": {},
     "output_type": "display_data"
    }
   ],
   "source": [
    "websites = exp.filter(F.col(\"COMPANY_NAME\").isin(list(names_to_get))).select(\"COMPANY_WEBSITE\").distinct().collect()"
   ]
  },
  {
   "cell_type": "code",
   "execution_count": 16,
   "id": "3394f2d4-a14b-4b0e-8546-dd24f1505810",
   "metadata": {
    "execution": {
     "iopub.execute_input": "2024-02-08T19:14:07.973634Z",
     "iopub.status.busy": "2024-02-08T19:14:07.973424Z",
     "iopub.status.idle": "2024-02-08T19:14:08.004902Z",
     "shell.execute_reply": "2024-02-08T19:14:08.004318Z",
     "shell.execute_reply.started": "2024-02-08T19:14:07.973613Z"
    },
    "tags": []
   },
   "outputs": [
    {
     "data": {
      "application/vnd.jupyter.widget-view+json": {
       "model_id": "97eb8e99d528486681d3835b62c99b8e",
       "version_major": 2,
       "version_minor": 0
      },
      "text/plain": [
       "VBox()"
      ]
     },
     "metadata": {},
     "output_type": "display_data"
    },
    {
     "data": {
      "application/vnd.jupyter.widget-view+json": {
       "model_id": "",
       "version_major": 2,
       "version_minor": 0
      },
      "text/plain": [
       "FloatProgress(value=0.0, bar_style='info', description='Progress:', layout=Layout(height='25px', width='50%'),…"
      ]
     },
     "metadata": {},
     "output_type": "display_data"
    }
   ],
   "source": [
    "websites = [row.COMPANY_WEBSITE for row in websites]"
   ]
  },
  {
   "cell_type": "code",
   "execution_count": 17,
   "id": "6ed0b1c1-fda7-4ae3-a588-e1fc623b8b86",
   "metadata": {
    "execution": {
     "iopub.execute_input": "2024-02-08T19:14:08.006007Z",
     "iopub.status.busy": "2024-02-08T19:14:08.005695Z",
     "iopub.status.idle": "2024-02-08T19:14:09.248339Z",
     "shell.execute_reply": "2024-02-08T19:14:09.247721Z",
     "shell.execute_reply.started": "2024-02-08T19:14:08.005982Z"
    },
    "tags": []
   },
   "outputs": [
    {
     "data": {
      "application/vnd.jupyter.widget-view+json": {
       "model_id": "3ff2ed7b7dfc415da37e20f9d98c7e90",
       "version_major": 2,
       "version_minor": 0
      },
      "text/plain": [
       "VBox()"
      ]
     },
     "metadata": {},
     "output_type": "display_data"
    },
    {
     "data": {
      "application/vnd.jupyter.widget-view+json": {
       "model_id": "",
       "version_major": 2,
       "version_minor": 0
      },
      "text/plain": [
       "FloatProgress(value=0.0, bar_style='info', description='Progress:', layout=Layout(height='25px', width='50%'),…"
      ]
     },
     "metadata": {},
     "output_type": "display_data"
    }
   ],
   "source": [
    "## get scoop flex data\n",
    "flex = pd.read_csv(data_dir + \"companies.csv\")"
   ]
  },
  {
   "cell_type": "code",
   "execution_count": 18,
   "id": "1335b445-365f-43fd-be44-39f21c40acfa",
   "metadata": {
    "execution": {
     "iopub.execute_input": "2024-02-08T19:14:09.249515Z",
     "iopub.status.busy": "2024-02-08T19:14:09.249224Z",
     "iopub.status.idle": "2024-02-08T19:14:09.485009Z",
     "shell.execute_reply": "2024-02-08T19:14:09.484419Z",
     "shell.execute_reply.started": "2024-02-08T19:14:09.249493Z"
    },
    "tags": []
   },
   "outputs": [
    {
     "data": {
      "application/vnd.jupyter.widget-view+json": {
       "model_id": "7c16306119514515b38360799bc5daab",
       "version_major": 2,
       "version_minor": 0
      },
      "text/plain": [
       "VBox()"
      ]
     },
     "metadata": {},
     "output_type": "display_data"
    },
    {
     "data": {
      "application/vnd.jupyter.widget-view+json": {
       "model_id": "",
       "version_major": 2,
       "version_minor": 0
      },
      "text/plain": [
       "FloatProgress(value=0.0, bar_style='info', description='Progress:', layout=Layout(height='25px', width='50%'),…"
      ]
     },
     "metadata": {},
     "output_type": "display_data"
    }
   ],
   "source": [
    "agg = pd.read_csv(data_dir + \"flex_index_aggregate.csv\")"
   ]
  },
  {
   "cell_type": "code",
   "execution_count": 19,
   "id": "c854a974-f858-4b28-a2bb-acd5d079b68f",
   "metadata": {
    "execution": {
     "iopub.execute_input": "2024-02-08T19:14:09.486093Z",
     "iopub.status.busy": "2024-02-08T19:14:09.485882Z",
     "iopub.status.idle": "2024-02-08T19:14:09.721578Z",
     "shell.execute_reply": "2024-02-08T19:14:09.720970Z",
     "shell.execute_reply.started": "2024-02-08T19:14:09.486071Z"
    },
    "tags": []
   },
   "outputs": [
    {
     "data": {
      "application/vnd.jupyter.widget-view+json": {
       "model_id": "b1c4520dc0a34519843bc1be16f260e0",
       "version_major": 2,
       "version_minor": 0
      },
      "text/plain": [
       "VBox()"
      ]
     },
     "metadata": {},
     "output_type": "display_data"
    },
    {
     "data": {
      "application/vnd.jupyter.widget-view+json": {
       "model_id": "",
       "version_major": 2,
       "version_minor": 0
      },
      "text/plain": [
       "FloatProgress(value=0.0, bar_style='info', description='Progress:', layout=Layout(height='25px', width='50%'),…"
      ]
     },
     "metadata": {},
     "output_type": "display_data"
    }
   ],
   "source": [
    "flex = flex.merge(agg.rename(columns={'company_name' : 'name'}), on = \"name\", how=\"left\")"
   ]
  },
  {
   "cell_type": "code",
   "execution_count": 20,
   "id": "ec62a896-6b03-44f0-8386-5c14efec2acf",
   "metadata": {
    "execution": {
     "iopub.execute_input": "2024-02-08T19:14:09.722770Z",
     "iopub.status.busy": "2024-02-08T19:14:09.722554Z",
     "iopub.status.idle": "2024-02-08T19:14:09.756997Z",
     "shell.execute_reply": "2024-02-08T19:14:09.756381Z",
     "shell.execute_reply.started": "2024-02-08T19:14:09.722749Z"
    },
    "tags": []
   },
   "outputs": [
    {
     "data": {
      "application/vnd.jupyter.widget-view+json": {
       "model_id": "c6a4c470d1b3473f8339bbd20b76568a",
       "version_major": 2,
       "version_minor": 0
      },
      "text/plain": [
       "VBox()"
      ]
     },
     "metadata": {},
     "output_type": "display_data"
    },
    {
     "data": {
      "application/vnd.jupyter.widget-view+json": {
       "model_id": "",
       "version_major": 2,
       "version_minor": 0
      },
      "text/plain": [
       "FloatProgress(value=0.0, bar_style='info', description='Progress:', layout=Layout(height='25px', width='50%'),…"
      ]
     },
     "metadata": {},
     "output_type": "display_data"
    }
   ],
   "source": [
    "tech = tech.rename(columns={'Company Name' : 'name', 'RTO_1' : 'RTO_date_manual'})[['name', 'RTO_date_manual']]"
   ]
  },
  {
   "cell_type": "code",
   "execution_count": 21,
   "id": "72fdcfa9-bdb9-41dd-8d66-81a8f81f9176",
   "metadata": {
    "execution": {
     "iopub.execute_input": "2024-02-08T19:14:09.758130Z",
     "iopub.status.busy": "2024-02-08T19:14:09.757912Z",
     "iopub.status.idle": "2024-02-08T19:14:09.792358Z",
     "shell.execute_reply": "2024-02-08T19:14:09.791644Z",
     "shell.execute_reply.started": "2024-02-08T19:14:09.758108Z"
    },
    "tags": []
   },
   "outputs": [
    {
     "data": {
      "application/vnd.jupyter.widget-view+json": {
       "model_id": "6fcee14e37104affab90fea731ab21d7",
       "version_major": 2,
       "version_minor": 0
      },
      "text/plain": [
       "VBox()"
      ]
     },
     "metadata": {},
     "output_type": "display_data"
    },
    {
     "data": {
      "application/vnd.jupyter.widget-view+json": {
       "model_id": "",
       "version_major": 2,
       "version_minor": 0
      },
      "text/plain": [
       "FloatProgress(value=0.0, bar_style='info', description='Progress:', layout=Layout(height='25px', width='50%'),…"
      ]
     },
     "metadata": {},
     "output_type": "display_data"
    }
   ],
   "source": [
    "names['COMPANY_NAME'] = names['matched'].apply(lambda x: x[0])\n",
    "names = names.rename(columns = {'tech' : 'name'})[['COMPANY_NAME', 'name']]"
   ]
  },
  {
   "cell_type": "code",
   "execution_count": 22,
   "id": "b4f80baf-f0b7-4ef5-907d-a3da931bba81",
   "metadata": {
    "execution": {
     "iopub.execute_input": "2024-02-08T19:14:09.793423Z",
     "iopub.status.busy": "2024-02-08T19:14:09.793210Z",
     "iopub.status.idle": "2024-02-08T19:14:09.836550Z",
     "shell.execute_reply": "2024-02-08T19:14:09.835430Z",
     "shell.execute_reply.started": "2024-02-08T19:14:09.793402Z"
    },
    "tags": []
   },
   "outputs": [
    {
     "data": {
      "application/vnd.jupyter.widget-view+json": {
       "model_id": "7fa02583d13a44f5b930c0d4c7dd4f44",
       "version_major": 2,
       "version_minor": 0
      },
      "text/plain": [
       "VBox()"
      ]
     },
     "metadata": {},
     "output_type": "display_data"
    },
    {
     "data": {
      "application/vnd.jupyter.widget-view+json": {
       "model_id": "",
       "version_major": 2,
       "version_minor": 0
      },
      "text/plain": [
       "FloatProgress(value=0.0, bar_style='info', description='Progress:', layout=Layout(height='25px', width='50%'),…"
      ]
     },
     "metadata": {},
     "output_type": "display_data"
    }
   ],
   "source": [
    "tech = tech.merge(names, on = \"name\", how = \"left\")"
   ]
  },
  {
   "cell_type": "code",
   "execution_count": 23,
   "id": "cf2d027c-a3ce-40fc-a17e-656ceb0d97c3",
   "metadata": {
    "execution": {
     "iopub.execute_input": "2024-02-08T19:14:09.845987Z",
     "iopub.status.busy": "2024-02-08T19:14:09.839944Z",
     "iopub.status.idle": "2024-02-08T19:14:09.881903Z",
     "shell.execute_reply": "2024-02-08T19:14:09.881212Z",
     "shell.execute_reply.started": "2024-02-08T19:14:09.845961Z"
    },
    "tags": []
   },
   "outputs": [
    {
     "data": {
      "application/vnd.jupyter.widget-view+json": {
       "model_id": "5119b5a521bf49d9b26c357f0e024b1f",
       "version_major": 2,
       "version_minor": 0
      },
      "text/plain": [
       "VBox()"
      ]
     },
     "metadata": {},
     "output_type": "display_data"
    },
    {
     "data": {
      "application/vnd.jupyter.widget-view+json": {
       "model_id": "",
       "version_major": 2,
       "version_minor": 0
      },
      "text/plain": [
       "FloatProgress(value=0.0, bar_style='info', description='Progress:', layout=Layout(height='25px', width='50%'),…"
      ]
     },
     "metadata": {},
     "output_type": "display_data"
    }
   ],
   "source": [
    "tech.loc[tech.RTO_date_manual.isna(), 'RTO_date_manual'] = \"never\"\n",
    "tech = tech[['COMPANY_NAME', 'RTO_date_manual']]"
   ]
  },
  {
   "cell_type": "code",
   "execution_count": 24,
   "id": "18175e33-3018-457f-a686-48ad60a730e4",
   "metadata": {
    "execution": {
     "iopub.execute_input": "2024-02-08T19:14:09.885826Z",
     "iopub.status.busy": "2024-02-08T19:14:09.885607Z",
     "iopub.status.idle": "2024-02-08T19:14:17.155284Z",
     "shell.execute_reply": "2024-02-08T19:14:17.154700Z",
     "shell.execute_reply.started": "2024-02-08T19:14:09.885804Z"
    },
    "tags": []
   },
   "outputs": [
    {
     "data": {
      "application/vnd.jupyter.widget-view+json": {
       "model_id": "b276f350a81841a78cb52b7598f60746",
       "version_major": 2,
       "version_minor": 0
      },
      "text/plain": [
       "VBox()"
      ]
     },
     "metadata": {},
     "output_type": "display_data"
    },
    {
     "data": {
      "application/vnd.jupyter.widget-view+json": {
       "model_id": "",
       "version_major": 2,
       "version_minor": 0
      },
      "text/plain": [
       "FloatProgress(value=0.0, bar_style='info', description='Progress:', layout=Layout(height='25px', width='50%'),…"
      ]
     },
     "metadata": {},
     "output_type": "display_data"
    }
   ],
   "source": [
    "flexdomains = list(flex['domain'].str.lower())\n",
    "flexnames = list(flex['name'].str.lower())\n",
    "flex = spark.createDataFrame(flex[[\"name\", \"domain\", \"office_requirements\", \"requirement_details\"]]).write.mode(\"overwrite\").parquet(data_dir + \"flex.parquet\")\n",
    "tech = spark.createDataFrame(tech).write.mode(\"overwrite\").parquet(data_dir + \"tech.parquet\")\n"
   ]
  },
  {
   "cell_type": "code",
   "execution_count": 25,
   "id": "527f9930-c03e-443d-a651-58f4e09ca04f",
   "metadata": {
    "execution": {
     "iopub.execute_input": "2024-02-08T19:14:17.157187Z",
     "iopub.status.busy": "2024-02-08T19:14:17.156871Z",
     "iopub.status.idle": "2024-02-08T19:15:48.624923Z",
     "shell.execute_reply": "2024-02-08T19:15:48.624202Z",
     "shell.execute_reply.started": "2024-02-08T19:14:17.157165Z"
    },
    "tags": []
   },
   "outputs": [
    {
     "data": {
      "application/vnd.jupyter.widget-view+json": {
       "model_id": "10b159cfde6e4566aa35a45f09ff5afd",
       "version_major": 2,
       "version_minor": 0
      },
      "text/plain": [
       "VBox()"
      ]
     },
     "metadata": {},
     "output_type": "display_data"
    },
    {
     "data": {
      "application/vnd.jupyter.widget-view+json": {
       "model_id": "",
       "version_major": 2,
       "version_minor": 0
      },
      "text/plain": [
       "FloatProgress(value=0.0, bar_style='info', description='Progress:', layout=Layout(height='25px', width='50%'),…"
      ]
     },
     "metadata": {},
     "output_type": "display_data"
    }
   ],
   "source": [
    "(exp.filter(F.col(\"COMPANY_WEBSITE\").isin(flexdomains) | \n",
    "           F.col(\"COMPANY_NAME\").isin(flexnames) |\n",
    "          F.col(\"COMPANY_NAME\").isin(names_to_get) | \n",
    "           F.col(\"COMPANY_WEBSITE\").isin(websites)\n",
    "          )\n",
    "#     .join(flex, \n",
    "#           on = (flex.name == exp.COMPANY_NAME) | (flex.domain == exp.COMPANY_WEBSITE))\n",
    "#     .join(tech, on = \"COMPANY_NAME\")\n",
    ").write.mode(\"overwrite\").parquet(data_dir + \"people-experience_us_tech.parquet\")\n"
   ]
  },
  {
   "cell_type": "markdown",
   "id": "7349db2c-3eaa-4e76-87bb-a6913dfac649",
   "metadata": {
    "tags": []
   },
   "source": [
    "### TODO: restart from here feb 4 2024"
   ]
  },
  {
   "cell_type": "code",
   "execution_count": 7,
   "id": "bf5adf26-e08c-474f-8832-aaaccdf4d337",
   "metadata": {
    "execution": {
     "iopub.execute_input": "2024-02-08T19:29:09.981430Z",
     "iopub.status.busy": "2024-02-08T19:29:09.980956Z",
     "iopub.status.idle": "2024-02-08T19:29:11.229342Z",
     "shell.execute_reply": "2024-02-08T19:29:11.228747Z",
     "shell.execute_reply.started": "2024-02-08T19:29:09.981386Z"
    },
    "tags": []
   },
   "outputs": [
    {
     "data": {
      "application/vnd.jupyter.widget-view+json": {
       "model_id": "5c2b7b39aec140fb81d2a5f8da301e3d",
       "version_major": 2,
       "version_minor": 0
      },
      "text/plain": [
       "VBox()"
      ]
     },
     "metadata": {},
     "output_type": "display_data"
    },
    {
     "data": {
      "application/vnd.jupyter.widget-view+json": {
       "model_id": "",
       "version_major": 2,
       "version_minor": 0
      },
      "text/plain": [
       "FloatProgress(value=0.0, bar_style='info', description='Progress:', layout=Layout(height='25px', width='50%'),…"
      ]
     },
     "metadata": {},
     "output_type": "display_data"
    }
   ],
   "source": [
    "exp = spark.read.parquet(data_dir + \"people-experience_us_tech.parquet\")"
   ]
  },
  {
   "cell_type": "markdown",
   "id": "60e8029c-c83a-434d-99a1-d659fe877252",
   "metadata": {},
   "source": [
    "### Merge in flex policy info"
   ]
  },
  {
   "cell_type": "code",
   "execution_count": 8,
   "id": "338a21fc-f866-49f9-abea-9c3c6dd176c4",
   "metadata": {
    "execution": {
     "iopub.execute_input": "2024-02-08T19:29:11.230602Z",
     "iopub.status.busy": "2024-02-08T19:29:11.230390Z",
     "iopub.status.idle": "2024-02-08T19:29:12.470893Z",
     "shell.execute_reply": "2024-02-08T19:29:12.470193Z",
     "shell.execute_reply.started": "2024-02-08T19:29:11.230581Z"
    },
    "tags": []
   },
   "outputs": [
    {
     "data": {
      "application/vnd.jupyter.widget-view+json": {
       "model_id": "14cf2578f5614e81b7ca8e169e059bb4",
       "version_major": 2,
       "version_minor": 0
      },
      "text/plain": [
       "VBox()"
      ]
     },
     "metadata": {},
     "output_type": "display_data"
    },
    {
     "data": {
      "application/vnd.jupyter.widget-view+json": {
       "model_id": "",
       "version_major": 2,
       "version_minor": 0
      },
      "text/plain": [
       "FloatProgress(value=0.0, bar_style='info', description='Progress:', layout=Layout(height='25px', width='50%'),…"
      ]
     },
     "metadata": {},
     "output_type": "display_data"
    }
   ],
   "source": [
    "flex = spark.read.parquet(data_dir + \"flex.parquet\")\n",
    "exp = exp.join(flex, on = (flex.name == exp.COMPANY_NAME) | (flex.domain == exp.COMPANY_WEBSITE),\n",
    "         how = \"left\")\n",
    "\n"
   ]
  },
  {
   "cell_type": "code",
   "execution_count": 9,
   "id": "81f52d51-089c-49cd-a5dc-287baa54b224",
   "metadata": {
    "execution": {
     "iopub.execute_input": "2024-02-08T19:29:12.472466Z",
     "iopub.status.busy": "2024-02-08T19:29:12.472248Z",
     "iopub.status.idle": "2024-02-08T19:29:13.716707Z",
     "shell.execute_reply": "2024-02-08T19:29:13.716122Z",
     "shell.execute_reply.started": "2024-02-08T19:29:12.472445Z"
    },
    "tags": []
   },
   "outputs": [
    {
     "data": {
      "application/vnd.jupyter.widget-view+json": {
       "model_id": "3f938714fbd14dfc83c35b2b35f11f78",
       "version_major": 2,
       "version_minor": 0
      },
      "text/plain": [
       "VBox()"
      ]
     },
     "metadata": {},
     "output_type": "display_data"
    },
    {
     "data": {
      "application/vnd.jupyter.widget-view+json": {
       "model_id": "",
       "version_major": 2,
       "version_minor": 0
      },
      "text/plain": [
       "FloatProgress(value=0.0, bar_style='info', description='Progress:', layout=Layout(height='25px', width='50%'),…"
      ]
     },
     "metadata": {},
     "output_type": "display_data"
    }
   ],
   "source": [
    "tech = spark.read.parquet(data_dir + \"tech.parquet\")\n",
    "exp = exp.join(tech, on = \"COMPANY_NAME\", how = \"left\")"
   ]
  },
  {
   "cell_type": "markdown",
   "id": "7135739e-72f9-4b34-abc6-b2cf65ff3482",
   "metadata": {
    "execution": {
     "iopub.execute_input": "2024-01-30T03:28:39.187140Z",
     "iopub.status.busy": "2024-01-30T03:28:39.186828Z",
     "iopub.status.idle": "2024-01-30T03:28:39.220208Z",
     "shell.execute_reply": "2024-01-30T03:28:39.219635Z",
     "shell.execute_reply.started": "2024-01-30T03:28:39.187113Z"
    },
    "tags": []
   },
   "source": [
    "### Merge in people info"
   ]
  },
  {
   "cell_type": "code",
   "execution_count": 10,
   "id": "907dcc34-a816-40a8-9ea5-506617d50ba4",
   "metadata": {
    "execution": {
     "iopub.execute_input": "2024-02-08T19:29:13.718016Z",
     "iopub.status.busy": "2024-02-08T19:29:13.717801Z",
     "iopub.status.idle": "2024-02-08T19:29:14.961814Z",
     "shell.execute_reply": "2024-02-08T19:29:14.961180Z",
     "shell.execute_reply.started": "2024-02-08T19:29:13.717996Z"
    },
    "tags": []
   },
   "outputs": [
    {
     "data": {
      "application/vnd.jupyter.widget-view+json": {
       "model_id": "a8c4de0277c348568a7341345210d493",
       "version_major": 2,
       "version_minor": 0
      },
      "text/plain": [
       "VBox()"
      ]
     },
     "metadata": {},
     "output_type": "display_data"
    },
    {
     "data": {
      "application/vnd.jupyter.widget-view+json": {
       "model_id": "",
       "version_major": 2,
       "version_minor": 0
      },
      "text/plain": [
       "FloatProgress(value=0.0, bar_style='info', description='Progress:', layout=Layout(height='25px', width='50%'),…"
      ]
     },
     "metadata": {},
     "output_type": "display_data"
    }
   ],
   "source": [
    "people = spark.read.csv(data_ppl + \"people-core\", header=True)\n",
    "\n"
   ]
  },
  {
   "cell_type": "code",
   "execution_count": 11,
   "id": "ef941d28-6370-4b3f-a0ab-02717f27893b",
   "metadata": {
    "execution": {
     "iopub.execute_input": "2024-02-08T19:29:14.963223Z",
     "iopub.status.busy": "2024-02-08T19:29:14.962900Z",
     "iopub.status.idle": "2024-02-08T19:29:15.201364Z",
     "shell.execute_reply": "2024-02-08T19:29:15.200684Z",
     "shell.execute_reply.started": "2024-02-08T19:29:14.963189Z"
    },
    "tags": []
   },
   "outputs": [
    {
     "data": {
      "application/vnd.jupyter.widget-view+json": {
       "model_id": "4e8c3473f19b45e289f806dde9f1d943",
       "version_major": 2,
       "version_minor": 0
      },
      "text/plain": [
       "VBox()"
      ]
     },
     "metadata": {},
     "output_type": "display_data"
    },
    {
     "data": {
      "application/vnd.jupyter.widget-view+json": {
       "model_id": "",
       "version_major": 2,
       "version_minor": 0
      },
      "text/plain": [
       "FloatProgress(value=0.0, bar_style='info', description='Progress:', layout=Layout(height='25px', width='50%'),…"
      ]
     },
     "metadata": {},
     "output_type": "display_data"
    }
   ],
   "source": [
    "exp = exp.join(people, on = \"ID\", how = \"left\")"
   ]
  },
  {
   "cell_type": "code",
   "execution_count": 12,
   "id": "65f7d3b3-5042-41ba-9b02-9ba13bce4b32",
   "metadata": {
    "execution": {
     "iopub.execute_input": "2024-02-08T19:29:15.202498Z",
     "iopub.status.busy": "2024-02-08T19:29:15.202280Z",
     "iopub.status.idle": "2024-02-08T19:35:01.312589Z",
     "shell.execute_reply": "2024-02-08T19:35:01.311996Z",
     "shell.execute_reply.started": "2024-02-08T19:29:15.202476Z"
    },
    "tags": []
   },
   "outputs": [
    {
     "data": {
      "application/vnd.jupyter.widget-view+json": {
       "model_id": "cac65d889c1341c5bc1b42ff01e45083",
       "version_major": 2,
       "version_minor": 0
      },
      "text/plain": [
       "VBox()"
      ]
     },
     "metadata": {},
     "output_type": "display_data"
    },
    {
     "data": {
      "application/vnd.jupyter.widget-view+json": {
       "model_id": "",
       "version_major": 2,
       "version_minor": 0
      },
      "text/plain": [
       "FloatProgress(value=0.0, bar_style='info', description='Progress:', layout=Layout(height='25px', width='50%'),…"
      ]
     },
     "metadata": {},
     "output_type": "display_data"
    }
   ],
   "source": [
    "exp.filter(F.col(\"LOCATION_COUNTRY\") == # filter on location again to \n",
    "           \"united states\").write.mode(\"overwrite\").parquet(data_dir + \"people-experience_us_tech_people.parquet\")"
   ]
  },
  {
   "cell_type": "markdown",
   "id": "e5fb2fc1-e81a-4ead-87fc-3a8526d8901c",
   "metadata": {
    "execution": {
     "iopub.execute_input": "2024-01-30T03:53:56.924376Z",
     "iopub.status.busy": "2024-01-30T03:53:56.924069Z",
     "iopub.status.idle": "2024-01-30T03:53:56.957915Z",
     "shell.execute_reply": "2024-01-30T03:53:56.957361Z",
     "shell.execute_reply.started": "2024-01-30T03:53:56.924352Z"
    },
    "tags": []
   },
   "source": [
    "### Construct individual tenure profile by company pre and post apple RTO"
   ]
  },
  {
   "cell_type": "code",
   "execution_count": 28,
   "id": "6748dad4-1a41-4a61-94c2-06543631cb10",
   "metadata": {
    "execution": {
     "iopub.execute_input": "2024-02-09T18:52:44.507756Z",
     "iopub.status.busy": "2024-02-09T18:52:44.507461Z",
     "iopub.status.idle": "2024-02-09T18:52:45.249157Z",
     "shell.execute_reply": "2024-02-09T18:52:45.248519Z",
     "shell.execute_reply.started": "2024-02-09T18:52:44.507731Z"
    },
    "tags": []
   },
   "outputs": [
    {
     "data": {
      "application/vnd.jupyter.widget-view+json": {
       "model_id": "373b248284f4411eacf75e48825746a4",
       "version_major": 2,
       "version_minor": 0
      },
      "text/plain": [
       "VBox()"
      ]
     },
     "metadata": {},
     "output_type": "display_data"
    },
    {
     "data": {
      "application/vnd.jupyter.widget-view+json": {
       "model_id": "",
       "version_major": 2,
       "version_minor": 0
      },
      "text/plain": [
       "FloatProgress(value=0.0, bar_style='info', description='Progress:', layout=Layout(height='25px', width='50%'),…"
      ]
     },
     "metadata": {},
     "output_type": "display_data"
    }
   ],
   "source": [
    "exp = spark.read.parquet(data_dir + \"people-experience_us_tech_people.parquet\")\n",
    "\n",
    "# rto was on april 11, 2022. Let's restrict to people with END_DATE 4 months before that or later\n",
    "exp = exp.filter(exp.START_DATE.isNotNull() & ((exp.END_DATE >= \"2022-01-01\") | exp.END_DATE.isNull()))"
   ]
  },
  {
   "cell_type": "code",
   "execution_count": 29,
   "id": "5ed07752-83f9-4700-90e0-ee8133a7e9af",
   "metadata": {
    "execution": {
     "iopub.execute_input": "2024-02-09T18:52:45.250499Z",
     "iopub.status.busy": "2024-02-09T18:52:45.250274Z",
     "iopub.status.idle": "2024-02-09T18:52:45.285824Z",
     "shell.execute_reply": "2024-02-09T18:52:45.285175Z",
     "shell.execute_reply.started": "2024-02-09T18:52:45.250478Z"
    },
    "tags": []
   },
   "outputs": [
    {
     "data": {
      "application/vnd.jupyter.widget-view+json": {
       "model_id": "129ed62f825447fe879257f28a7a00a1",
       "version_major": 2,
       "version_minor": 0
      },
      "text/plain": [
       "VBox()"
      ]
     },
     "metadata": {},
     "output_type": "display_data"
    },
    {
     "data": {
      "application/vnd.jupyter.widget-view+json": {
       "model_id": "",
       "version_major": 2,
       "version_minor": 0
      },
      "text/plain": [
       "FloatProgress(value=0.0, bar_style='info', description='Progress:', layout=Layout(height='25px', width='50%'),…"
      ]
     },
     "metadata": {},
     "output_type": "display_data"
    }
   ],
   "source": [
    "from datetime import datetime, timedelta\n",
    "\n",
    "start_date = datetime(2021, 9, 1)\n",
    "end_date = datetime(2024, 1, 1)\n",
    "\n",
    "# Calculate the total number of months in the range\n",
    "total_months = (end_date.year - start_date.year) * 12 + end_date.month - start_date.month\n",
    "\n",
    "# Generate the list of dates\n",
    "date_list = [start_date + timedelta(days=31*i) for i in range(total_months)]\n",
    "# Adjust each date to the first of the month\n",
    "date_list = [datetime(date.year, date.month, 1) for date in date_list]\n"
   ]
  },
  {
   "cell_type": "code",
   "execution_count": 30,
   "id": "4232aa25-3df8-4f7a-805e-804ad68b086a",
   "metadata": {
    "execution": {
     "iopub.execute_input": "2024-02-09T18:52:45.287285Z",
     "iopub.status.busy": "2024-02-09T18:52:45.287063Z",
     "iopub.status.idle": "2024-02-09T18:52:46.527981Z",
     "shell.execute_reply": "2024-02-09T18:52:46.527282Z",
     "shell.execute_reply.started": "2024-02-09T18:52:45.287263Z"
    },
    "tags": []
   },
   "outputs": [
    {
     "data": {
      "application/vnd.jupyter.widget-view+json": {
       "model_id": "3b60461f23904936a92e320f291dcadf",
       "version_major": 2,
       "version_minor": 0
      },
      "text/plain": [
       "VBox()"
      ]
     },
     "metadata": {},
     "output_type": "display_data"
    },
    {
     "data": {
      "application/vnd.jupyter.widget-view+json": {
       "model_id": "",
       "version_major": 2,
       "version_minor": 0
      },
      "text/plain": [
       "FloatProgress(value=0.0, bar_style='info', description='Progress:', layout=Layout(height='25px', width='50%'),…"
      ]
     },
     "metadata": {},
     "output_type": "display_data"
    }
   ],
   "source": [
    "\n",
    "# Duplicate and append DataFrames\n",
    "all_dfs = []\n",
    "for date in date_list:\n",
    "    # Add a date column to the DataFrame\n",
    "    df_with_date = exp.withColumn(\"month\", F.lit(date.strftime(\"%Y-%m-%d\")))\n",
    "    all_dfs.append(df_with_date)\n",
    "\n",
    "# Concatenate all DataFrames\n",
    "final_df = all_dfs[0]\n",
    "for df in all_dfs[1:]:\n",
    "    final_df = final_df.union(df)"
   ]
  },
  {
   "cell_type": "code",
   "execution_count": 31,
   "id": "b66753b3-dc6c-4027-a02f-32e83e9433b5",
   "metadata": {
    "execution": {
     "iopub.execute_input": "2024-02-09T18:52:46.529347Z",
     "iopub.status.busy": "2024-02-09T18:52:46.529110Z",
     "iopub.status.idle": "2024-02-09T18:52:46.764437Z",
     "shell.execute_reply": "2024-02-09T18:52:46.763843Z",
     "shell.execute_reply.started": "2024-02-09T18:52:46.529324Z"
    },
    "tags": []
   },
   "outputs": [
    {
     "data": {
      "application/vnd.jupyter.widget-view+json": {
       "model_id": "9ba0b59269c04f489a9236c301523d9d",
       "version_major": 2,
       "version_minor": 0
      },
      "text/plain": [
       "VBox()"
      ]
     },
     "metadata": {},
     "output_type": "display_data"
    },
    {
     "data": {
      "application/vnd.jupyter.widget-view+json": {
       "model_id": "",
       "version_major": 2,
       "version_minor": 0
      },
      "text/plain": [
       "FloatProgress(value=0.0, bar_style='info', description='Progress:', layout=Layout(height='25px', width='50%'),…"
      ]
     },
     "metadata": {},
     "output_type": "display_data"
    }
   ],
   "source": [
    "## calculate title\n",
    "# Inverted mapping of title levels to their categorical ranks\n",
    "title_ranking_inverted = {\n",
    "    \"CXO\": 10,\n",
    "    \"VP\": 9,\n",
    "    \"Director\": 8,\n",
    "    \"Partner\": 7,\n",
    "    \"Owner\": 6,\n",
    "    \"Senior\": 5,\n",
    "    \"Manager\": 4,\n",
    "    \"Entry\": 3,\n",
    "    \"Training\": 2,\n",
    "    \"Unpaid\": 1\n",
    "}\n",
    "\n",
    "# Creating a new column 'title_categorical' with the inverted ranks\n",
    "rank_expr_inverted = \"case \"\n",
    "for title, rank in title_ranking_inverted.items():\n",
    "    rank_expr_inverted += f\"when TITLE_LEVELS = '{title}' then {rank} \"\n",
    "rank_expr_inverted += \"else null end\"\n",
    "\n",
    "final_df = final_df.withColumn(\"title_categorical\", F.expr(rank_expr_inverted))"
   ]
  },
  {
   "cell_type": "code",
   "execution_count": 32,
   "id": "8dab57ea-f7bd-422f-8c3c-4e6238db5b42",
   "metadata": {
    "execution": {
     "iopub.execute_input": "2024-02-09T18:52:46.765567Z",
     "iopub.status.busy": "2024-02-09T18:52:46.765353Z",
     "iopub.status.idle": "2024-02-09T18:52:47.018739Z",
     "shell.execute_reply": "2024-02-09T18:52:47.018122Z",
     "shell.execute_reply.started": "2024-02-09T18:52:46.765546Z"
    },
    "tags": []
   },
   "outputs": [
    {
     "data": {
      "application/vnd.jupyter.widget-view+json": {
       "model_id": "b7965387b0354682be7a48c2258f85f5",
       "version_major": 2,
       "version_minor": 0
      },
      "text/plain": [
       "VBox()"
      ]
     },
     "metadata": {},
     "output_type": "display_data"
    },
    {
     "data": {
      "application/vnd.jupyter.widget-view+json": {
       "model_id": "",
       "version_major": 2,
       "version_minor": 0
      },
      "text/plain": [
       "FloatProgress(value=0.0, bar_style='info', description='Progress:', layout=Layout(height='25px', width='50%'),…"
      ]
     },
     "metadata": {},
     "output_type": "display_data"
    }
   ],
   "source": [
    "# calculate tenure variable\n",
    "final_df = (final_df.filter( ((F.col(\"END_DATE\") >= F.col(\"month\")) | F.col(\"END_DATE\").isNull()) & \n",
    "                            (F.col(\"START_DATE\") <= F.col(\"month\")))\n",
    "        .withColumn(\"tenure\", F.datediff(F.col(\"month\"), F.col(\"START_DATE\"))))"
   ]
  },
  {
   "cell_type": "code",
   "execution_count": 33,
   "id": "066b990e-2a54-4637-b2e3-f09d75014b84",
   "metadata": {
    "execution": {
     "iopub.execute_input": "2024-02-09T18:52:47.020340Z",
     "iopub.status.busy": "2024-02-09T18:52:47.020124Z",
     "iopub.status.idle": "2024-02-09T18:52:47.761904Z",
     "shell.execute_reply": "2024-02-09T18:52:47.761309Z",
     "shell.execute_reply.started": "2024-02-09T18:52:47.020320Z"
    },
    "tags": []
   },
   "outputs": [
    {
     "data": {
      "application/vnd.jupyter.widget-view+json": {
       "model_id": "be61efa5cf634c43a1dc8a7bfa8b7ca0",
       "version_major": 2,
       "version_minor": 0
      },
      "text/plain": [
       "VBox()"
      ]
     },
     "metadata": {},
     "output_type": "display_data"
    },
    {
     "data": {
      "application/vnd.jupyter.widget-view+json": {
       "model_id": "",
       "version_major": 2,
       "version_minor": 0
      },
      "text/plain": [
       "FloatProgress(value=0.0, bar_style='info', description='Progress:', layout=Layout(height='25px', width='50%'),…"
      ]
     },
     "metadata": {},
     "output_type": "display_data"
    }
   ],
   "source": [
    "temp = final_df.groupBy([\"ID\", \"MONTH\"]).agg(F.sum(\"tenure\").alias(\"tenure\"), \n",
    "                                            F.max(\"title_categorical\").alias(\"title_categorical\") # highest title within month\n",
    "                                            )\n",
    "final_df = final_df.drop(\"TENURE\", \"title_categorical\").dropDuplicates(['ID', \"month\"])\n",
    "\n",
    "final_df = final_df.join(temp, on = [\"ID\", \"month\"], how = \"left\")"
   ]
  },
  {
   "cell_type": "code",
   "execution_count": 34,
   "id": "aca818e5-61f0-4008-97f7-96c93c9b7103",
   "metadata": {
    "execution": {
     "iopub.execute_input": "2024-02-09T18:52:47.763329Z",
     "iopub.status.busy": "2024-02-09T18:52:47.762989Z",
     "iopub.status.idle": "2024-02-09T18:53:31.121466Z",
     "shell.execute_reply": "2024-02-09T18:53:31.120827Z",
     "shell.execute_reply.started": "2024-02-09T18:52:47.763306Z"
    },
    "tags": []
   },
   "outputs": [
    {
     "data": {
      "application/vnd.jupyter.widget-view+json": {
       "model_id": "18e595527a5240ff8f45b889f526e03b",
       "version_major": 2,
       "version_minor": 0
      },
      "text/plain": [
       "VBox()"
      ]
     },
     "metadata": {},
     "output_type": "display_data"
    },
    {
     "data": {
      "application/vnd.jupyter.widget-view+json": {
       "model_id": "",
       "version_major": 2,
       "version_minor": 0
      },
      "text/plain": [
       "FloatProgress(value=0.0, bar_style='info', description='Progress:', layout=Layout(height='25px', width='50%'),…"
      ]
     },
     "metadata": {},
     "output_type": "display_data"
    },
    {
     "name": "stdout",
     "output_type": "stream",
     "text": [
      "Column<'to_date(2021-09-01)'>"
     ]
    }
   ],
   "source": [
    "reference_date = F.to_date(F.lit(final_df.agg(F.min(F.col(\"month\"))).collect()[0][0]))\n",
    "reference_date"
   ]
  },
  {
   "cell_type": "code",
   "execution_count": 35,
   "id": "f57d7e42-b086-4e86-8a84-06f8e5a6f6fe",
   "metadata": {
    "execution": {
     "iopub.execute_input": "2024-02-09T18:53:31.122587Z",
     "iopub.status.busy": "2024-02-09T18:53:31.122372Z",
     "iopub.status.idle": "2024-02-09T18:53:31.358142Z",
     "shell.execute_reply": "2024-02-09T18:53:31.357557Z",
     "shell.execute_reply.started": "2024-02-09T18:53:31.122566Z"
    },
    "tags": []
   },
   "outputs": [
    {
     "data": {
      "application/vnd.jupyter.widget-view+json": {
       "model_id": "820349d1e44a4be79945bbf5d73494da",
       "version_major": 2,
       "version_minor": 0
      },
      "text/plain": [
       "VBox()"
      ]
     },
     "metadata": {},
     "output_type": "display_data"
    },
    {
     "data": {
      "application/vnd.jupyter.widget-view+json": {
       "model_id": "",
       "version_major": 2,
       "version_minor": 0
      },
      "text/plain": [
       "FloatProgress(value=0.0, bar_style='info', description='Progress:', layout=Layout(height='25px', width='50%'),…"
      ]
     },
     "metadata": {},
     "output_type": "display_data"
    }
   ],
   "source": [
    "# generate t_col variable\n",
    "final_df = final_df.withColumn(\"time_col\", (F.year(F.col(\"month\")) - F.year(reference_date)) * 12 + \n",
    "                   (F.month(F.col(\"month\")) - F.month(reference_date)) + 1)\n"
   ]
  },
  {
   "cell_type": "code",
   "execution_count": 36,
   "id": "e0f2c179-0989-4526-8ac1-4acc31529225",
   "metadata": {
    "execution": {
     "iopub.execute_input": "2024-02-09T18:53:31.359230Z",
     "iopub.status.busy": "2024-02-09T18:53:31.359015Z",
     "iopub.status.idle": "2024-02-09T18:54:44.795095Z",
     "shell.execute_reply": "2024-02-09T18:54:44.794487Z",
     "shell.execute_reply.started": "2024-02-09T18:53:31.359208Z"
    },
    "tags": []
   },
   "outputs": [
    {
     "data": {
      "application/vnd.jupyter.widget-view+json": {
       "model_id": "c75d9a7dc5de44f6b182adca4bc847a7",
       "version_major": 2,
       "version_minor": 0
      },
      "text/plain": [
       "VBox()"
      ]
     },
     "metadata": {},
     "output_type": "display_data"
    },
    {
     "data": {
      "application/vnd.jupyter.widget-view+json": {
       "model_id": "",
       "version_major": 2,
       "version_minor": 0
      },
      "text/plain": [
       "FloatProgress(value=0.0, bar_style='info', description='Progress:', layout=Layout(height='25px', width='50%'),…"
      ]
     },
     "metadata": {},
     "output_type": "display_data"
    }
   ],
   "source": [
    "# Create a StringIndexer\n",
    "indexer = StringIndexer(inputCol=\"COMPANY_NAME\", outputCol=\"id_col\")\n",
    "\n",
    "# Fit the indexer to the DataFrame and transform the DataFrame\n",
    "final_df = indexer.fit(final_df).transform(final_df)"
   ]
  },
  {
   "cell_type": "code",
   "execution_count": 37,
   "id": "f4e02ede-4838-439f-b25f-0e24a3ca4330",
   "metadata": {
    "execution": {
     "iopub.execute_input": "2024-02-09T18:54:44.796898Z",
     "iopub.status.busy": "2024-02-09T18:54:44.796680Z",
     "iopub.status.idle": "2024-02-09T18:54:45.033167Z",
     "shell.execute_reply": "2024-02-09T18:54:45.032560Z",
     "shell.execute_reply.started": "2024-02-09T18:54:44.796877Z"
    },
    "tags": []
   },
   "outputs": [
    {
     "data": {
      "application/vnd.jupyter.widget-view+json": {
       "model_id": "7bb3c8003489418b9bda94899ff77896",
       "version_major": 2,
       "version_minor": 0
      },
      "text/plain": [
       "VBox()"
      ]
     },
     "metadata": {},
     "output_type": "display_data"
    },
    {
     "data": {
      "application/vnd.jupyter.widget-view+json": {
       "model_id": "",
       "version_major": 2,
       "version_minor": 0
      },
      "text/plain": [
       "FloatProgress(value=0.0, bar_style='info', description='Progress:', layout=Layout(height='25px', width='50%'),…"
      ]
     },
     "metadata": {},
     "output_type": "display_data"
    }
   ],
   "source": [
    "final_df = final_df.withColumn(\"id_col\", F.col(\"id_col\").cast(IntegerType())) # generate id_col variable"
   ]
  },
  {
   "cell_type": "code",
   "execution_count": 38,
   "id": "ecb7295f-1f11-4c34-b9b6-2939a26a5317",
   "metadata": {
    "execution": {
     "iopub.execute_input": "2024-02-09T18:54:45.034518Z",
     "iopub.status.busy": "2024-02-09T18:54:45.034291Z",
     "iopub.status.idle": "2024-02-09T19:06:00.883524Z",
     "shell.execute_reply": "2024-02-09T19:06:00.882902Z",
     "shell.execute_reply.started": "2024-02-09T18:54:45.034496Z"
    },
    "tags": []
   },
   "outputs": [
    {
     "data": {
      "application/vnd.jupyter.widget-view+json": {
       "model_id": "2a0915d39be144fa9f870587c9ff6618",
       "version_major": 2,
       "version_minor": 0
      },
      "text/plain": [
       "VBox()"
      ]
     },
     "metadata": {},
     "output_type": "display_data"
    },
    {
     "data": {
      "application/vnd.jupyter.widget-view+json": {
       "model_id": "",
       "version_major": 2,
       "version_minor": 0
      },
      "text/plain": [
       "FloatProgress(value=0.0, bar_style='info', description='Progress:', layout=Layout(height='25px', width='50%'),…"
      ]
     },
     "metadata": {},
     "output_type": "display_data"
    }
   ],
   "source": [
    "final_df.write.mode(\"overwrite\").parquet(data_dir + \"people_tenure_full.parquet\")\n",
    "\n"
   ]
  },
  {
   "cell_type": "markdown",
   "id": "1db8e51b-2d5b-4898-a733-870dbd31a8d6",
   "metadata": {},
   "source": [
    "## Calculate education"
   ]
  },
  {
   "cell_type": "code",
   "execution_count": 39,
   "id": "7061d4c0-2bfb-4731-b9e1-e576c139e90f",
   "metadata": {
    "execution": {
     "iopub.execute_input": "2024-02-09T19:06:00.884569Z",
     "iopub.status.busy": "2024-02-09T19:06:00.884355Z",
     "iopub.status.idle": "2024-02-09T19:06:01.623328Z",
     "shell.execute_reply": "2024-02-09T19:06:01.622731Z",
     "shell.execute_reply.started": "2024-02-09T19:06:00.884548Z"
    },
    "tags": []
   },
   "outputs": [
    {
     "data": {
      "application/vnd.jupyter.widget-view+json": {
       "model_id": "0f986428df4649fbab59097e61d53768",
       "version_major": 2,
       "version_minor": 0
      },
      "text/plain": [
       "VBox()"
      ]
     },
     "metadata": {},
     "output_type": "display_data"
    },
    {
     "data": {
      "application/vnd.jupyter.widget-view+json": {
       "model_id": "",
       "version_major": 2,
       "version_minor": 0
      },
      "text/plain": [
       "FloatProgress(value=0.0, bar_style='info', description='Progress:', layout=Layout(height='25px', width='50%'),…"
      ]
     },
     "metadata": {},
     "output_type": "display_data"
    }
   ],
   "source": [
    "final_df = spark.read.parquet(data_dir + \"people_tenure_full.parquet\")\n"
   ]
  },
  {
   "cell_type": "code",
   "execution_count": 40,
   "id": "53fa0412-4e7f-4169-9af0-1f2d2ec56237",
   "metadata": {
    "execution": {
     "iopub.execute_input": "2024-02-09T19:06:01.624389Z",
     "iopub.status.busy": "2024-02-09T19:06:01.624176Z",
     "iopub.status.idle": "2024-02-09T19:06:06.878842Z",
     "shell.execute_reply": "2024-02-09T19:06:06.878172Z",
     "shell.execute_reply.started": "2024-02-09T19:06:01.624369Z"
    },
    "tags": []
   },
   "outputs": [
    {
     "data": {
      "application/vnd.jupyter.widget-view+json": {
       "model_id": "3c1d3e4d2a544949b8ded68c11f1b02c",
       "version_major": 2,
       "version_minor": 0
      },
      "text/plain": [
       "VBox()"
      ]
     },
     "metadata": {},
     "output_type": "display_data"
    },
    {
     "data": {
      "application/vnd.jupyter.widget-view+json": {
       "model_id": "",
       "version_major": 2,
       "version_minor": 0
      },
      "text/plain": [
       "FloatProgress(value=0.0, bar_style='info', description='Progress:', layout=Layout(height='25px', width='50%'),…"
      ]
     },
     "metadata": {},
     "output_type": "display_data"
    }
   ],
   "source": [
    "# merge in education TODO: recalculate\n",
    "# note a person can have multiple degrees so there's ID duplicates\n",
    "edu = spark.read.option(\"multiLine\", \"true\") \\\n",
    "                .option(\"escape\", \"\\\"\") \\\n",
    "                .option(\"quote\", '\"').csv(data_ppl + \"people-edu/\", header=True)\n",
    "# edu = edu.filter(F.col(\"SCHOOL_TYPE\") == \"post-secondary institution\")\n",
    "# start and end date are missing less often than degrees, so calculate years of schooling\n",
    "edu = edu.withColumn(\"edu_days\", (F.col(\"SCHOOL_TYPE\") ==  \"post-secondary institution\").cast(IntegerType()) * F.datediff(F.col(\"END_DATE\"), F.col(\"START_DATE\")))\n",
    "edu = edu.groupBy(\"ID\").agg(F.sum(\"edu_days\").alias(\"edu_days\"))"
   ]
  },
  {
   "cell_type": "code",
   "execution_count": 42,
   "id": "d9902bc6-64b7-4820-af78-164897fca62e",
   "metadata": {
    "execution": {
     "iopub.execute_input": "2024-02-09T19:06:07.116831Z",
     "iopub.status.busy": "2024-02-09T19:06:07.116591Z",
     "iopub.status.idle": "2024-02-09T19:06:07.353364Z",
     "shell.execute_reply": "2024-02-09T19:06:07.352760Z",
     "shell.execute_reply.started": "2024-02-09T19:06:07.116808Z"
    },
    "tags": []
   },
   "outputs": [
    {
     "data": {
      "application/vnd.jupyter.widget-view+json": {
       "model_id": "31f7769b63fe4f719b14edae61e70f85",
       "version_major": 2,
       "version_minor": 0
      },
      "text/plain": [
       "VBox()"
      ]
     },
     "metadata": {},
     "output_type": "display_data"
    },
    {
     "data": {
      "application/vnd.jupyter.widget-view+json": {
       "model_id": "",
       "version_major": 2,
       "version_minor": 0
      },
      "text/plain": [
       "FloatProgress(value=0.0, bar_style='info', description='Progress:', layout=Layout(height='25px', width='50%'),…"
      ]
     },
     "metadata": {},
     "output_type": "display_data"
    }
   ],
   "source": [
    "final_df = final_df.join(edu, on = \"ID\", how = \"left\")"
   ]
  },
  {
   "cell_type": "code",
   "execution_count": 43,
   "id": "fd5e109d-35f1-44be-bc21-26516b1114fb",
   "metadata": {
    "execution": {
     "iopub.execute_input": "2024-02-09T19:06:07.354462Z",
     "iopub.status.busy": "2024-02-09T19:06:07.354215Z",
     "iopub.status.idle": "2024-02-09T19:09:59.199614Z",
     "shell.execute_reply": "2024-02-09T19:09:59.199027Z",
     "shell.execute_reply.started": "2024-02-09T19:06:07.354441Z"
    },
    "tags": []
   },
   "outputs": [
    {
     "data": {
      "application/vnd.jupyter.widget-view+json": {
       "model_id": "30bf1ce374104b388474720cc454140f",
       "version_major": 2,
       "version_minor": 0
      },
      "text/plain": [
       "VBox()"
      ]
     },
     "metadata": {},
     "output_type": "display_data"
    },
    {
     "data": {
      "application/vnd.jupyter.widget-view+json": {
       "model_id": "",
       "version_major": 2,
       "version_minor": 0
      },
      "text/plain": [
       "FloatProgress(value=0.0, bar_style='info', description='Progress:', layout=Layout(height='25px', width='50%'),…"
      ]
     },
     "metadata": {},
     "output_type": "display_data"
    }
   ],
   "source": [
    "final_df.write.mode(\"overwrite\").parquet(data_dir + \"people_tenure_full_edu.parquet\")"
   ]
  },
  {
   "cell_type": "markdown",
   "id": "4517210b-d1f1-4fea-b6f5-e1f9e75e2c78",
   "metadata": {
    "execution": {
     "iopub.execute_input": "2024-02-06T01:56:12.732346Z",
     "iopub.status.busy": "2024-02-06T01:56:12.732043Z",
     "iopub.status.idle": "2024-02-06T02:58:40.490178Z",
     "shell.execute_reply": "2024-02-06T02:58:40.489563Z",
     "shell.execute_reply.started": "2024-02-06T01:56:12.732320Z"
    },
    "jupyter": {
     "outputs_hidden": true
    },
    "tags": []
   },
   "source": [
    "### Prep for disco estimation "
   ]
  },
  {
   "cell_type": "code",
   "execution_count": 2,
   "id": "f6deaae9-27b2-4d5b-92a6-1cbfeac76d6a",
   "metadata": {
    "execution": {
     "iopub.execute_input": "2024-02-09T19:17:21.952873Z",
     "iopub.status.busy": "2024-02-09T19:17:21.952656Z",
     "iopub.status.idle": "2024-02-09T19:17:29.227070Z",
     "shell.execute_reply": "2024-02-09T19:17:29.226425Z",
     "shell.execute_reply.started": "2024-02-09T19:17:21.952850Z"
    },
    "tags": []
   },
   "outputs": [
    {
     "data": {
      "application/vnd.jupyter.widget-view+json": {
       "model_id": "670e53c0cf9a44aba75614034f56f380",
       "version_major": 2,
       "version_minor": 0
      },
      "text/plain": [
       "VBox()"
      ]
     },
     "metadata": {},
     "output_type": "display_data"
    },
    {
     "data": {
      "application/vnd.jupyter.widget-view+json": {
       "model_id": "",
       "version_major": 2,
       "version_minor": 0
      },
      "text/plain": [
       "FloatProgress(value=0.0, bar_style='info', description='Progress:', layout=Layout(height='25px', width='50%'),…"
      ]
     },
     "metadata": {},
     "output_type": "display_data"
    }
   ],
   "source": [
    "final_df = spark.read.parquet(data_dir + \"people_tenure_full_edu.parquet\")\n"
   ]
  },
  {
   "cell_type": "code",
   "execution_count": 3,
   "id": "c1ceaea1-50fd-4935-b0b4-9050f1179418",
   "metadata": {
    "execution": {
     "iopub.execute_input": "2024-02-09T19:17:29.228775Z",
     "iopub.status.busy": "2024-02-09T19:17:29.228454Z",
     "iopub.status.idle": "2024-02-09T19:17:29.474326Z",
     "shell.execute_reply": "2024-02-09T19:17:29.473687Z",
     "shell.execute_reply.started": "2024-02-09T19:17:29.228739Z"
    },
    "tags": []
   },
   "outputs": [
    {
     "data": {
      "application/vnd.jupyter.widget-view+json": {
       "model_id": "42da46cb3d07452997935041f9d1ee85",
       "version_major": 2,
       "version_minor": 0
      },
      "text/plain": [
       "VBox()"
      ]
     },
     "metadata": {},
     "output_type": "display_data"
    },
    {
     "data": {
      "application/vnd.jupyter.widget-view+json": {
       "model_id": "",
       "version_major": 2,
       "version_minor": 0
      },
      "text/plain": [
       "FloatProgress(value=0.0, bar_style='info', description='Progress:', layout=Layout(height='25px', width='50%'),…"
      ]
     },
     "metadata": {},
     "output_type": "display_data"
    }
   ],
   "source": [
    "final_df = final_df.withColumn(\"rto_ever\", \n",
    "                         F.when( (F.col(\"office_requirements\").isin([\"Employee's choice\", \"Fully remote\"]) \n",
    "                                 ), 0).otherwise(F.when(F.col(\"office_requirements\").isNull() | (F.isnan(\"office_requirements\")),\n",
    "                                                       F.lit(None)).otherwise(1))\n",
    "                        )\n"
   ]
  },
  {
   "cell_type": "code",
   "execution_count": 4,
   "id": "47fc1021-b7e9-43ef-8346-c44e2f47f2a8",
   "metadata": {
    "execution": {
     "iopub.execute_input": "2024-02-09T19:17:29.475674Z",
     "iopub.status.busy": "2024-02-09T19:17:29.475463Z",
     "iopub.status.idle": "2024-02-09T19:17:29.713919Z",
     "shell.execute_reply": "2024-02-09T19:17:29.713319Z",
     "shell.execute_reply.started": "2024-02-09T19:17:29.475654Z"
    },
    "tags": []
   },
   "outputs": [
    {
     "data": {
      "application/vnd.jupyter.widget-view+json": {
       "model_id": "d10df9e696a64dbba3d3fb09057fe6f6",
       "version_major": 2,
       "version_minor": 0
      },
      "text/plain": [
       "VBox()"
      ]
     },
     "metadata": {},
     "output_type": "display_data"
    },
    {
     "data": {
      "application/vnd.jupyter.widget-view+json": {
       "model_id": "",
       "version_major": 2,
       "version_minor": 0
      },
      "text/plain": [
       "FloatProgress(value=0.0, bar_style='info', description='Progress:', layout=Layout(height='25px', width='50%'),…"
      ]
     },
     "metadata": {},
     "output_type": "display_data"
    }
   ],
   "source": [
    "test = final_df.withColumn(\"rto_ever\", F.when((F.col(\"RTO_date_manual\") == \"never\") & \n",
    "                                            (F.col(\"rto_ever\") != 1), 0)\n",
    "                               .otherwise(F.when((~F.col(\"RTO_date_manual\").isin([\"never\", \"missing\"]) | \n",
    "                                                   (F.col(\"RTO_date_manual\").isNotNull())) & \n",
    "                                                  ((F.col(\"rto_ever\") != 0) | (F.col(\"rto_ever\").isNull())), 1)\n",
    "                                                 .otherwise(F.col(\"rto_ever\"))))\n"
   ]
  },
  {
   "cell_type": "code",
   "execution_count": 5,
   "id": "c064cafe-948a-4d4c-be7f-a69d193eacca",
   "metadata": {
    "execution": {
     "iopub.execute_input": "2024-02-09T19:17:29.715014Z",
     "iopub.status.busy": "2024-02-09T19:17:29.714798Z",
     "iopub.status.idle": "2024-02-09T19:17:32.970742Z",
     "shell.execute_reply": "2024-02-09T19:17:32.970111Z",
     "shell.execute_reply.started": "2024-02-09T19:17:29.714992Z"
    },
    "tags": []
   },
   "outputs": [
    {
     "data": {
      "application/vnd.jupyter.widget-view+json": {
       "model_id": "1c3d47a90e984bfd814628d2fb84108c",
       "version_major": 2,
       "version_minor": 0
      },
      "text/plain": [
       "VBox()"
      ]
     },
     "metadata": {},
     "output_type": "display_data"
    },
    {
     "data": {
      "application/vnd.jupyter.widget-view+json": {
       "model_id": "",
       "version_major": 2,
       "version_minor": 0
      },
      "text/plain": [
       "FloatProgress(value=0.0, bar_style='info', description='Progress:', layout=Layout(height='25px', width='50%'),…"
      ]
     },
     "metadata": {},
     "output_type": "display_data"
    }
   ],
   "source": [
    "fn = data_ppl + \"company-data-and-insights/data_0_0_10.csv.gz\"\n",
    "temp = pd.read_csv(fn)\n",
    "schem = spark.createDataFrame(temp)"
   ]
  },
  {
   "cell_type": "code",
   "execution_count": 6,
   "id": "9c304cc9-8a0b-405c-abbe-cc484eb6cb81",
   "metadata": {
    "execution": {
     "iopub.execute_input": "2024-02-09T19:17:32.971811Z",
     "iopub.status.busy": "2024-02-09T19:17:32.971599Z",
     "iopub.status.idle": "2024-02-09T19:17:33.709990Z",
     "shell.execute_reply": "2024-02-09T19:17:33.709391Z",
     "shell.execute_reply.started": "2024-02-09T19:17:32.971790Z"
    },
    "tags": []
   },
   "outputs": [
    {
     "data": {
      "application/vnd.jupyter.widget-view+json": {
       "model_id": "4460d89a99f44e1486ceab92831ed885",
       "version_major": 2,
       "version_minor": 0
      },
      "text/plain": [
       "VBox()"
      ]
     },
     "metadata": {},
     "output_type": "display_data"
    },
    {
     "data": {
      "application/vnd.jupyter.widget-view+json": {
       "model_id": "",
       "version_major": 2,
       "version_minor": 0
      },
      "text/plain": [
       "FloatProgress(value=0.0, bar_style='info', description='Progress:', layout=Layout(height='25px', width='50%'),…"
      ]
     },
     "metadata": {},
     "output_type": "display_data"
    }
   ],
   "source": [
    "# Adjust the read statement to handle multi-line fields correctly\n",
    "comp = spark.read.option(\"header\", \"true\") \\\n",
    "               .option(\"multiLine\", \"true\") \\\n",
    "                .option(\"escape\", \"\\\"\") \\\n",
    "                .option(\"quote\", '\"') \\\n",
    "               .csv(data_ppl + \"company-data-and-insights/\", schema=schem.schema)\n",
    "\n",
    "comp = comp.dropDuplicates() # there are a bunch of identical duplicates"
   ]
  },
  {
   "cell_type": "code",
   "execution_count": 7,
   "id": "b2dc1f4b-631b-4e8a-9626-e058d8cbd1b0",
   "metadata": {
    "execution": {
     "iopub.execute_input": "2024-02-09T19:17:33.711174Z",
     "iopub.status.busy": "2024-02-09T19:17:33.710952Z",
     "iopub.status.idle": "2024-02-09T19:17:33.946585Z",
     "shell.execute_reply": "2024-02-09T19:17:33.945990Z",
     "shell.execute_reply.started": "2024-02-09T19:17:33.711153Z"
    },
    "tags": []
   },
   "outputs": [
    {
     "data": {
      "application/vnd.jupyter.widget-view+json": {
       "model_id": "fc064c2b4dd449d6999cd4e4933cd82c",
       "version_major": 2,
       "version_minor": 0
      },
      "text/plain": [
       "VBox()"
      ]
     },
     "metadata": {},
     "output_type": "display_data"
    },
    {
     "data": {
      "application/vnd.jupyter.widget-view+json": {
       "model_id": "",
       "version_major": 2,
       "version_minor": 0
      },
      "text/plain": [
       "FloatProgress(value=0.0, bar_style='info', description='Progress:', layout=Layout(height='25px', width='50%'),…"
      ]
     },
     "metadata": {},
     "output_type": "display_data"
    }
   ],
   "source": [
    "# I checked and this is a one-to-one match\n",
    "test = test.join(comp.select(\"ID\", \"NAICS\"), on = test.COMPANY_ID == comp.ID, how=\"left\")"
   ]
  },
  {
   "cell_type": "code",
   "execution_count": 8,
   "id": "25909e27-d76c-4829-bc5e-5b0c45b231fd",
   "metadata": {
    "execution": {
     "iopub.execute_input": "2024-02-09T19:17:33.948316Z",
     "iopub.status.busy": "2024-02-09T19:17:33.948102Z",
     "iopub.status.idle": "2024-02-09T19:17:34.183980Z",
     "shell.execute_reply": "2024-02-09T19:17:34.183384Z",
     "shell.execute_reply.started": "2024-02-09T19:17:33.948294Z"
    },
    "tags": []
   },
   "outputs": [
    {
     "data": {
      "application/vnd.jupyter.widget-view+json": {
       "model_id": "dfb6853aeafb4fcaaf4155cae378e1e9",
       "version_major": 2,
       "version_minor": 0
      },
      "text/plain": [
       "VBox()"
      ]
     },
     "metadata": {},
     "output_type": "display_data"
    },
    {
     "data": {
      "application/vnd.jupyter.widget-view+json": {
       "model_id": "",
       "version_major": 2,
       "version_minor": 0
      },
      "text/plain": [
       "FloatProgress(value=0.0, bar_style='info', description='Progress:', layout=Layout(height='25px', width='50%'),…"
      ]
     },
     "metadata": {},
     "output_type": "display_data"
    }
   ],
   "source": [
    "test = test.filter( ((F.col(\"RTO_date_manual\") != \"missing\") & (F.col(\"RTO_date_manual\").isNotNull())) | \n",
    "                   (F.col(\"rto_ever\") ==  0))"
   ]
  },
  {
   "cell_type": "code",
   "execution_count": 10,
   "id": "3244ccf4-9bdf-4a73-84b5-254c78fd1a7e",
   "metadata": {
    "execution": {
     "iopub.execute_input": "2024-02-09T20:08:43.735672Z",
     "iopub.status.busy": "2024-02-09T20:08:43.735368Z",
     "iopub.status.idle": "2024-02-09T20:08:43.971088Z",
     "shell.execute_reply": "2024-02-09T20:08:43.970512Z",
     "shell.execute_reply.started": "2024-02-09T20:08:43.735646Z"
    }
   },
   "outputs": [
    {
     "data": {
      "application/vnd.jupyter.widget-view+json": {
       "model_id": "f5f6e2f47d194955b0e155d8181b13f6",
       "version_major": 2,
       "version_minor": 0
      },
      "text/plain": [
       "VBox()"
      ]
     },
     "metadata": {},
     "output_type": "display_data"
    },
    {
     "data": {
      "application/vnd.jupyter.widget-view+json": {
       "model_id": "",
       "version_major": 2,
       "version_minor": 0
      },
      "text/plain": [
       "FloatProgress(value=0.0, bar_style='info', description='Progress:', layout=Layout(height='25px', width='50%'),…"
      ]
     },
     "metadata": {},
     "output_type": "display_data"
    }
   ],
   "source": [
    "test = test.withColumn(\"tenure\", F.col(\"tenure\").cast(IntegerType()))"
   ]
  },
  {
   "cell_type": "code",
   "execution_count": 11,
   "id": "397cc311-aadf-4e0b-943b-2276d06a832b",
   "metadata": {
    "execution": {
     "iopub.execute_input": "2024-02-09T20:08:43.972331Z",
     "iopub.status.busy": "2024-02-09T20:08:43.972115Z",
     "iopub.status.idle": "2024-02-09T20:15:34.238778Z",
     "shell.execute_reply": "2024-02-09T20:15:34.238131Z",
     "shell.execute_reply.started": "2024-02-09T20:08:43.972310Z"
    },
    "tags": []
   },
   "outputs": [
    {
     "data": {
      "application/vnd.jupyter.widget-view+json": {
       "model_id": "9ce8b57545cc4c2eab7ea1ac12936c42",
       "version_major": 2,
       "version_minor": 0
      },
      "text/plain": [
       "VBox()"
      ]
     },
     "metadata": {},
     "output_type": "display_data"
    },
    {
     "data": {
      "application/vnd.jupyter.widget-view+json": {
       "model_id": "",
       "version_major": 2,
       "version_minor": 0
      },
      "text/plain": [
       "FloatProgress(value=0.0, bar_style='info', description='Progress:', layout=Layout(height='25px', width='50%'),…"
      ]
     },
     "metadata": {},
     "output_type": "display_data"
    }
   ],
   "source": [
    "test.select(\"tenure\", \"time_col\", \"id_col\", \"month\", \"COMPANY_NAME\", \"RTO_date_manual\", \"edu_days\", \"title_categorical\",\n",
    "           \"NAICS\").write.mode(\"overwrite\").parquet(data_dir + \"people_tenure_prepped\")\n"
   ]
  },
  {
   "cell_type": "code",
   "execution_count": null,
   "id": "d4fd84bf-5670-402e-b68b-3625169a0ac2",
   "metadata": {},
   "outputs": [],
   "source": []
  },
  {
   "cell_type": "code",
   "execution_count": 80,
   "id": "07abcf88-56d7-4e95-9894-87f178ca88e7",
   "metadata": {
    "execution": {
     "iopub.execute_input": "2024-02-09T03:44:40.512472Z",
     "iopub.status.busy": "2024-02-09T03:44:40.512243Z",
     "iopub.status.idle": "2024-02-09T03:49:26.489791Z",
     "shell.execute_reply": "2024-02-09T03:49:26.489103Z",
     "shell.execute_reply.started": "2024-02-09T03:44:40.512450Z"
    },
    "tags": []
   },
   "outputs": [
    {
     "data": {
      "application/vnd.jupyter.widget-view+json": {
       "model_id": "0cc9c1bdb37b412e92aba59453e53a82",
       "version_major": 2,
       "version_minor": 0
      },
      "text/plain": [
       "VBox()"
      ]
     },
     "metadata": {},
     "output_type": "display_data"
    },
    {
     "data": {
      "application/vnd.jupyter.widget-view+json": {
       "model_id": "",
       "version_major": 2,
       "version_minor": 0
      },
      "text/plain": [
       "FloatProgress(value=0.0, bar_style='info', description='Progress:', layout=Layout(height='25px', width='50%'),…"
      ]
     },
     "metadata": {},
     "output_type": "display_data"
    }
   ],
   "source": [
    "test.select(\"tenure\", \"time_col\", \"id_col\", \"month\", \"COMPANY_NAME\", \"RTO_date_manual\", \"edu_days\", \"title_categorical\",\n",
    "           \"NAICS\").write.mode(\"overwrite\").option(\"compression\", \"gzip\").csv(data_dir + \"people_tenure_prepped_disco\", header=True)"
   ]
  }
 ],
 "metadata": {
  "kernelspec": {
   "display_name": "PySpark",
   "language": "python",
   "name": "pysparkkernel"
  },
  "language_info": {
   "codemirror_mode": {
    "name": "python",
    "version": 3
   },
   "file_extension": ".py",
   "mimetype": "text/x-python",
   "name": "pyspark",
   "pygments_lexer": "python3"
  }
 },
 "nbformat": 4,
 "nbformat_minor": 5
}
