{
 "cells": [
  {
   "cell_type": "code",
   "execution_count": 1,
   "id": "ca3fd0eb-068c-41e6-ad7e-752f8fe9619e",
   "metadata": {
    "execution": {
     "iopub.execute_input": "2024-01-31T17:36:18.929020Z",
     "iopub.status.busy": "2024-01-31T17:36:18.928711Z",
     "iopub.status.idle": "2024-01-31T17:37:54.408551Z",
     "shell.execute_reply": "2024-01-31T17:37:54.407876Z",
     "shell.execute_reply.started": "2024-01-31T17:36:18.928996Z"
    },
    "tags": []
   },
   "outputs": [
    {
     "data": {
      "application/vnd.jupyter.widget-view+json": {
       "model_id": "63ff660c5cd6442f8ab14ed5e848b7b0",
       "version_major": 2,
       "version_minor": 0
      },
      "text/plain": [
       "VBox()"
      ]
     },
     "metadata": {},
     "output_type": "display_data"
    },
    {
     "name": "stdout",
     "output_type": "stream",
     "text": [
      "Starting Spark application\n"
     ]
    },
    {
     "data": {
      "text/html": [
       "<table>\n<tbody><tr><th>ID</th><th>YARN Application ID</th><th>Kind</th><th>State</th><th>Spark UI</th><th>Driver log</th><th>User</th><th>Current session?</th></tr><tr><td>2</td><td>application_1706716884988_0003</td><td>pyspark</td><td>idle</td><td><a target=\"_blank\" href=\"http://ip-172-31-42-115.ec2.internal:20888/proxy/application_1706716884988_0003/\" class=\"emr-proxy-link j-2JOISUOL5J7X2 application_1706716884988_0003\" emr-resource=\"j-2JOISUOL5J7X2\n\" application-id=\"application_1706716884988_0003\">Link</a></td><td><a target=\"_blank\" href=\"http://ip-172-31-32-164.ec2.internal:8042/node/containerlogs/container_1706716884988_0003_01_000001/livy\">Link</a></td><td>None</td><td>✔</td></tr></tbody></table>"
      ],
      "text/plain": [
       "<IPython.core.display.HTML object>"
      ]
     },
     "metadata": {},
     "output_type": "display_data"
    },
    {
     "data": {
      "application/vnd.jupyter.widget-view+json": {
       "model_id": "",
       "version_major": 2,
       "version_minor": 0
      },
      "text/plain": [
       "FloatProgress(value=0.0, bar_style='info', description='Progress:', layout=Layout(height='25px', width='50%'),…"
      ]
     },
     "metadata": {},
     "output_type": "display_data"
    },
    {
     "name": "stdout",
     "output_type": "stream",
     "text": [
      "SparkSession available as 'spark'.\n"
     ]
    },
    {
     "data": {
      "application/vnd.jupyter.widget-view+json": {
       "model_id": "",
       "version_major": 2,
       "version_minor": 0
      },
      "text/plain": [
       "FloatProgress(value=0.0, bar_style='info', description='Progress:', layout=Layout(height='25px', width='50%'),…"
      ]
     },
     "metadata": {},
     "output_type": "display_data"
    }
   ],
   "source": [
    "import os\n",
    "import requests\n",
    "import pandas as pd\n",
    "import numpy as np \n",
    "import boto3\n",
    "\n",
    "bsdir = \"s3://ipsos-dvd/\"\n",
    "data_dir = bsdir + \"ppl/data/\"\n",
    "data_ppl = \"s3://external-people-data-labs/\"\n",
    "\n",
    "\n",
    "from pyspark import SparkContext\n",
    "from pyspark.ml.feature import StringIndexer\n",
    "\n",
    "\n",
    "from pyspark.sql import SQLContext, SparkSession\n",
    "from pyspark.sql.window import Window\n",
    "from pyspark.sql.types import (\n",
    "    StructType,\n",
    "    LongType,\n",
    "    StructField,\n",
    "    IntegerType,\n",
    "    StringType,\n",
    "    DoubleType,\n",
    "    TimestampType,\n",
    "    ArrayType,\n",
    "    MapType\n",
    ")\n",
    "import pyspark.sql.functions as F\n"
   ]
  },
  {
   "cell_type": "markdown",
   "id": "695086b4-2988-4ed9-b1ac-38445defe1b1",
   "metadata": {},
   "source": [
    "## Play with company data"
   ]
  },
  {
   "cell_type": "code",
   "execution_count": 6,
   "id": "bdaad1f1-24d1-4a28-931d-c1fa17058189",
   "metadata": {
    "execution": {
     "iopub.execute_input": "2024-01-31T17:41:08.047855Z",
     "iopub.status.busy": "2024-01-31T17:41:08.047556Z",
     "iopub.status.idle": "2024-01-31T17:41:11.307026Z",
     "shell.execute_reply": "2024-01-31T17:41:11.306279Z",
     "shell.execute_reply.started": "2024-01-31T17:41:08.047830Z"
    },
    "tags": []
   },
   "outputs": [
    {
     "data": {
      "application/vnd.jupyter.widget-view+json": {
       "model_id": "e5b4534560e64614a9fe447952a476e6",
       "version_major": 2,
       "version_minor": 0
      },
      "text/plain": [
       "VBox()"
      ]
     },
     "metadata": {},
     "output_type": "display_data"
    },
    {
     "data": {
      "application/vnd.jupyter.widget-view+json": {
       "model_id": "",
       "version_major": 2,
       "version_minor": 0
      },
      "text/plain": [
       "FloatProgress(value=0.0, bar_style='info', description='Progress:', layout=Layout(height='25px', width='50%'),…"
      ]
     },
     "metadata": {},
     "output_type": "display_data"
    }
   ],
   "source": [
    "# try with this option\n",
    "# .option(\"quote\", \"\\\"\")\n",
    "# .option(\"escape\", \"\\\"\")\n",
    "\n",
    "comp = spark.read.option(\"quote\", \"\\\"\").option(\"escape\", \"\\\"\").csv(data_ppl + \"company-data-and-insights\", header=True) # this is necessary because the fields contain \",\" as well but dont have quotes around them\n"
   ]
  },
  {
   "cell_type": "code",
   "execution_count": 15,
   "id": "7c0f88e5-84be-4897-9a29-5b1550e9ac63",
   "metadata": {
    "collapsed": true,
    "execution": {
     "iopub.execute_input": "2024-01-31T16:57:15.047975Z",
     "iopub.status.busy": "2024-01-31T16:57:15.047636Z",
     "iopub.status.idle": "2024-01-31T17:08:40.405423Z",
     "shell.execute_reply": "2024-01-31T17:08:40.404731Z",
     "shell.execute_reply.started": "2024-01-31T16:57:15.047949Z"
    },
    "jupyter": {
     "outputs_hidden": true
    },
    "tags": []
   },
   "outputs": [
    {
     "data": {
      "application/vnd.jupyter.widget-view+json": {
       "model_id": "67c3831e06a445b38ab85ee42b776d59",
       "version_major": 2,
       "version_minor": 0
      },
      "text/plain": [
       "VBox()"
      ]
     },
     "metadata": {},
     "output_type": "display_data"
    },
    {
     "data": {
      "application/vnd.jupyter.widget-view+json": {
       "model_id": "",
       "version_major": 2,
       "version_minor": 0
      },
      "text/plain": [
       "FloatProgress(value=0.0, bar_style='info', description='Progress:', layout=Layout(height='25px', width='50%'),…"
      ]
     },
     "metadata": {},
     "output_type": "display_data"
    }
   ],
   "source": [
    "# comp = (sqlContext.read.format('com.databricks.spark.csv')\n",
    "#          .options(header='true', inferschema='true')\n",
    "#          .option('escape','\"')\n",
    "#         .load(data_ppl + \"company-data-and-insights//*.gz\")) # this is necessary because the fields contain \",\" as well but dont have quotes around them\n"
   ]
  },
  {
   "cell_type": "code",
   "execution_count": 8,
   "id": "8df0a5c8-ef58-4765-bd08-e760f2328922",
   "metadata": {
    "execution": {
     "iopub.execute_input": "2024-01-31T17:42:08.789641Z",
     "iopub.status.busy": "2024-01-31T17:42:08.789329Z",
     "iopub.status.idle": "2024-01-31T17:42:09.027994Z",
     "shell.execute_reply": "2024-01-31T17:42:09.027369Z",
     "shell.execute_reply.started": "2024-01-31T17:42:08.789616Z"
    },
    "tags": []
   },
   "outputs": [
    {
     "data": {
      "application/vnd.jupyter.widget-view+json": {
       "model_id": "8710e6fc53f44c56b7a8ba96c6571fde",
       "version_major": 2,
       "version_minor": 0
      },
      "text/plain": [
       "VBox()"
      ]
     },
     "metadata": {},
     "output_type": "display_data"
    },
    {
     "data": {
      "application/vnd.jupyter.widget-view+json": {
       "model_id": "",
       "version_major": 2,
       "version_minor": 0
      },
      "text/plain": [
       "FloatProgress(value=0.0, bar_style='info', description='Progress:', layout=Layout(height='25px', width='50%'),…"
      ]
     },
     "metadata": {},
     "output_type": "display_data"
    }
   ],
   "source": [
    "# additions-departures over time\n",
    "\n",
    "# json_schema = MapType(StringType(), IntegerType())\n",
    "# json_schema = spark.read.json(comp.rdd.map(lambda row: row.GROSS_ADDITIONS_BY_MONTH)).schema\n",
    "\n",
    "# Define a UDF to parse JSON and extract values\n",
    "def parse_json_to_array(json_str):\n",
    "    try:\n",
    "        json_obj = json.loads(json_str)\n",
    "        return list(json_obj.values())\n",
    "    except:\n",
    "        return None\n",
    "    \n",
    "parse_udf = F.udf(parse_json_to_array, ArrayType(IntegerType()))\n",
    "\n",
    "\n",
    "\n",
    "comp = comp.withColumn(\"GROSS_ADDITIONS_BY_MONTH\", parse_udf(F.col(\"GROSS_ADDITIONS_BY_MONTH\")))\n",
    "# comp = comp.withColumn(\"GROSS_DEPARTURES_BY_MONTH\",  F.map_values(F.from_json(comp[\"GROSS_DEPARTURES_BY_MONTH\"], json_schema)))\n",
    "\n",
    "# churn = comp.select(\"GROSS_ADDITIONS_BY_MONTH\", \"GROSS_DEPARTURES_BY_MONTH\", \"ID\")\n",
    "\n",
    "# churn = (churn.withColumn(\"tmp\", F.arrays_zip(\"GROSS_ADDITIONS_BY_MONTH\", \"GROSS_DEPARTURES_BY_MONTH\"))\n",
    "#     .withColumn(\"tmp\", )\n",
    "#     .withColumn(\"tmp\", F.explode(\"tmp\"))\n",
    "#     .select(\"ID\", F.col(\"tmp.GROSS_DEPARTURES_BY_MONTH\"), F.col(\"tmp.GROSS_ADDITIONS_BY_MONTH\")))\n"
   ]
  },
  {
   "cell_type": "code",
   "execution_count": 10,
   "id": "bb08d6ca-cc1f-4f72-bab9-107eac0da124",
   "metadata": {
    "execution": {
     "iopub.execute_input": "2024-01-31T17:42:18.349113Z",
     "iopub.status.busy": "2024-01-31T17:42:18.348781Z",
     "iopub.status.idle": "2024-01-31T17:42:20.609429Z",
     "shell.execute_reply": "2024-01-31T17:42:20.608679Z",
     "shell.execute_reply.started": "2024-01-31T17:42:18.349086Z"
    },
    "tags": []
   },
   "outputs": [
    {
     "data": {
      "application/vnd.jupyter.widget-view+json": {
       "model_id": "b4bf2d8a6e44410889e1beec39380fb2",
       "version_major": 2,
       "version_minor": 0
      },
      "text/plain": [
       "VBox()"
      ]
     },
     "metadata": {},
     "output_type": "display_data"
    },
    {
     "data": {
      "application/vnd.jupyter.widget-view+json": {
       "model_id": "",
       "version_major": 2,
       "version_minor": 0
      },
      "text/plain": [
       "FloatProgress(value=0.0, bar_style='info', description='Progress:', layout=Layout(height='25px', width='50%'),…"
      ]
     },
     "metadata": {},
     "output_type": "display_data"
    },
    {
     "name": "stdout",
     "output_type": "stream",
     "text": [
      "+------------------------+\n",
      "|GROSS_ADDITIONS_BY_MONTH|\n",
      "+------------------------+\n",
      "|                    null|\n",
      "|                    null|\n",
      "|                    null|\n",
      "|                    null|\n",
      "|                    null|\n",
      "|                    null|\n",
      "|                    null|\n",
      "|                    null|\n",
      "|                    null|\n",
      "|                    null|\n",
      "|                    null|\n",
      "|                    null|\n",
      "|                    null|\n",
      "|                    null|\n",
      "|                    null|\n",
      "|                    null|\n",
      "|                    null|\n",
      "|                    null|\n",
      "|                    null|\n",
      "|                    null|\n",
      "+------------------------+\n",
      "only showing top 20 rows"
     ]
    }
   ],
   "source": [
    "comp.select(\"GROSS_ADDITIONS_BY_MONTH\").show()"
   ]
  },
  {
   "cell_type": "code",
   "execution_count": null,
   "id": "2ad80885-d936-414e-9839-796f849eb1f2",
   "metadata": {},
   "outputs": [],
   "source": [
    "\n",
    "comp = comp.withColumn(\"GROSS_ADDITIONS_BY_MONTH\", F.from_json(\"GROSS_ADDITIONS_BY_MONTH\"))\n",
    "comp = comp.withColumn(\"GROSS_DEPARTURES_BY_MONTH\", F.from_json(\"GROSS_DEPARTURES_BY_MONTH\"))"
   ]
  },
  {
   "cell_type": "code",
   "execution_count": null,
   "id": "087cf4a1-2743-42a2-85fe-9d294a6471d4",
   "metadata": {
    "tags": []
   },
   "outputs": [],
   "source": [
    "comp.select(\"GROSS_ADDITIONS_BY_MONTH\").show(200)"
   ]
  },
  {
   "cell_type": "code",
   "execution_count": 31,
   "id": "38985e61-dbc2-4c19-95c0-540b3b28c3de",
   "metadata": {
    "execution": {
     "iopub.execute_input": "2024-01-31T17:24:06.541483Z",
     "iopub.status.busy": "2024-01-31T17:24:06.541153Z",
     "iopub.status.idle": "2024-01-31T17:24:06.786548Z",
     "shell.execute_reply": "2024-01-31T17:24:06.785809Z",
     "shell.execute_reply.started": "2024-01-31T17:24:06.541456Z"
    },
    "tags": []
   },
   "outputs": [
    {
     "data": {
      "application/vnd.jupyter.widget-view+json": {
       "model_id": "95338e34ec174661ad3820033988e6c1",
       "version_major": 2,
       "version_minor": 0
      },
      "text/plain": [
       "VBox()"
      ]
     },
     "metadata": {},
     "output_type": "display_data"
    },
    {
     "data": {
      "application/vnd.jupyter.widget-view+json": {
       "model_id": "",
       "version_major": 2,
       "version_minor": 0
      },
      "text/plain": [
       "FloatProgress(value=0.0, bar_style='info', description='Progress:', layout=Layout(height='25px', width='50%'),…"
      ]
     },
     "metadata": {},
     "output_type": "display_data"
    }
   ],
   "source": [
    "temp = comp.limit(10).toPandas()"
   ]
  },
  {
   "cell_type": "code",
   "execution_count": 32,
   "id": "76e9d769-f242-4909-bc1e-77de44fa5886",
   "metadata": {
    "execution": {
     "iopub.execute_input": "2024-01-31T17:24:06.976309Z",
     "iopub.status.busy": "2024-01-31T17:24:06.975972Z",
     "iopub.status.idle": "2024-01-31T17:24:07.221900Z",
     "shell.execute_reply": "2024-01-31T17:24:07.221127Z",
     "shell.execute_reply.started": "2024-01-31T17:24:06.976278Z"
    },
    "tags": []
   },
   "outputs": [
    {
     "data": {
      "application/vnd.jupyter.widget-view+json": {
       "model_id": "8af7b220088244319f577c888a567314",
       "version_major": 2,
       "version_minor": 0
      },
      "text/plain": [
       "VBox()"
      ]
     },
     "metadata": {},
     "output_type": "display_data"
    },
    {
     "data": {
      "application/vnd.jupyter.widget-view+json": {
       "model_id": "",
       "version_major": 2,
       "version_minor": 0
      },
      "text/plain": [
       "FloatProgress(value=0.0, bar_style='info', description='Progress:', layout=Layout(height='25px', width='50%'),…"
      ]
     },
     "metadata": {},
     "output_type": "display_data"
    },
    {
     "name": "stdout",
     "output_type": "stream",
     "text": [
      "                                     NAME  ...                         TOP_NEXT_EMPLOYERS_BY_ROLE\n",
      "0                         pga outsourcing  ...  \"{\\\"all\\\":{\\\"bennett-thrasher\\\":1,\\\"ernstandyo...\n",
      "1          swimming pools by jack anthony  ...  \"{\\\"all\\\":{\\\"cyclomedia\\\":1,\\\"holland-bloorvie...\n",
      "2                                 dynalco  ...  \"{\\\"all\\\":{\\\"compressor-engineering-corporatio...\n",
      "3                              kubo cloud  ...                                               None\n",
      "4  we believe in the opensource community  ...                                               None\n",
      "\n",
      "[5 rows x 46 columns]"
     ]
    }
   ],
   "source": [
    "temp.head()"
   ]
  },
  {
   "cell_type": "code",
   "execution_count": 21,
   "id": "8a6898ab-924c-4c5f-9c3d-fa8a6112b0c9",
   "metadata": {
    "execution": {
     "iopub.execute_input": "2024-01-31T17:09:51.599638Z",
     "iopub.status.busy": "2024-01-31T17:09:51.599309Z",
     "iopub.status.idle": "2024-01-31T17:09:51.639966Z",
     "shell.execute_reply": "2024-01-31T17:09:51.639241Z",
     "shell.execute_reply.started": "2024-01-31T17:09:51.599612Z"
    },
    "tags": []
   },
   "outputs": [
    {
     "data": {
      "application/vnd.jupyter.widget-view+json": {
       "model_id": "ef3bf282f2e041079d1282101f5a0e05",
       "version_major": 2,
       "version_minor": 0
      },
      "text/plain": [
       "VBox()"
      ]
     },
     "metadata": {},
     "output_type": "display_data"
    },
    {
     "data": {
      "application/vnd.jupyter.widget-view+json": {
       "model_id": "",
       "version_major": 2,
       "version_minor": 0
      },
      "text/plain": [
       "FloatProgress(value=0.0, bar_style='info', description='Progress:', layout=Layout(height='25px', width='50%'),…"
      ]
     },
     "metadata": {},
     "output_type": "display_data"
    },
    {
     "name": "stdout",
     "output_type": "stream",
     "text": [
      "0    \"{\\\"2011-11\\\":1,\\\"2011-12\\\":0,\\\"2012-01\\\":0,\\\"...\n",
      "1    \"{\\\"2013-07\\\":1,\\\"2013-08\\\":0,\\\"2013-09\\\":0,\\\"...\n",
      "2    \"{\\\"2010-03\\\":1,\\\"2010-04\\\":0,\\\"2010-05\\\":0,\\\"...\n",
      "3                                                 None\n",
      "4                                                 None\n",
      "5                                    \"{\\\"2023-07\\\":0}\"\n",
      "6                                    \"{\\\"2023-07\\\":0}\"\n",
      "7    \"{\\\"2010-09\\\":1,\\\"2010-10\\\":0,\\\"2010-11\\\":0,\\\"...\n",
      "8    \"{\\\"2012-07\\\":2,\\\"2012-08\\\":0,\\\"2012-09\\\":0,\\\"...\n",
      "9                                                 None\n",
      "Name: GROSS_DEPARTURES_BY_MONTH, dtype: object"
     ]
    }
   ],
   "source": [
    "temp['GROSS_DEPARTURES_BY_MONTH']"
   ]
  },
  {
   "cell_type": "code",
   "execution_count": null,
   "id": "1cabf117-ed0b-4319-a7bd-9229d3f6be67",
   "metadata": {},
   "outputs": [],
   "source": []
  }
 ],
 "metadata": {
  "kernelspec": {
   "display_name": "PySpark",
   "language": "python",
   "name": "pysparkkernel"
  },
  "language_info": {
   "codemirror_mode": {
    "name": "python",
    "version": 3
   },
   "file_extension": ".py",
   "mimetype": "text/x-python",
   "name": "pyspark",
   "pygments_lexer": "python3"
  }
 },
 "nbformat": 4,
 "nbformat_minor": 5
}
